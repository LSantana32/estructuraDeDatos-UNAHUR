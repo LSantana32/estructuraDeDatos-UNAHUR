{
  "cells": [
    {
      "cell_type": "markdown",
      "metadata": {
        "id": "view-in-github",
        "colab_type": "text"
      },
      "source": [
        "<a href=\"https://colab.research.google.com/github/LSantana32/estructuraDeDatos-UNAHUR/blob/main/Copia_de_Trabajo_practico_4_Arreglos_com1.ipynb\" target=\"_parent\"><img src=\"https://colab.research.google.com/assets/colab-badge.svg\" alt=\"Open In Colab\"/></a>"
      ]
    },
    {
      "cell_type": "markdown",
      "metadata": {
        "id": "42630xxYD0gZ"
      },
      "source": [
        "# ![alt text](https://upload.wikimedia.org/wikipedia/commons/thumb/c/c3/Python-logo-notext.svg/50px-Python-logo-notext.svg.png) **Trabajo Práctico 4: Arreglos uni y multidimensionales** ![alt text](https://upload.wikimedia.org/wikipedia/commons/thumb/c/c3/Python-logo-notext.svg/50px-Python-logo-notext.svg.png)\n",
        "\n",
        "En este trabajo práctico, vamos a trabajar con arreglos uni y multidimensionales en Python. Recuerden crear una copia de este archivo en su ***Google Drive*** para tener permisos de edición.\n",
        "\n",
        "### Sergio: **sergio.gonzalez@unahur.edu.ar**\n",
        "\n"
      ]
    },
    {
      "cell_type": "markdown",
      "source": [
        "## **Vectores**"
      ],
      "metadata": {
        "id": "qofK30OIX86e"
      }
    },
    {
      "cell_type": "code",
      "source": [
        "import numpy as np\n",
        "\n",
        "v1 = np.zeros(10, int)\n",
        "v2 = np.array([2,3,1,4,6])\n",
        "print(v1)\n",
        "v1[0] = 20\n",
        "v1[len(v1)-1] = 50\n",
        "print(v2[3])"
      ],
      "metadata": {
        "id": "y7VRPWwXKmnE",
        "colab": {
          "base_uri": "https://localhost:8080/"
        },
        "outputId": "b8278c61-7436-4371-84e2-417a20f3f7aa"
      },
      "execution_count": null,
      "outputs": [
        {
          "output_type": "stream",
          "name": "stdout",
          "text": [
            "[0 0 0 0 0 0 0 0 0 0]\n",
            "4\n"
          ]
        }
      ]
    },
    {
      "cell_type": "code",
      "source": [
        "#iterar el vector sobre los elementos\n",
        "v2 = np.array([2,3,1,4,6])\n",
        "print(v2)\n",
        "#for var in v2: #reversed(v2) para recorrer de atras hacia adelante\n",
        "#  print(var)\n",
        "\n",
        "for pos in range(len(v2)): #0,1,2,3,4 / reversed(range(len(v2))) -> 4,3,2,1,0\n",
        "  print(pos)\n",
        "  v2[pos] = v2[pos]*2\n",
        "print(v2)"
      ],
      "metadata": {
        "id": "u62X8W3Avvkr"
      },
      "execution_count": null,
      "outputs": []
    },
    {
      "cell_type": "code",
      "source": [
        "#notacion para acceder a regiones o subvectores\n",
        "print(v2)\n",
        "#v2[inicio:fin]\n",
        "v3 = v2[1:4]\n",
        "v3[0] = 20\n",
        "print(v3)\n",
        "print(v2)"
      ],
      "metadata": {
        "colab": {
          "base_uri": "https://localhost:8080/"
        },
        "id": "Tk_oMbR_y45N",
        "outputId": "f7e7719a-1590-47d9-9b99-5c600e313354"
      },
      "execution_count": null,
      "outputs": [
        {
          "output_type": "stream",
          "name": "stdout",
          "text": [
            "[ 4  6  2  8 12]\n",
            "[20  2  8]\n",
            "[ 4 20  2  8 12]\n"
          ]
        }
      ]
    },
    {
      "cell_type": "code",
      "source": [
        "palabra = \"casa\"\n",
        "#palabra[0] = 'p'\n",
        "print(palabra[0])"
      ],
      "metadata": {
        "colab": {
          "base_uri": "https://localhost:8080/"
        },
        "id": "XPSIi5eo0AVy",
        "outputId": "4b966913-3c21-414f-eedf-8046652cd9a6"
      },
      "execution_count": null,
      "outputs": [
        {
          "output_type": "stream",
          "name": "stdout",
          "text": [
            "c\n"
          ]
        }
      ]
    },
    {
      "cell_type": "code",
      "source": [
        "#indices negativos\n",
        "#posicion del ultimo elemento: len(vector)-1 -> -1\n",
        "print(v2)\n",
        "print(v2[-1])"
      ],
      "metadata": {
        "colab": {
          "base_uri": "https://localhost:8080/"
        },
        "id": "K4n2HKMj0yVa",
        "outputId": "09c1ac50-3f14-47d1-9e18-3cf8f7ef21ad"
      },
      "execution_count": null,
      "outputs": [
        {
          "output_type": "stream",
          "name": "stdout",
          "text": [
            "[ 4 20  2  8 12]\n",
            "8\n"
          ]
        }
      ]
    },
    {
      "cell_type": "markdown",
      "metadata": {
        "id": "xjXgmD3mskbR"
      },
      "source": [
        "### **Ejercicio 1**\n",
        "\n",
        "Escribir una función que recibe un numero entero N y le pide al usuario que ingrese N numeros. Al final, el programa debe retornar un vector contiendo los números que fueron ingresados. Tambien debe imprimir por pantalla la suma total de los valores y el promedio. Se deben hacer funciones para resolver el promedio y la suma total."
      ]
    },
    {
      "cell_type": "code",
      "execution_count": null,
      "metadata": {
        "id": "sJuWgqpe8Sjx"
      },
      "outputs": [],
      "source": [
        "import numpy as np\n",
        "\n",
        "def sumaTotal(vector:np.array)->int:            #segunda parte\n",
        "  suma=0\n",
        "  for valor in vector:\n",
        "    suma += valor\n",
        "  return suma\n",
        "\n",
        "def promedio(vector:np.array)->float:           #tercera parte\n",
        "  return sumaTotal(vector)/len(vector)\n",
        "\n",
        "\n",
        "def ingresarEntero(n:int,)->np.array:        #primera parte\n",
        "  salida= np.zeros(n,int)\n",
        "  for pos in range(len(salida)):    #len(salida) es el valor de iteraciones de salida y pos toma el valor 0,1,2,3,4...,n-1 (ya que empieza con 0 y no con 1), pos significa posicion, ya que analizas eso, no el valor\n",
        "    salida[pos]= int(input(\"Ingrese un numero: \"))\n",
        "  print(sumaTotal(salida))\n",
        "  print(promedio(salida))\n",
        "  return salida\n",
        "\n",
        "\n"
      ]
    },
    {
      "cell_type": "code",
      "source": [
        "v= ingresarEntero(5)\n",
        "print(v)"
      ],
      "metadata": {
        "colab": {
          "base_uri": "https://localhost:8080/"
        },
        "id": "nilx2qW3B-r8",
        "outputId": "aca70456-958b-4499-e958-b953f99315cd"
      },
      "execution_count": null,
      "outputs": [
        {
          "output_type": "stream",
          "name": "stdout",
          "text": [
            "Ingrese un numero: 4\n",
            "Ingrese un numero: 5\n",
            "Ingrese un numero: 6\n",
            "Ingrese un numero: 7\n",
            "Ingrese un numero: 8\n",
            "30\n",
            "6.0\n",
            "[4 5 6 7 8]\n"
          ]
        }
      ]
    },
    {
      "cell_type": "markdown",
      "source": [
        "### **Ejercicio 2**\n",
        "\n",
        "Escribir una función que recibe un vector de strings y retorna otro con los mismos elementos del vector de entrada pero en orden inverso."
      ],
      "metadata": {
        "id": "i_1fkXYBkl2A"
      }
    },
    {
      "cell_type": "code",
      "source": [
        "def invertirArreglo(vector:np.array)->np.array:\n",
        "  vectorInvertido= np.zeros(len(vector),str)\n",
        "  pos=0\n",
        "  for valor in reversed(vector):\n",
        "    vectorInvertido[pos]=valor\n",
        "    pos+=1\n",
        "  return vectorInvertido\n",
        "\n"
      ],
      "metadata": {
        "id": "AzSCUv54kmLn"
      },
      "execution_count": null,
      "outputs": []
    },
    {
      "cell_type": "code",
      "source": [
        "palabra= np.array([\"h\",\"o\",\"l\",\"a\"])\n",
        "print (palabra)\n",
        "print (invertirArreglo(palabra))"
      ],
      "metadata": {
        "colab": {
          "base_uri": "https://localhost:8080/"
        },
        "id": "T9_6k1t-EmXu",
        "outputId": "99167046-9cfd-403e-aeeb-573432fccd08"
      },
      "execution_count": null,
      "outputs": [
        {
          "output_type": "stream",
          "name": "stdout",
          "text": [
            "['h' 'o' 'l' 'a']\n",
            "['a' 'l' 'o' 'h']\n"
          ]
        }
      ]
    },
    {
      "cell_type": "markdown",
      "source": [
        "### **Ejercicio 3**\n",
        "\n",
        "Escribir la función sumaDeVectores que recibe dos vectores de enteros del mismo tamaño y retorna otro con la suma de ambos. La suma de vectores se realiza componente a componente, segun la siguiente forma:\n",
        "\n",
        "v<sub>1</sub> = [ v<sub>11</sub> , v<sub>12</sub> , v<sub>13</sub> , ... , v<sub>1N</sub> ]\n",
        "\n",
        "v<sub>2</sub> = [ v<sub>21</sub> , v<sub>22</sub> , v<sub>23</sub> , ... , v<sub>2N</sub> ]\n",
        "\n",
        "v<sub>1</sub> + v<sub>2</sub> = [ v<sub>11</sub> + v<sub>21</sub> , v<sub>12</sub> + v<sub>22</sub> , v<sub>13</sub> + v<sub>23</sub> , ... , v<sub>1N</sub> + v<sub>2N</sub> ]"
      ],
      "metadata": {
        "id": "WAxORLS4lsQn"
      }
    },
    {
      "cell_type": "code",
      "source": [
        "def sumaDeVectores(vector1:np.array,vector2:np.array)->np.array:\n",
        "  salida= np.zeros(len(v1),int)\n",
        "   for pos in range(len(salida)):\n",
        "    salida[pos]= v1[pos]+v2[pos]\n",
        "   return salida\n"
      ],
      "metadata": {
        "id": "tZRep8aplrwo"
      },
      "execution_count": null,
      "outputs": []
    },
    {
      "cell_type": "code",
      "source": [
        "lista1 = [1, 2, 3, 4, 5, 6]\n",
        "lista2 = [5, 6, 7, 8]\n",
        "\n",
        "lista3 = lista1+lista2\n",
        "print(lista3)\n"
      ],
      "metadata": {
        "colab": {
          "base_uri": "https://localhost:8080/"
        },
        "id": "W112yG6AIWG3",
        "outputId": "da70bfef-9d0e-4d22-db7d-174f00289692"
      },
      "execution_count": null,
      "outputs": [
        {
          "output_type": "stream",
          "name": "stdout",
          "text": [
            "[1, 2, 3, 4, 5, 6, 5, 6, 7, 8]\n"
          ]
        }
      ]
    },
    {
      "cell_type": "markdown",
      "metadata": {
        "id": "xQdIQRhp-STK"
      },
      "source": [
        "### **Ejercicio 4**\n",
        "\n",
        "Escribir una función que recibe un vector y desplaza todos sus elementos una posición hacia la derecha: el primero pasa a ser el segundo, el segundo pasa a ser el tercero y así sucesivamente. El último pasa a ser el primero.\n",
        "\n",
        "Por ejemplo:\n",
        "\n",
        "v1 = [2, 4, 1, 5, 7, **9**]\n",
        "\n",
        "**desplazarADerecha(v1)**\n",
        "\n",
        "=> v1 = [**9**, 2, 4, 1, 5, 7]"
      ]
    },
    {
      "cell_type": "code",
      "execution_count": null,
      "metadata": {
        "id": "w6qrLd4-XwHB"
      },
      "outputs": [],
      "source": [
        "import numpy as np\n",
        "\n",
        "def desplazarADerecha(vector:np.array)->None:\n",
        "  ultimo= vector[-1]\n",
        "  for pos in reversed(range(0, len(vector)-1)):\n",
        "    vector[pos+1]=vector[pos]\n",
        "  v[0] = ultimo"
      ]
    },
    {
      "cell_type": "code",
      "source": [
        "v=np.array([2,4,1,5,7,9])\n",
        "print(v)\n",
        "desplazarADerecha(v)\n",
        "print(v)"
      ],
      "metadata": {
        "colab": {
          "base_uri": "https://localhost:8080/"
        },
        "id": "MjLK_AEUVev8",
        "outputId": "6324e8f2-da56-4b87-b9d6-3b2f35d5980b"
      },
      "execution_count": null,
      "outputs": [
        {
          "output_type": "stream",
          "name": "stdout",
          "text": [
            "[2 4 1 5 7 9]\n",
            "[9 2 4 1 5 7]\n"
          ]
        }
      ]
    },
    {
      "cell_type": "markdown",
      "metadata": {
        "id": "uMMYGjtoXuJD"
      },
      "source": [
        "### **Ejercicio 5**\n",
        "\n",
        "Desarrollar una función que inserte un elemento en una posición en un vector. Al insertar el elemento, se debe producir un desplazamiento a la derecha de todos los elementos en las posiciones siguientes, el último elemento se pierde.\n",
        "\n",
        "Por ejemplo:\n",
        "\n",
        "v1 = [2, 4, 1, 7, 6, 2]\n",
        "\n",
        "**insertar(v1, 5, 3)** #insertamos un 5 en la posición 3\n",
        "\n",
        "=> v1 = [2, 4, 1, **5**, 7, 6]"
      ]
    },
    {
      "cell_type": "code",
      "execution_count": null,
      "metadata": {
        "id": "rQEF6QpbX-r0"
      },
      "outputs": [],
      "source": [
        "#Modificar la implementacion del ejercicio 4 pero modificando las posiciones del range"
      ]
    },
    {
      "cell_type": "markdown",
      "metadata": {
        "id": "FvY2_qmwX_KA"
      },
      "source": [
        "### **Ejercicio 6**\n",
        "\n",
        "Escribir una función que elimine el elemento que ocupa una determinada posición de un vector. Al eliminar, los elementos a la derecha del eliminado, deben desplazarse a la izquierda un lugar y agregar un cero en la última posición.\n",
        "\n",
        "Por ejemplo:\n",
        "\n",
        "v1 = [4, 3, **5**, 8, 6, 7]\n",
        "\n",
        "**eliminar(v1, 2)** #eliminamos el elemento de la posicion 2\n",
        "\n",
        "=> v1 = [4, 3, **8, 6, 7, 0**]"
      ]
    },
    {
      "cell_type": "code",
      "execution_count": null,
      "metadata": {
        "id": "UvYJknRvYTla"
      },
      "outputs": [],
      "source": [
        "#v1 = [3, 5, 8, 6, 7, 7] 0 -> len(v1)-2 -> range(0,len(v1)-1)\n",
        "\n",
        "def desplazarAIzquierda(vector:np.array)->np.array:\n",
        "  for pos in range(0,len(v1)-1):\n",
        "    vector[pos] = vector[pos+1]\n",
        "  vector[len(vector)-1] = 0\n",
        "\n",
        "v1  = np.array([4, 3, 5, 8, 6, 7])\n",
        "print(v1)\n",
        "desplazarAIzquierda(v1)\n",
        "print(v1)"
      ]
    },
    {
      "cell_type": "markdown",
      "metadata": {
        "id": "dfuNkFxdYT--"
      },
      "source": [
        "### **Ejercicio 7**\n",
        "\n",
        "Escribir una función que elimine todas las apariciones de un determinado elemento de un vector. Al eliminar se deben insertar tantos ceros al final como elementos se eliminaron.\n",
        "\n",
        "Por ejemplo:\n",
        "\n",
        "arr1 = [4, 3, 5, 8, 6, 5, 7, 5]\n",
        "\n",
        "**eliminarApariciones(arr1, 5)** #eliminamos todos los 5 del arreglo\n",
        "\n",
        "=> arr1 = [4, 3, 8, 6, 7, **0, 0, 0**]"
      ]
    },
    {
      "cell_type": "code",
      "execution_count": null,
      "metadata": {
        "id": "o6twFUebYsO3"
      },
      "outputs": [],
      "source": [
        "#Recorrer array y usar funcion del ejercicio 5 para eliminar los elementos de a uno"
      ]
    },
    {
      "cell_type": "markdown",
      "metadata": {
        "id": "J5x_ui9jeE2c"
      },
      "source": [
        "### **Ejercicio 8**\n",
        "\n",
        "Escribir un procedimiento que reciben un vector y:\n",
        "- Imprime un subvector con los dos primeros elementos.\n",
        "- Imprime un subvector con los tres últimos elementos.\n",
        "- Imprime un subvector con los elementos desde la posiciones 2 hasta la 5\n",
        "- Imprime un subvector con los elementos alternados cada dos. Por ej.: v1 = [2 , 1 , 4 , 5 , 2 , 7 , 9] debería imprimir [2 , 4 , 2 , 9]\n",
        "\n",
        "Nota: Se debe utilizar la notacion **vector [ pos<sub>inicio</sub> : pos<sub>fin</sub> ]**"
      ]
    },
    {
      "cell_type": "code",
      "source": [
        "arr1 = np.array([4, 3, 5, 8, 6, 5, 7, 5])\n",
        "#print(arr1[2:6])\n",
        "\n",
        "print(arr1[:2]) #primeros 2\n",
        "print(arr1[len(arr1)-3:]) #ultimos 3\n",
        "print(arr1[2:6])\n",
        "print(arr1[::2])\n"
      ],
      "metadata": {
        "id": "r-X5N4RIVR0j"
      },
      "execution_count": null,
      "outputs": []
    },
    {
      "cell_type": "markdown",
      "metadata": {
        "id": "X1Vx_Ubwdj32"
      },
      "source": [
        "### **Ejercicio 9**\n",
        "\n",
        "Escribir una función **recursiva** que reciba un vector como parámetro y retorne la suma de todos sus elementos."
      ]
    },
    {
      "cell_type": "code",
      "execution_count": null,
      "metadata": {
        "id": "5IO-wH84dkav"
      },
      "outputs": [],
      "source": [
        "#v1 = [2,3,1,5,4]\n",
        "#suma(v1) = 2+3+1+5+4 = 2 + (3+1+5+4)\n",
        "#suma(v) = v[0] + suma(v[1:])    si len(v) > 0\n",
        "#           0                    si len(v) = 0\n",
        "\n",
        "def sumaRecursiva(vector:np.array)->int:\n",
        "  sumaTotal = None\n",
        "  if len(vector) == 0:\n",
        "    sumaTotal = 0\n",
        "  else:\n",
        "    sumaTotal = vector[0] + sumaRecursiva(vector[1:]) # 2 + sumaRecursiva([3,1,5,4])\n",
        "  return sumaTotal\n",
        "\n",
        "v1 = np.array([2,3,1,5,4])\n",
        "print(sumaRecursiva(v1))"
      ]
    },
    {
      "cell_type": "code",
      "source": [
        "#v1 = [2,3,1,5,4]\n",
        "#suma(v1) = 2+3+1+5+4 = 2 + (3+1+5+4)\n",
        "#suma(v) = v[0] + suma(v[1:])    si len(v) > 0\n",
        "#           0                    si len(v) = 0\n",
        "\n",
        "#sumar los elementos de v1 desde posicion 0 hasta el final -> sumaRecursiva2(v1, 0)\n",
        "#sumar los elementos de v1 desde posicion 2 hasta el final -> sumaRecursiva2(v1, 2)\n",
        "#.....\n",
        "#sumar los elementos de v1 desde la ultima posicion hasta el final -> sumaRecursiva2(v1, len(v1))\n",
        "\n",
        "def sumaRecursiva2(vector:np.array, posInicial:int=0)->int:\n",
        "  sumaTotal = None\n",
        "  if posInicial == len(vector)-1:\n",
        "    sumaTotal = vector[posInicial]\n",
        "  else:\n",
        "    sumaTotal = vector[posInicial] + sumaRecursiva2(vector, posInicial+1)\n",
        "  return sumaTotal\n",
        "\n",
        "v1 = np.array([2,3,1,5,4])\n",
        "print(sumaRecursiva2(v1))"
      ],
      "metadata": {
        "id": "3ea_XjGZrzta"
      },
      "execution_count": null,
      "outputs": []
    },
    {
      "cell_type": "markdown",
      "metadata": {
        "id": "AXeJRrL1jmaY"
      },
      "source": [
        "### **Ejercicio 10**\n",
        "\n",
        "Escribir una función que implemente de forma **recursiva** el algoritmo de **búsqueda binaria** sobre un vector.\n",
        "\n",
        "https://es.khanacademy.org/computing/computer-science/algorithms/binary-search/a/binary-search"
      ]
    },
    {
      "cell_type": "code",
      "execution_count": null,
      "metadata": {
        "id": "gCr_ilY9kKa3"
      },
      "outputs": [],
      "source": [
        "#v tiene que estar ordenado\n",
        "#busquedaBinaria(v,3) -> posicion del elemento 3 en v    si 3 esta en v\n",
        "#                        None                            si 3 no esta en v\n",
        "#v = [2,3,5,7,8,12,34,56]\n",
        "\n",
        "\n",
        "  #busco posicion central\n",
        "  #comparo datoBuscado con el elemento del vector en la posicion central\n",
        "    # si el datoBuscado es igual -> lo encontre, es decir esta en la posicion central\n",
        "    # si no es igual\n",
        "      # si es menor -> busco el dato en la mitad inferior (0 - posicion central-1)\n",
        "      # si es mayor -> busco el dato en la mitad superior (posicion central+1 - final)\n",
        "import numpy as np\n",
        "def busquedaBinaria(vector:np.array, datoBuscado:int, posInicial:int, posFinal:int)->int:\n",
        "  posDato = None\n",
        "  centro = (posInicial+posFinal)//2\n",
        "  if posFinal < posInicial:\n",
        "    posDato = None\n",
        "  else:\n",
        "    if vector[centro] == datoBuscado:\n",
        "      posDato = centro\n",
        "    elif datoBuscado < vector[centro]:\n",
        "      posDato = busquedaBinaria(vector, datoBuscado, posInicial, centro-1)\n",
        "    else:\n",
        "      posDato = busquedaBinaria(vector, datoBuscado, centro+1, posFinal)\n",
        "  return posDato\n",
        "\n",
        "print(busquedaBinaria(np.array([3,7,12,15,24,37,42,54]),37,0,7))"
      ]
    },
    {
      "cell_type": "markdown",
      "metadata": {
        "id": "tw7Pv4o_ehEv"
      },
      "source": [
        "### **Ejercicio 11**\n",
        "\n",
        "Escribir una función **recursiva** que retorna *True* si una cadena de caracteres es un palíndromo y *False* en caso contrario.\n",
        "\n",
        "Nota: Palíndromo es la forma elegante de \"capicua\""
      ]
    },
    {
      "cell_type": "code",
      "source": [
        "import numpy as np\n",
        "\n",
        "def esPalindromo(cadena: str):\n",
        "    salida = None\n",
        "    if len(cadena) <= 1:\n",
        "        salida = True\n",
        "    elif cadena[0] != cadena[len(cadena)-1]:\n",
        "        salida = False\n",
        "    else:\n",
        "        salida = esPalindromo(cadena[1:len(cadena)-1])\n",
        "    return salida\n",
        "\n",
        "p = np.array(['n','e','u','q','u','e','n'])\n",
        "print(esPalindromo(p))"
      ],
      "metadata": {
        "id": "bKfYdZkmVZVK",
        "colab": {
          "base_uri": "https://localhost:8080/"
        },
        "outputId": "930a7d25-60a1-4b2b-b3e4-a836469b27c2"
      },
      "execution_count": null,
      "outputs": [
        {
          "output_type": "stream",
          "name": "stdout",
          "text": [
            "True\n"
          ]
        }
      ]
    },
    {
      "cell_type": "markdown",
      "source": [
        "## **Matrices**"
      ],
      "metadata": {
        "id": "mzMe5_5TVI94"
      }
    },
    {
      "cell_type": "code",
      "source": [
        "import numpy as np\n",
        "\n",
        "m1 = np.zeros((4,3), int)\n",
        "print(m1)\n",
        "m1[0,0] = 21\n",
        "print(m1)\n",
        "filas,cols = m1.shape\n",
        "print(filas,cols)"
      ],
      "metadata": {
        "colab": {
          "base_uri": "https://localhost:8080/"
        },
        "id": "pVYt3Skh8BqY",
        "outputId": "7e9c1ccd-84e4-4e97-c0f5-5b6cd1e41cde"
      },
      "execution_count": null,
      "outputs": [
        {
          "output_type": "stream",
          "name": "stdout",
          "text": [
            "[[0 0 0]\n",
            " [0 0 0]\n",
            " [0 0 0]\n",
            " [0 0 0]]\n",
            "[[21  0  0]\n",
            " [ 0  0  0]\n",
            " [ 0  0  0]\n",
            " [ 0  0  0]]\n",
            "4 3\n"
          ]
        }
      ]
    },
    {
      "cell_type": "code",
      "source": [
        "m2 = np.array([[3,1,7],\n",
        "               [6,2,9],\n",
        "               [7,9,3],\n",
        "               [1,9,5]])\n",
        "for fila in m2:\n",
        "  for elem in fila:\n",
        "    print(elem)"
      ],
      "metadata": {
        "colab": {
          "base_uri": "https://localhost:8080/"
        },
        "id": "29kKLRP-8CPe",
        "outputId": "9a7fc8d2-6503-439d-b7e5-acaa280d6178"
      },
      "execution_count": null,
      "outputs": [
        {
          "output_type": "stream",
          "name": "stdout",
          "text": [
            "3\n",
            "1\n",
            "7\n",
            "6\n",
            "2\n",
            "9\n",
            "7\n",
            "9\n",
            "3\n",
            "1\n",
            "9\n",
            "5\n"
          ]
        }
      ]
    },
    {
      "cell_type": "code",
      "source": [
        "m2 = np.array([[3,1,7],\n",
        "               [6,2,9],\n",
        "               [7,9,3],\n",
        "               [1,9,5]])\n",
        "nFilas, nCols = m2.shape\n",
        "for nFila in range(nFilas): #0,1,2,3\n",
        "  for nCol in range(nCols): #0,1,2\n",
        "    print(\"nfila=\",nFila, \"ncol=\",nCol, m2[nFila,nCol])"
      ],
      "metadata": {
        "colab": {
          "base_uri": "https://localhost:8080/"
        },
        "id": "ph9BDuxn8Cdd",
        "outputId": "d7af0649-e475-4370-b112-c994915cde33"
      },
      "execution_count": null,
      "outputs": [
        {
          "output_type": "stream",
          "name": "stdout",
          "text": [
            "nfila= 0 ncol= 0 3\n",
            "nfila= 0 ncol= 1 1\n",
            "nfila= 0 ncol= 2 7\n",
            "nfila= 1 ncol= 0 6\n",
            "nfila= 1 ncol= 1 2\n",
            "nfila= 1 ncol= 2 9\n",
            "nfila= 2 ncol= 0 7\n",
            "nfila= 2 ncol= 1 9\n",
            "nfila= 2 ncol= 2 3\n",
            "nfila= 3 ncol= 0 1\n",
            "nfila= 3 ncol= 1 9\n",
            "nfila= 3 ncol= 2 5\n"
          ]
        }
      ]
    },
    {
      "cell_type": "code",
      "source": [
        "m2 = np.array([[3,1,7,3,1],\n",
        "               [6,2,9,4,3],\n",
        "               [7,9,3,9,8],\n",
        "               [1,9,5,2,0]])\n",
        "print(m2[1:3,1:4])"
      ],
      "metadata": {
        "id": "2LHSGpqQ8IPP"
      },
      "execution_count": null,
      "outputs": []
    },
    {
      "cell_type": "markdown",
      "metadata": {
        "id": "0g6QV3ZhZp6J"
      },
      "source": [
        "### **Ejercicio 12**\n",
        "\n",
        "Escribir una función que recibe las dimensiones y retorna una matriz rellena de la siguiente forma: En la posición ( n , m ) debe contener n + m.\n",
        "\n",
        "Por ejemplo:\n",
        "\n",
        "mat1 = rellenaMatriz(4,3)\n",
        "\n",
        "=> mat1 =\n",
        "\n",
        "| <!--   --> |Col 0|Col 1|Col 2|\n",
        "|------------|:---:|:---:|:---:|\n",
        "| **Fila 0** |  0  |  1  |  2  |\n",
        "| **Fila 1** |  1  |  2  |  3  |\n",
        "| **Fila 2** |  2  |  3  |  4  |\n",
        "| **Fila 3** |  3  |  4  |  5  |"
      ]
    },
    {
      "cell_type": "code",
      "source": [
        "def rellenaMatriz(nFilas:int, nCols:int)->np.array:\n",
        "  matrizSalida = np.zeros((nFilas,nCols), int)\n",
        "  for nFila in range(nFilas):\n",
        "    for nCol in range(nCols):\n",
        "      matrizSalida[nFila, nCol] = nFila+nCol\n",
        "  return matrizSalida\n",
        "\n",
        "print(rellenaMatriz(40,30))"
      ],
      "metadata": {
        "id": "FAQJeLf275Oo",
        "colab": {
          "base_uri": "https://localhost:8080/"
        },
        "outputId": "f75d5867-51ea-44c8-f440-8330faf53ac5"
      },
      "execution_count": null,
      "outputs": [
        {
          "output_type": "stream",
          "name": "stdout",
          "text": [
            "[[ 0  1  2 ... 27 28 29]\n",
            " [ 1  2  3 ... 28 29 30]\n",
            " [ 2  3  4 ... 29 30 31]\n",
            " ...\n",
            " [37 38 39 ... 64 65 66]\n",
            " [38 39 40 ... 65 66 67]\n",
            " [39 40 41 ... 66 67 68]]\n"
          ]
        }
      ]
    },
    {
      "cell_type": "markdown",
      "metadata": {
        "id": "g96hWdmiaUmA"
      },
      "source": [
        "### **Ejercicio 13**\n",
        "\n",
        "Escribir una función que recibe una matriz cuadrada (N x N) y calcula la suma de los elementos que están por encima de la diagonal principal (excluyendo la diagonal).\n",
        "\n",
        "En el ejemplo de la imagen, la función deberia retornar: *b + c + f*\n",
        "\n",
        "![texto alternativo](https://economipedia.com/wp-content/uploads/Captura-de-Pantalla-2019-07-29-a-les-13.18.05-1.png)"
      ]
    },
    {
      "cell_type": "code",
      "execution_count": null,
      "metadata": {
        "id": "2UpEFdBbukok"
      },
      "outputs": [],
      "source": [
        "import numpy as np\n",
        "\n",
        "def calcularElementosPorEncimaDeDiagonal(matrizCuadrada:np.array)-> np.array:\n",
        "\n",
        "  nFilas,nCols=matrizCuadrada.shape\n",
        "  salida=0\n",
        "\n",
        "  for nFila in range(nFilas):\n",
        "    for nCol in range(nCols):\n",
        "      if  nCol>nFila:          # (0,0)no (0,1)si (1,0) no\n",
        "        salida += matrizCuadrada[nFila][nCol]\n",
        "  return salida\n"
      ]
    },
    {
      "cell_type": "code",
      "source": [
        "v= np.array([[3,1,7],\n",
        "            [6,2,9],\n",
        "            [7,9,3]])\n",
        "calcularElementosPorEncimaDeDiagonal(v)"
      ],
      "metadata": {
        "colab": {
          "base_uri": "https://localhost:8080/"
        },
        "id": "oqBiqPd62Vzb",
        "outputId": "05b15cad-9afb-4986-ce99-411a2808767a"
      },
      "execution_count": null,
      "outputs": [
        {
          "output_type": "execute_result",
          "data": {
            "text/plain": [
              "17"
            ]
          },
          "metadata": {},
          "execution_count": 55
        }
      ]
    },
    {
      "cell_type": "markdown",
      "metadata": {
        "id": "ERqaprbtbx5F"
      },
      "source": [
        "### **Ejercicio 14**\n",
        "\n",
        "Escribir una función que retorna *True* si una matriz cuadrada es matriz diagonal y *False* en caso contrario.\n",
        "\n",
        "Una matriz cuadrada diagonal es una matriz que tiene ceros en todos sus elementos, menos en la diagonal principal (No importan los elementos de la diagonal principal, pueden ser cero o no).\n",
        "\n",
        "**Si i, j son los índices de las filas y columnas de M**\n",
        "\n",
        "**=> Una matriz M es diagonal si:**\n",
        "\n",
        "**M [ i , j ] == 0 para todo i != j**\n",
        "\n",
        "Matriz diagonal de 4 x 4:\n",
        "\n",
        "| <!--   --> |Col 0|Col 1|Col 2|Col 3|\n",
        "|------------|:---:|:---:|:---:|:---:|\n",
        "| **Fila 0** |  0  |  0  |  0  |  0  |\n",
        "| **Fila 1** |  0  |  2  |  0  |  0  |\n",
        "| **Fila 2** |  0  |  0  |  4  |  0  |\n",
        "| **Fila 3** |  0  |  0  |  0  |  0  |"
      ]
    },
    {
      "cell_type": "code",
      "execution_count": null,
      "metadata": {
        "id": "ehZJVkc_cWIg",
        "colab": {
          "base_uri": "https://localhost:8080/"
        },
        "outputId": "addd72f2-bc93-49f2-d01e-db938f8bf219"
      },
      "outputs": [
        {
          "output_type": "stream",
          "name": "stdout",
          "text": [
            "False\n",
            "False\n"
          ]
        }
      ],
      "source": [
        "import numpy as np\n",
        "def esDiagonal(matrizCuadrada:np.array)->bool:\n",
        "  matrizD = True\n",
        "  nFilas, nCols = matrizCuadrada.shape\n",
        "  nFila = 0\n",
        "  while matrizD==True and nFila < nFilas-1:\n",
        "    nCol = nFila+1\n",
        "    while matrizD==True and nCol < nCols:\n",
        "      if matrizCuadrada[nFila,nCol]!=0 or matrizCuadrada[nCol,nFila]!=0:\n",
        "        matrizD = False\n",
        "      nCol += 1\n",
        "    nFila += 1\n",
        "  print(matrizD)\n",
        "\n",
        "m = np.array([[1,0,0,0],\n",
        "              [0,1,0,0],\n",
        "              [2,0,1,0],\n",
        "              [0,0,0,1]])\n",
        "esDiagonal(m)\n",
        "\n",
        "def esDiagonal2(matrizCuadrada:np.array)->bool:\n",
        "  matrizD = True\n",
        "  nFilas,nCols= matrizCuadrada.shape\n",
        "  for nFila in range(nFilas):\n",
        "    for nCol in range(nCols):\n",
        "      if matrizCuadrada[nFila,nCol]!=0 or matrizCuadrada[nCol,nFila]!=0:\n",
        "        matrizD = False\n",
        "  return matrizD\n",
        "\n",
        "m = np.array([[1,0,0,0],\n",
        "              [0,1,0,0],\n",
        "              [0,0,1,0],\n",
        "              [1,0,0,1]])\n",
        "esDiagonal(m)\n"
      ]
    },
    {
      "cell_type": "markdown",
      "metadata": {
        "id": "dHytTlIXcW5P"
      },
      "source": [
        "### **Ejercicio 15**\n",
        "\n",
        "Escribir una función que retorna *True* si una matriz cuadrada de enteros es simétrica y *False* en caso contrario.\n",
        "\n",
        "Una matriz simétrica es como la de la imagen (no importan los elementos de la diagonal principal):\n",
        "\n",
        "![texto alternativo](https://economipedia.com/wp-content/uploads/Captura-de-Pantalla-2019-09-23-a-les-15.58.25.png)\n",
        "\n",
        "Es decir:\n",
        "\n",
        "**Si i, j son los índices de las filas y columnas de M**\n",
        "\n",
        "**=> Una matriz M es simétrica si:**\n",
        "\n",
        "**M [ i , j ] == M[ j, i ] para todo i != j**\n",
        "\n",
        "Matriz simétrica de 4 x 4:\n",
        "\n",
        "| <!--   --> |Col 0|Col 1|Col 2|Col 3|\n",
        "|------------|:---:|:---:|:---:|:---:|\n",
        "| **Fila 0** |  2  |  1  |  0  |  5  |\n",
        "| **Fila 1** |  1  |  2  |  9  |  7  |\n",
        "| **Fila 2** |  0  |  9  |  0  |  8  |\n",
        "| **Fila 3** |  5  |  7  |  8  |  4  |"
      ]
    },
    {
      "cell_type": "code",
      "execution_count": null,
      "metadata": {
        "id": "3SA7bN6ldIwQ"
      },
      "outputs": [],
      "source": [
        "def esSimetrica(matriz:np.array)->bool:\n",
        "  matrizEsSimetrica = True\n",
        "  nFilas, nCols = matriz.shape\n",
        "  for nFila in range(nFilas):\n",
        "    for nCol in range(nCols):\n",
        "      if matriz[nFila,nCol] != matriz[nCol,nFila]:\n",
        "        matrizEsSimetrica = False\n",
        "  return matrizEsSimetrica\n",
        "\n",
        "m=np.array([[2,1,0,5],\n",
        "            [1,2,9,7],\n",
        "            [0,9,0,8],\n",
        "            [5,7,8,4]])\n",
        "print(esSimetrica(m))\n",
        "\n",
        "#m[1,2] = m[1][2]"
      ]
    }
  ],
  "metadata": {
    "colab": {
      "provenance": [],
      "include_colab_link": true
    },
    "kernelspec": {
      "display_name": "Python 3",
      "name": "python3"
    }
  },
  "nbformat": 4,
  "nbformat_minor": 0
}