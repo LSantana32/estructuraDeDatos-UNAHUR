{
  "nbformat": 4,
  "nbformat_minor": 0,
  "metadata": {
    "colab": {
      "provenance": [],
      "include_colab_link": true
    },
    "kernelspec": {
      "name": "python3",
      "display_name": "Python 3"
    }
  },
  "cells": [
    {
      "cell_type": "markdown",
      "metadata": {
        "id": "view-in-github",
        "colab_type": "text"
      },
      "source": [
        "<a href=\"https://colab.research.google.com/github/LSantana32/estructuraDeDatos-UNAHUR/blob/main/Copia_de_Trabajo_practico_6_Diccionario_com1.ipynb\" target=\"_parent\"><img src=\"https://colab.research.google.com/assets/colab-badge.svg\" alt=\"Open In Colab\"/></a>"
      ]
    },
    {
      "cell_type": "markdown",
      "metadata": {
        "id": "42630xxYD0gZ"
      },
      "source": [
        "# ![alt text](https://upload.wikimedia.org/wikipedia/commons/thumb/c/c3/Python-logo-notext.svg/50px-Python-logo-notext.svg.png) **Trabajo Práctico 6: Diccionarios** ![alt text](https://upload.wikimedia.org/wikipedia/commons/thumb/c/c3/Python-logo-notext.svg/50px-Python-logo-notext.svg.png)\n",
        "\n",
        "En este trabajo práctico, vamos a trabajar con la estructura de datos **Diccionario** basado en el conjunto de Python. Recuerden crear una copia de este archivo en su ***Google Drive*** para tener permisos de edición.\n",
        "\n",
        "### Sergio: **sergio.gonzalez@unahur.edu.ar** ###"
      ]
    },
    {
      "cell_type": "code",
      "source": [
        "conj1 = set()\n",
        "print(conj1)\n",
        "conj1.add(1);conj1.add(10);conj1.add(2);conj1.add(4);\n",
        "print(conj1)"
      ],
      "metadata": {
        "colab": {
          "base_uri": "https://localhost:8080/"
        },
        "id": "wZbHlJyt8EUx",
        "outputId": "abdef83c-c52e-4add-adf3-df20bb264106"
      },
      "execution_count": null,
      "outputs": [
        {
          "output_type": "stream",
          "name": "stdout",
          "text": [
            "set()\n",
            "{1, 10, 2, 4}\n"
          ]
        }
      ]
    },
    {
      "cell_type": "code",
      "source": [
        "tupla1 = (2,[1,2,3,3])\n",
        "tupla1[1].append(4)\n",
        "print(tupla1)"
      ],
      "metadata": {
        "colab": {
          "base_uri": "https://localhost:8080/"
        },
        "id": "4-6Fc_3Y8rlJ",
        "outputId": "2724a0da-9647-4ad9-db7f-bece1f7f7e87"
      },
      "execution_count": null,
      "outputs": [
        {
          "output_type": "stream",
          "name": "stdout",
          "text": [
            "(2, [1, 2, 3, 3, 4])\n"
          ]
        }
      ]
    },
    {
      "cell_type": "markdown",
      "metadata": {
        "id": "xjXgmD3mskbR"
      },
      "source": [
        "### **Ejercicio 1**\n",
        "\n",
        "Implementar el TDA **Diccionario (Map)**, con las siguientes operaciones (Solo lo tienen que usar, ya esta implementado por nosotros, pero repasen el funcionamiento):\n",
        "- Crear (**\\_\\_init__()**).\n",
        "- **\\_\\_repr__()**: Para poder imprimir por consola.\n",
        "- **insertar(clave, significado)**: Inserta el par **<clave , significado>**, si la clave ya existe no debe modificar el diccionario.\n",
        "- **Asignación con \"dicc[clave] = significado\"**: Permite modificar significados de claves existentes y agregar nuevos pares. Esto se realiza implementado la función **\\_\\_setitem__()**.\n",
        "- **get(clave)**: Recibe una clave y retorna su significado, si la clave no existe lanza una excepción.\n",
        "- **Obtener con \"dicc[clave]\"**: Similar a **get**, pero con el operador **\"[ ]\"**. Esto se realiza implementando la función **\\_\\_getitem__()**.\n",
        "- **len()**: Retorna la cantidad de pares **<clave , significado>** en el diccionario.\n",
        "- **getKeys()**: Retorna lista con claves.\n",
        "- **getValues()**: Retorna lista con significados.\n",
        "- **Operador \"in\"**: Permite la búsqueda dentro del diccionario por las claves, es decir podemos hacer **\"if clave in diccionario\"**.\n",
        "- **remove(clave)**: Elimina el par clave-significado que contiene la clave que recibe como parámetro\n",
        "- **clone()**: Genera nuevo diccionario con el mismo contenido\n",
        "- **clear()**: Vacia diccionario\n",
        "\n",
        "Si quieren iterar el diccionario deben hacer (por ejemplo para imprimir todos los pares clave-significado en diferentes lineas):\n",
        "\n",
        "    \n",
        "    for clave in diccionario.keys():\n",
        "        print(clave, diccionario.get(clave))\n",
        "\n",
        "O el equivalente con el operador **\"[ ]\"**:\n",
        "\n",
        "\n",
        "    for clave in diccionario.keys():\n",
        "        print(clave, dicionario[clave])\n",
        "\n",
        "Aunque tengamos el operador **\"in\"** este sirve solo para búsquedas y no para iterar en diccionario, entonces no se puede hacer:\n",
        "\n",
        "\n",
        "    for clave in diccionario:\n",
        "\n",
        "\n",
        "\n",
        "\n",
        "\n",
        "\n"
      ]
    },
    {
      "cell_type": "code",
      "metadata": {
        "id": "vM50Hpx6yUDe"
      },
      "source": [
        "import copy as cp\n",
        "\n",
        "class Diccionario:\n",
        "  #######TDA tupla clave-significado#########################\n",
        "  class __TuplaDic:\n",
        "    def __init__(self, key, value):\n",
        "      self.__data = (key,value)\n",
        "\n",
        "    def __repr__(self):\n",
        "      return str(self.__data)\n",
        "\n",
        "    def __eq__(self, key):\n",
        "      return self.__data[0] == key\n",
        "\n",
        "    def __hash__(self):\n",
        "      return hash(self.__data[0])\n",
        "\n",
        "    def getKey(self):\n",
        "      return self.__data[0]\n",
        "\n",
        "    def getValue(self):\n",
        "      return self.__data[1]\n",
        "  ############################################################\n",
        "\n",
        "  ###Constructor recibe dos listas de claves y significados en orden\n",
        "  def __init__(self, keys = None, values = None):\n",
        "    self.__diccionario = set()\n",
        "    if keys != None:\n",
        "      if len(keys) == len(values):\n",
        "        for i in range(len(keys)):\n",
        "          self[keys[i]] = values[i]\n",
        "      else:\n",
        "        raise Exception(\"Las listas de pares clave-significado deben tener la misma cantidad\")\n",
        "\n",
        "  def __repr__(self):\n",
        "    return str(self.__diccionario)\n",
        "\n",
        "  ###Asignacion usando [], se recibe clave entre corchetes / Permite reemplazar aunque exista la clave\n",
        "  def __setitem__(self, key = None, value = None):\n",
        "    if key != None:\n",
        "      if key in self:\n",
        "        self.__diccionario.remove(key)\n",
        "      self.__diccionario.add(Diccionario.__TuplaDic(key,value))\n",
        "\n",
        "  ###No inserta si existe la clave, es decir, si la clave existe en el dicc no modifica el valor\n",
        "  def insert(self, key = None, value = None):\n",
        "    if key != None:\n",
        "      self.__diccionario.add(Diccionario.__TuplaDic(key,value))\n",
        "\n",
        "  ###Elimina si existe la clave, es decir, si la clave existe en el dicc elimina el par clave-valor\n",
        "  ###Sino existe la clave, no hace nada\n",
        "  def remove(self, key):\n",
        "    if key in self:\n",
        "        valor = self[key]\n",
        "        self.__diccionario.remove(key)\n",
        "        return valor\n",
        "\n",
        "  ###Vacia dicc\n",
        "  def clear(self):\n",
        "    self.__diccionario = set()\n",
        "\n",
        "  ###Clonar dicc\n",
        "  def clone(self):\n",
        "    return cp.deepcopy(self)\n",
        "\n",
        "  ###Acceso a valores usando [], se recibe clave entre corchetes\n",
        "  def __getitem__(self, key):\n",
        "    value = None\n",
        "    flag = False\n",
        "    for tuplaDic in self.__diccionario:\n",
        "      if tuplaDic.getKey() == key:\n",
        "        value = tuplaDic.getValue()\n",
        "        flag = True\n",
        "    if flag:\n",
        "      return value\n",
        "    else:\n",
        "      raise Exception(\"No existe la clave %s en el diccionario\" % (key))\n",
        "\n",
        "  ###Retorna valor de la clave que se recibe por parametro\n",
        "  def get(self, key):\n",
        "    value = None\n",
        "    flag = False\n",
        "    for tuplaDic in self.__diccionario:\n",
        "      if tuplaDic.getKey() == key:\n",
        "        value = tuplaDic.getValue()\n",
        "        flag = True\n",
        "    if flag:\n",
        "      return value\n",
        "    else:\n",
        "      raise Exception(\"No existe la clave %s en el diccionario\" % (key))\n",
        "\n",
        "  ###Retorna lista con claves\n",
        "  def keys(self):\n",
        "    return [x.getKey() for x in self.__diccionario]\n",
        "\n",
        "  ###Retorna lista con valores\n",
        "  def values(self):\n",
        "    return [x.getValue() for x in self.__diccionario]\n",
        "\n",
        "  ###Operador \"in\"\n",
        "  def __contains__(self, key):\n",
        "    return key in self.__diccionario\n",
        "\n",
        "  ###Tamaño de diccionario\n",
        "  def len(self):\n",
        "    return len(self.__diccionario)"
      ],
      "execution_count": null,
      "outputs": []
    },
    {
      "cell_type": "code",
      "source": [
        "dic1 = Diccionario()\n",
        "dic1.insert(1,\"uno\")\n",
        "dic1.insert(2,[2,3,4,5])\n",
        "print(dic1)\n",
        "var = 1\n",
        "print(dic1[var])\n",
        "dic1[2] = \"hola\"\n",
        "print(dic1)\n",
        "dic1.remove(1)\n",
        "print(dic1)"
      ],
      "metadata": {
        "colab": {
          "base_uri": "https://localhost:8080/"
        },
        "id": "Zx_nm2ao-kQC",
        "outputId": "9df04e67-b817-4e07-d8e5-5d922a956f83"
      },
      "execution_count": null,
      "outputs": [
        {
          "output_type": "stream",
          "name": "stdout",
          "text": [
            "{(1, 'uno'), (2, [2, 3, 4, 5])}\n",
            "uno\n",
            "{(1, 'uno'), (2, 'hola')}\n",
            "{(2, 'hola')}\n"
          ]
        }
      ]
    },
    {
      "cell_type": "code",
      "source": [],
      "metadata": {
        "id": "-zlJpU3QApE3"
      },
      "execution_count": null,
      "outputs": []
    },
    {
      "cell_type": "code",
      "source": [
        "dic2 = Diccionario((1,2,3,4),(\"casa\", \"perro\", \"gato\", \"auto\"))\n",
        "for clave in dic2.keys():\n",
        "  print(clave, dic2[clave])\n",
        "\n",
        "print(40 in dic2)\n"
      ],
      "metadata": {
        "colab": {
          "base_uri": "https://localhost:8080/"
        },
        "id": "lEfuAV7aAVJV",
        "outputId": "61c1ee0c-5d7b-4f93-dfca-1bd7ebc52e8d"
      },
      "execution_count": null,
      "outputs": [
        {
          "output_type": "stream",
          "name": "stdout",
          "text": [
            "1 casa\n",
            "2 perro\n",
            "3 gato\n",
            "4 auto\n",
            "False\n"
          ]
        }
      ]
    },
    {
      "cell_type": "code",
      "source": [
        "notas = Diccionario((\"juan\",\"pedro\",\"maria\"),([],[],[]))\n",
        "print(notas)\n",
        "notas[\"juan\"].append(4)\n",
        "print(notas)\n",
        "print(dic2.len())"
      ],
      "metadata": {
        "colab": {
          "base_uri": "https://localhost:8080/"
        },
        "id": "AwkUufrNB-xN",
        "outputId": "666c6242-6564-408c-c642-ee1126c4181f"
      },
      "execution_count": null,
      "outputs": [
        {
          "output_type": "stream",
          "name": "stdout",
          "text": [
            "{('juan', []), ('pedro', []), ('maria', [])}\n",
            "{('juan', [4]), ('pedro', []), ('maria', [])}\n",
            "4\n"
          ]
        }
      ]
    },
    {
      "cell_type": "markdown",
      "metadata": {
        "id": "I26IE7cG1BeA"
      },
      "source": [
        "### A partir del **Ejercicio 2** vamos a trabajar **fuera del TDA Diccionario** usando la interface que creamos en el **Ejercicio 1**. Es decir,se pueden usar solo las operaciones de la interface, no se puede acceder a los componentes internos del TDA. Si necesitan estructuras auxiliares, pueden usar cualquiera de las estructuras que vimos hasta ahora: Arreglos, Listas, Pilas, Colas, Diccionarios."
      ]
    },
    {
      "cell_type": "markdown",
      "metadata": {
        "id": "Q0D1vzJZzqID"
      },
      "source": [
        "### **Ejercicio 2**\n",
        "\n",
        "Escribir un programa que declare un Diccionario de **<entero , entero>** (clave entero y significado entero) y le agrege 4 pares. Luego debe mostrar el diccionario por pantalla y su tamaño.\n",
        "\n",
        "Finalmente, redefinir 2 significados y volver a imprimir."
      ]
    },
    {
      "cell_type": "code",
      "metadata": {
        "id": "Y4eHEO31zpnu",
        "colab": {
          "base_uri": "https://localhost:8080/"
        },
        "outputId": "7b5be5c5-3786-4de5-bca3-aef5abfcdc24"
      },
      "source": [
        "dicc1= Diccionario()\n",
        "dicc1.insert(1,1)\n",
        "dicc1.insert(13,4)  #(clave,valor)\n",
        "dicc1[23]=123     #[clave]=valor\n",
        "dicc1[212]=939\n",
        "print (dicc1)\n",
        "\n",
        "dicc1[23]=77\n",
        "dicc1[212]=66      #redefinir diccionario\n",
        "print(dicc1)\n"
      ],
      "execution_count": null,
      "outputs": [
        {
          "output_type": "stream",
          "name": "stdout",
          "text": [
            "{(1, 1), (212, 939), (13, 4), (23, 123)}\n",
            "{(1, 1), (212, 66), (13, 4), (23, 77)}\n"
          ]
        }
      ]
    },
    {
      "cell_type": "markdown",
      "metadata": {
        "id": "rds3Jsp10bJr"
      },
      "source": [
        "### **Ejercicio 3**\n",
        "\n",
        "Escribir un diccionario con sinónimos. Luego intentar insertar dos pares **<clave , significado>** con claves **repetidas** con la operacion **insert** y ver que sucede."
      ]
    },
    {
      "cell_type": "code",
      "metadata": {
        "id": "EJoEuAVx0eOc",
        "colab": {
          "base_uri": "https://localhost:8080/"
        },
        "outputId": "d1a38791-26b4-4f1d-ec4f-8c14eda1722d"
      },
      "source": [
        "dicc3=Diccionario()\n",
        "dicc3[1]=\" uno\"\n",
        "dicc3[2]=\"dos\"\n",
        "print(dicc3)\n",
        "dicc3.insert(1,1)             # no se modifica el value a pesar de que haga insert\n",
        "dicc3.insert(2,2)\n",
        "print(dicc3)\n",
        "print(dicc3[1])"
      ],
      "execution_count": null,
      "outputs": [
        {
          "output_type": "stream",
          "name": "stdout",
          "text": [
            "{(1, ' uno'), (2, 'dos')}\n",
            "{(1, ' uno'), (2, 'dos')}\n",
            " uno\n"
          ]
        }
      ]
    },
    {
      "cell_type": "markdown",
      "metadata": {
        "id": "-YN0LThH0dO6"
      },
      "source": [
        "### **Ejercicio 4**\n",
        "\n",
        "Escribir una función que dado una lista de enteros me devuelve otra(no necesariamente en el mismo orden) sin los numeros repetidos.\n",
        "\n",
        "Por ejemplo:\n",
        "\n",
        "Lista de entrada = [1 , 3 , 4 , 1 , 2 , 4 , 3 , 2]\n",
        "\n",
        "Lista de salida = [1 , 3 , 2, 4]"
      ]
    },
    {
      "cell_type": "code",
      "metadata": {
        "id": "KO9cVn4T0EFQ"
      },
      "source": [
        "list4= [1,3,4,1,2,4,3,2]\n"
      ],
      "execution_count": null,
      "outputs": []
    },
    {
      "cell_type": "markdown",
      "metadata": {
        "id": "_Q_DCTjI3AGK"
      },
      "source": [
        "### **Ejercicio 5**\n",
        "\n",
        "Rehacer le ejercicio 4 pero retornando un diccionario en lugar de una lista.\n",
        "\n",
        "Por ejemplo:\n",
        "\n",
        "Lista de entrada = [1 , 3 , 4 , 1 , 2 , 4 , 3 , 2]\n",
        "\n",
        "Diccionario de salida = { (1 , None) , (3 , None) , (4 , None) , (2 , None) }"
      ]
    },
    {
      "cell_type": "code",
      "metadata": {
        "id": "soxJRW3fkYpc"
      },
      "source": [],
      "execution_count": null,
      "outputs": []
    },
    {
      "cell_type": "markdown",
      "metadata": {
        "id": "xfP229oY3ODC"
      },
      "source": [
        "### **Ejercicio 6**\n",
        "\n",
        "Escribir una función que recibe una lista de números como parámetro y devuelve un diccionario con los números de la lista como claves y la cantidad de apariciones de cada uno como su significado.\n",
        "\n",
        "Por ejemplo:\n",
        "\n",
        "Lista de entrada = [1 , 3 , 4 , 2 , 1 , 3 , 1 , 4 , 2 , 5 , 2]\n",
        "\n",
        "Diccionario de salida = { (1 , 3) , (3 , 2) , (4 , 2) , (2 , 3) , (5 , 1) }"
      ]
    },
    {
      "cell_type": "code",
      "metadata": {
        "id": "BMNroH_l3Ojz",
        "colab": {
          "base_uri": "https://localhost:8080/"
        },
        "outputId": "fb783332-6c0c-4200-ebbc-b23091df1e4b"
      },
      "source": [
        "def listaADiccRepetido(lista):\n",
        "  salida=Diccionario()\n",
        "  for elem in lista:\n",
        "    if not elem in salida:\n",
        "      salida[elem]=1\n",
        "    else:\n",
        "      salida[elem]+=1\n",
        "  return salida\n",
        "\n",
        "list=[1,3,4,2,1,3,1,4,2,5,2]\n",
        "listaADiccRepetido(list)"
      ],
      "execution_count": null,
      "outputs": [
        {
          "output_type": "execute_result",
          "data": {
            "text/plain": [
              "{(1, 3), (2, 3), (3, 2), (4, 2), (5, 1)}"
            ]
          },
          "metadata": {},
          "execution_count": 22
        }
      ]
    },
    {
      "cell_type": "markdown",
      "metadata": {
        "id": "nxgYjoxl3gmz"
      },
      "source": [
        "### **Ejercicio 7**\n",
        "\n",
        "Escribir una función que recibe dos diccionarios y devuelve otro con la mezcla de los dos, para las claves repetidas, se queda con los significados de primer diccionario.\n",
        "\n",
        "Por ejemplo:\n",
        "\n",
        "Diccionario de entrada 1 = { (1 , 3) , (3 , 2) , (4 , 4) , (2 , 3) , (5 , 1) }\n",
        "\n",
        "Diccionario de entrada 2 = { (10 , 3) , (3 , 5) , (2 , 30) , (8 , 1) , (9 , 3) }\n",
        "\n",
        "Diccionario de salida = { (1 , 3) , (3 , 2) , (4 , 4) , (2 , 3) , (5 , 1) , (10 , 3) , (8 , 1) , (9 , 3) }"
      ]
    },
    {
      "cell_type": "code",
      "metadata": {
        "id": "Ojjaj3Z23g7j",
        "colab": {
          "base_uri": "https://localhost:8080/"
        },
        "outputId": "22578ebc-332b-4dd6-d783-fd05cc546e8e"
      },
      "source": [
        "d1= Diccionario()\n",
        "d1.insert(1,3)\n",
        "d1.insert(3,2)\n",
        "d1.insert(4,4)\n",
        "d1.insert(2,3)\n",
        "d1.insert(5,1)\n",
        "\n",
        "d2= Diccionario()\n",
        "d2.insert(10,3) #         <------------------------------------------------\n",
        "d2.insert(3,5)#                                                            |\n",
        "d2.insert(2,30)#                                                           |\n",
        "d2.insert(8,1)#                                                            |\n",
        "d2.insert(9,3)#                                                            |\n",
        "#                                                                          |\n",
        "def mezDic(a,b):#                                                          |\n",
        "  salida=a.clone()#                                                        |\n",
        "  for clave in b.keys():#                                                  |\n",
        "    salida.insert(clave,b[clave]) #b[clave]=SIGNIFICADO       ==        d2[10]=3\n",
        "  return salida\n",
        "\n",
        "mezDic(d1,d2)\n",
        "\n",
        "\n",
        "\n"
      ],
      "execution_count": null,
      "outputs": [
        {
          "output_type": "execute_result",
          "data": {
            "text/plain": [
              "{(1, 3), (2, 3), (3, 2), (4, 4), (5, 1), (8, 1), (9, 3), (10, 3)}"
            ]
          },
          "metadata": {},
          "execution_count": 75
        }
      ]
    },
    {
      "cell_type": "markdown",
      "metadata": {
        "id": "OLopy2zK38Am"
      },
      "source": [
        "### **Ejercicio 8**\n",
        "\n",
        "Escribir una función que modele el problema de administrar las materias que cursa un alumno.\n",
        "Es decir que reciba un diccionario, un alumno y una materia y agregue esa materia a las materias que cursa.\n",
        "\n",
        "**Nota: La lista de materias de cada alumno no debe tener materias repetidas.**\n",
        "\n",
        "Por ejemplo:\n",
        "\n",
        "Diccionario = { ( \"Alumno1\" , [\"Materia1\" , \"Materia2\"] )   ,   ( \"Alumno2\", [ \"Materia2\" , \"Materia3\" , \"Materia4\" ] ) }\n"
      ]
    },
    {
      "cell_type": "code",
      "metadata": {
        "id": "a-DTh4IX5gji",
        "colab": {
          "base_uri": "https://localhost:8080/",
          "height": 280
        },
        "outputId": "ffe5e005-2260-481e-c959-73082316b414"
      },
      "source": [],
      "execution_count": null,
      "outputs": [
        {
          "output_type": "error",
          "ename": "Exception",
          "evalue": "No existe la clave 5 en el diccionario",
          "traceback": [
            "\u001b[0;31m---------------------------------------------------------------------------\u001b[0m",
            "\u001b[0;31mException\u001b[0m                                 Traceback (most recent call last)",
            "\u001b[0;32m<ipython-input-35-83cc6393a45b>\u001b[0m in \u001b[0;36m<cell line: 2>\u001b[0;34m()\u001b[0m\n\u001b[1;32m      1\u001b[0m \u001b[0mdic2\u001b[0m \u001b[0;34m=\u001b[0m \u001b[0mDiccionario\u001b[0m\u001b[0;34m(\u001b[0m\u001b[0;34m(\u001b[0m\u001b[0;36m1\u001b[0m\u001b[0;34m,\u001b[0m\u001b[0;36m2\u001b[0m\u001b[0;34m,\u001b[0m\u001b[0;36m3\u001b[0m\u001b[0;34m,\u001b[0m\u001b[0;36m4\u001b[0m\u001b[0;34m)\u001b[0m\u001b[0;34m,\u001b[0m\u001b[0;34m(\u001b[0m\u001b[0;34m\"casa\"\u001b[0m\u001b[0;34m,\u001b[0m \u001b[0;34m\"perro\"\u001b[0m\u001b[0;34m,\u001b[0m \u001b[0;34m\"gato\"\u001b[0m\u001b[0;34m,\u001b[0m \u001b[0;34m\"auto\"\u001b[0m\u001b[0;34m)\u001b[0m\u001b[0;34m)\u001b[0m\u001b[0;34m\u001b[0m\u001b[0;34m\u001b[0m\u001b[0m\n\u001b[0;32m----> 2\u001b[0;31m \u001b[0mprint\u001b[0m \u001b[0;34m(\u001b[0m\u001b[0mdic2\u001b[0m\u001b[0;34m[\u001b[0m\u001b[0;36m5\u001b[0m\u001b[0;34m]\u001b[0m\u001b[0;34m)\u001b[0m\u001b[0;34m\u001b[0m\u001b[0;34m\u001b[0m\u001b[0m\n\u001b[0m",
            "\u001b[0;32m<ipython-input-31-96470f5befb5>\u001b[0m in \u001b[0;36m__getitem__\u001b[0;34m(self, key)\u001b[0m\n\u001b[1;32m     75\u001b[0m       \u001b[0;32mreturn\u001b[0m \u001b[0mvalue\u001b[0m\u001b[0;34m\u001b[0m\u001b[0;34m\u001b[0m\u001b[0m\n\u001b[1;32m     76\u001b[0m     \u001b[0;32melse\u001b[0m\u001b[0;34m:\u001b[0m\u001b[0;34m\u001b[0m\u001b[0;34m\u001b[0m\u001b[0m\n\u001b[0;32m---> 77\u001b[0;31m       \u001b[0;32mraise\u001b[0m \u001b[0mException\u001b[0m\u001b[0;34m(\u001b[0m\u001b[0;34m\"No existe la clave %s en el diccionario\"\u001b[0m \u001b[0;34m%\u001b[0m \u001b[0;34m(\u001b[0m\u001b[0mkey\u001b[0m\u001b[0;34m)\u001b[0m\u001b[0;34m)\u001b[0m\u001b[0;34m\u001b[0m\u001b[0;34m\u001b[0m\u001b[0m\n\u001b[0m\u001b[1;32m     78\u001b[0m \u001b[0;34m\u001b[0m\u001b[0m\n\u001b[1;32m     79\u001b[0m   \u001b[0;31m###Retorna valor de la clave que se recibe por parametro\u001b[0m\u001b[0;34m\u001b[0m\u001b[0;34m\u001b[0m\u001b[0m\n",
            "\u001b[0;31mException\u001b[0m: No existe la clave 5 en el diccionario"
          ]
        }
      ]
    },
    {
      "cell_type": "markdown",
      "metadata": {
        "id": "rc3aFx7i5g13"
      },
      "source": [
        "### **Ejercicio 9**\n",
        "\n",
        "Tenemos un diccionario del tipo **<Entero , Lista de enteros>** (clave número entero, significado lista de enteros) que dado un numero **X**, guarda las posibles combinaciones de ese número con otros.\n",
        "\n",
        "Escribir una función que recibe un diccionario de este tipo y devuelve una lista con los posibles pares de números (en formato de tupla).\n",
        "\n",
        "Por ejemplo:\n",
        "\n",
        "Diccionario de entrada = { (5 , [5 , 3 , 7 ] )  ,  ( 8, [ 15 , 3 ] ) }\n",
        "\n",
        "Lista de salida = [ (5 , 5) ,(5 , 3) , (5 , 7) , (8 , 15) , (8 , 3) ]\n",
        "\n"
      ]
    },
    {
      "cell_type": "code",
      "metadata": {
        "id": "k3RCSCM555Ql"
      },
      "source": [],
      "execution_count": null,
      "outputs": []
    },
    {
      "cell_type": "markdown",
      "metadata": {
        "id": "qBL1crPl55oY"
      },
      "source": [
        "### **Ejercicio 10**\n",
        "\n",
        "Escribir una función que haga lo inverso del Ejercicio 9.\n",
        "\n",
        "Por ejemplo:\n",
        "\n",
        "Lista de entrada = [ (5 , 5) ,(5 , 3) , (5 , 7) , (8 , 15) , (8 , 3) ]\n",
        "\n",
        "Diccionario de salida = { (5 , [5 , 3 , 7 ] )  ,  ( 8, [ 15 , 3 ] ) }\n",
        "\n",
        "\n"
      ]
    },
    {
      "cell_type": "code",
      "metadata": {
        "id": "d4GH3FgpzMjp"
      },
      "source": [],
      "execution_count": null,
      "outputs": []
    },
    {
      "cell_type": "markdown",
      "metadata": {
        "id": "02nV6J1RzOZI"
      },
      "source": [
        "### **Ejercicio 11**\n",
        "\n",
        "Escribir el TDA **MatrizDePixels**, que modele una matriz de pixels (imagen) de **N x M** usando el tipo array del paquete numpy, donde cada pixel tiene un color representado por un número entero entre **0 y 255**.\n",
        "\n",
        "Hacer las operaciones del TDA para crear una MatrizDePixels (por defecto llena de ceros), leer y escribir pixels.\n",
        "\n",
        "Luego pruebenla con estos ejemplos:\n",
        "\n",
        "**a)** Crear una MatrizDePixels de **100 x 100** y agregarle valores a dos pixels.\n",
        "\n",
        "**b)** Crear una MatrizDePixels de **100000 x 50000** y agregarle valores a dos pixels.\n",
        "\n",
        "Explicar porque el inciso **b** da un error\n",
        "\n",
        "\n"
      ]
    },
    {
      "cell_type": "code",
      "metadata": {
        "id": "UvWvca9SDM4h"
      },
      "source": [],
      "execution_count": null,
      "outputs": []
    },
    {
      "cell_type": "markdown",
      "source": [
        "Ahora escribir el TDA **MatrizDePixelsDict**, que modele una matriz de pixels (imagen) de **N x M** usando un diccionario de **<(fila,columna) , pixel>**, donde cada pixel tiene un color representado por un número entero entre **0 y 255** y el par **(fila,columna)** indica la posición del pixel en la matriz.\n",
        "\n",
        "Hacer las operaciones del TDA para crear una MatrizDePixelsDict (por defecto llena de ceros), leer y escribir pixels.\n",
        "\n",
        "Luego pruebenla con estos ejemplos:\n",
        "\n",
        "**a)** Crear una MatrizDePixelsDict de **100 x 100** y agregarle valores a dos pixels.\n",
        "\n",
        "**b)** Crear una MatrizDePixelsDict de **100000 x 50000** y agregarle valores a dos pixels.\n",
        "\n",
        "Explicar porque el inciso **b** ahora si funciona"
      ],
      "metadata": {
        "id": "_GiVemNfJUj8"
      }
    },
    {
      "cell_type": "markdown",
      "source": [
        "**Nota:** Si importan el paquete **sys** pueden usar la función **sys.getsizeof(variable)** que retorna el espacio que ocupa una variable en memoria."
      ],
      "metadata": {
        "id": "SHOMF2WEMDW7"
      }
    },
    {
      "cell_type": "code",
      "metadata": {
        "id": "TMyxS2YBDNwh"
      },
      "source": [],
      "execution_count": null,
      "outputs": []
    },
    {
      "cell_type": "markdown",
      "source": [
        "### **Ejercicio 12**\n",
        "\n",
        "Implementar la suma matrices como operación en el TDA **MatrizDePixelsDict** implementado en el Ejercicio 11."
      ],
      "metadata": {
        "id": "a-69eMHdjcSy"
      }
    },
    {
      "cell_type": "code",
      "source": [],
      "metadata": {
        "id": "HUxXguFJeyRL"
      },
      "execution_count": null,
      "outputs": []
    }
  ]
}