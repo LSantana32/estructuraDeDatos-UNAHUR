{
  "nbformat": 4,
  "nbformat_minor": 0,
  "metadata": {
    "colab": {
      "provenance": [],
      "include_colab_link": true
    },
    "kernelspec": {
      "name": "python3",
      "display_name": "Python 3"
    }
  },
  "cells": [
    {
      "cell_type": "markdown",
      "metadata": {
        "id": "view-in-github",
        "colab_type": "text"
      },
      "source": [
        "<a href=\"https://colab.research.google.com/github/LSantana32/estructuraDeDatos-UNAHUR/blob/main/Copia_de_Trabajo_practico_8_Arboles_binarios_de_busqueda_com1.ipynb\" target=\"_parent\"><img src=\"https://colab.research.google.com/assets/colab-badge.svg\" alt=\"Open In Colab\"/></a>"
      ]
    },
    {
      "cell_type": "markdown",
      "metadata": {
        "id": "42630xxYD0gZ"
      },
      "source": [
        "# ![alt text](https://upload.wikimedia.org/wikipedia/commons/thumb/c/c3/Python-logo-notext.svg/50px-Python-logo-notext.svg.png) **Trabajo Práctico 8: Árboles binarios de búsqueda** ![alt text](https://upload.wikimedia.org/wikipedia/commons/thumb/c/c3/Python-logo-notext.svg/50px-Python-logo-notext.svg.png)\n",
        "\n",
        "En este trabajo práctico, vamos a trabajar con las estructuras de datos **Árbol binario de búsqueda** en Python. Para esta guía, los datos que guardaremos en los nodos son números enteros. Recuerden crear una copia de este archivo en su ***Google Drive*** para tener permisos de edición.\n",
        "\n",
        "### Sergio: **sergio.gonzalez@unahur.edu.ar** ###"
      ]
    },
    {
      "cell_type": "markdown",
      "metadata": {
        "id": "xjXgmD3mskbR"
      },
      "source": [
        "### **Ejercicio 1**\n",
        "\n",
        "Implementar el TDA Árbol binario de búsqueda, con las siguientes operaciones:\n",
        "\n",
        "En el Tipo NodoArbol:\n",
        "- **\\_\\_init__():** Constructor.\n",
        "- **Tiene hijo izquierdo**.\n",
        "- **Tiene hijo derecho**.\n",
        "- **Obtener grado**.\n",
        "- **Es hoja**.\n",
        "- **Predecesor de un nodo**: Retorna el nodo predecesor.\n",
        "- **Sucesor de un nodo**: Retorna el nodo sucesor.\n",
        "- **Altura de un nodo**: Retorna el largo de la trayectoria hasta la hoja mas lejana\n",
        "\n",
        "En el Tipo ABB:\n",
        "- **\\_\\_init__():** Constructor.\n",
        "- **Vaciar**.\n",
        "- **Esta vacio**.\n",
        "- **Mostrar elementos en PreOrden**.\n",
        "- **Mostrar elementos en InOrden:** Prueben que pasa si en lugar de ir primero al subarbol izquierdo y luego al subarbol derecho, van primero al derecho y luego al izquierdo.\n",
        "- **Mostrar elementos en PostOrden**.\n",
        "- **Insertar elemento:** Inserta nuevo nodo en el lugar que corresponde en el árbol con el elemento que recibe como parámetro.\n",
        "- **Buscar elemento:** Recibe un elemento y retorna *True* si el elemento esta en el árbol y *False* en caso contrario.\n",
        "- **Eliminar elemento:** Recibe un elemento y elimina el nodo que lo contiene.\n",
        "- **Clonar**.\n",
        "- **Obtener peso del arbol**.\n",
        "- **Obtener máximo del arbol**.\n",
        "- **Obtener mínimo del arbol**.\n",
        "- **Obtener profundidad del árbol:** Altura de la raíz. Deben hacer una operación que calcule la altura de un nodo (del tipo NodoArbol).\n",
        "- **Obtener profundidad de un elemento (Nivel):** Recibe un elemento y retorna su profundidad si el elemento esta en el árbol y *None* en caso contrario.\n",
        "\n",
        "\n"
      ]
    },
    {
      "cell_type": "code",
      "metadata": {
        "id": "vM50Hpx6yUDe"
      },
      "source": [
        "from graphviz import Digraph\n",
        "import copy as cp\n",
        "\n",
        "class ABB:\n",
        "  def __init__(self):\n",
        "    self.__raiz = None\n",
        "\n",
        "  def estaVacio(self)->bool:\n",
        "    return self.__raiz == None\n",
        "\n",
        "  def vaciar(self)->None:\n",
        "    self.__raiz = None\n",
        "\n",
        "  def clonar(self):\n",
        "    return cp.deepcopy(self)\n",
        "\n",
        "  def treePlot(self, fileName='arbol')->None:\n",
        "    if not self.estaVacio():\n",
        "      treeDot = Digraph()\n",
        "      treeDot.node(str(self.__raiz.dato), str(self.__raiz.dato))\n",
        "      self.__raiz.treePlot(treeDot)\n",
        "      treeDot.render(fileName, view=True)\n",
        "\n",
        "  ##################################################################\n",
        "  ##################################################################\n",
        "  class __NodoArbol:\n",
        "    def __init__(self, dato):\n",
        "      self.dato = dato\n",
        "      self.izquierdo = None\n",
        "      self.derecho = None\n",
        "\n",
        "    def tieneIzquierdo(self)->bool:\n",
        "      return self.izquierdo != None\n",
        "\n",
        "    def tieneDerecho(self)->bool:\n",
        "      return self.derecho != None\n",
        "\n",
        "    def grado(self)->int:\n",
        "      cantHijos = 0\n",
        "      if self.tieneIzquierdo(): cantHijos += 1\n",
        "      if self.tieneDerecho(): cantHijos += 1\n",
        "      return cantHijos\n",
        "\n",
        "    def esHoja(self)->bool:\n",
        "      return self.grado() == 0\n",
        "\n",
        "    def treePlot(self, dot:Digraph)->None:\n",
        "      if self.tieneIzquierdo():\n",
        "        dot.node(str(self.izquierdo.dato), str(self.izquierdo.dato))\n",
        "        dot.edge(str(self.dato), str(self.izquierdo.dato))\n",
        "        self.izquierdo.treePlot(dot)\n",
        "      else:\n",
        "        dot.node(\"-\"+str(self.dato)+\"l\", \"-\")\n",
        "        dot.edge(str(self.dato), \"-\"+str(self.dato)+\"l\")\n",
        "      if self.tieneDerecho():\n",
        "        dot.node(str(self.derecho.dato), str(self.derecho.dato))\n",
        "        dot.edge(str(self.dato), str(self.derecho.dato))\n",
        "        self.derecho.treePlot(dot)\n",
        "      else:\n",
        "        dot.node(\"-\"+str(self.dato)+\"r\", \"-\")\n",
        "        dot.edge(str(self.dato), \"-\"+str(self.dato)+\"r\")"
      ],
      "execution_count": 2,
      "outputs": []
    },
    {
      "cell_type": "code",
      "source": [
        "class ABB(ABB):\n",
        "  def insertar(self, dato:int)->None:\n",
        "    nodoNuevo = ABB.__NodoArbol(dato)\n",
        "    if self.estaVacio():\n",
        "      self.__raiz = nodoNuevo\n",
        "    else:\n",
        "      self.__raiz.insertarNodo(nodoNuevo)\n",
        "\n",
        "  class __NodoArbol(ABB.__NodoArbol):\n",
        "    def insertarNodo(self, nodoNuevo)->None:\n",
        "      if nodoNuevo.dato < self.dato:\n",
        "        #El nuevo nodo va a la izquierda de self\n",
        "        if not self.tieneIzquierdo():\n",
        "          self.izquierdo = nodoNuevo\n",
        "        else:\n",
        "          self.izquierdo.insertarNodo(nodoNuevo)\n",
        "      elif nodoNuevo.dato > self.dato:\n",
        "        #El nuevo nodo va a la derecha de self\n",
        "        if not self.tieneDerecho():\n",
        "          self.derecho = nodoNuevo\n",
        "        else:\n",
        "          self.derecho.insertarNodo(nodoNuevo)\n",
        "      else:\n",
        "        raise Exception(\"No se admiten datos repetidos\")\n",
        "\n",
        "arbol1 = ABB()\n",
        "arbol1.insertar(50)\n",
        "arbol1.insertar(40);arbol1.insertar(30);arbol1.insertar(45)\n",
        "arbol1.insertar(60);arbol1.insertar(70);arbol1.insertar(55)\n",
        "\n",
        "arbol1.treePlot(\"nuevo\")"
      ],
      "metadata": {
        "id": "H4c7oWAdGVKi"
      },
      "execution_count": 3,
      "outputs": []
    },
    {
      "cell_type": "code",
      "source": [
        "class ABB(ABB):\n",
        "  def mostrarPreOrden(self)->None:\n",
        "    if not self.estaVacio():\n",
        "      self.__raiz.mostrarPreOrdenNodo()\n",
        "\n",
        "  class __NodoArbol(ABB.__NodoArbol):\n",
        "    def mostrarPreOrdenNodo(self)->None:\n",
        "      print(self.dato)\n",
        "      if self.tieneIzquierdo():\n",
        "        self.izquierdo.mostrarPreOrdenNodo()\n",
        "      if self.tieneDerecho():\n",
        "        self.derecho.mostrarPreOrdenNodo()\n",
        "\n",
        "arbol1 = ABB()\n",
        "arbol1.insertar(50)\n",
        "arbol1.insertar(40);arbol1.insertar(30);arbol1.insertar(45)\n",
        "arbol1.insertar(60);arbol1.insertar(70);arbol1.insertar(55)\n",
        "\n",
        "arbol1.mostrarPreOrden()"
      ],
      "metadata": {
        "colab": {
          "base_uri": "https://localhost:8080/"
        },
        "id": "m5k-9X_EMh-e",
        "outputId": "6f3d02f0-1d8c-45d8-cc1d-f768e866f797"
      },
      "execution_count": 4,
      "outputs": [
        {
          "output_type": "stream",
          "name": "stdout",
          "text": [
            "50\n",
            "40\n",
            "30\n",
            "45\n",
            "60\n",
            "55\n",
            "70\n"
          ]
        }
      ]
    },
    {
      "cell_type": "code",
      "source": [
        "class ABB(ABB):\n",
        "  def mostrarPostOrden(self)->None:\n",
        "    if not self.estaVacio():\n",
        "      self.__raiz.mostrarPostOrdenNodo()\n",
        "\n",
        "  class __NodoArbol(ABB.__NodoArbol):\n",
        "    def mostrarPostOrdenNodo(self)->None:\n",
        "      if self.tieneIzquierdo():\n",
        "        self.izquierdo.mostrarPostOrdenNodo()\n",
        "      if self.tieneDerecho():\n",
        "        self.derecho.mostrarPostOrdenNodo()\n",
        "      print(self.dato)\n",
        "\n",
        "arbol1 = ABB()\n",
        "arbol1.insertar(50)\n",
        "arbol1.insertar(40);arbol1.insertar(30);arbol1.insertar(45)\n",
        "arbol1.insertar(60);arbol1.insertar(70);arbol1.insertar(55)\n",
        "\n",
        "arbol1.mostrarPostOrden()"
      ],
      "metadata": {
        "colab": {
          "base_uri": "https://localhost:8080/"
        },
        "id": "I4-BKhATOv9U",
        "outputId": "74ce0b2e-8bcf-48c1-d7b0-7cc5e816839a"
      },
      "execution_count": 5,
      "outputs": [
        {
          "output_type": "stream",
          "name": "stdout",
          "text": [
            "30\n",
            "45\n",
            "40\n",
            "55\n",
            "70\n",
            "60\n",
            "50\n"
          ]
        }
      ]
    },
    {
      "cell_type": "code",
      "source": [
        "class ABB(ABB):\n",
        "  def mostrarInOrden(self)->None:\n",
        "    if not self.estaVacio():\n",
        "      self.__raiz.mostrarInOrdenNodo()\n",
        "\n",
        "  class __NodoArbol(ABB.__NodoArbol):\n",
        "    def mostrarInOrdenNodo(self)->None:\n",
        "      if self.tieneIzquierdo():\n",
        "        self.izquierdo.mostrarInOrdenNodo()\n",
        "      print(self.dato)\n",
        "      if self.tieneDerecho():\n",
        "        self.derecho.mostrarInOrdenNodo()\n",
        "\n",
        "\n",
        "arbol1 = ABB()\n",
        "arbol1.insertar(50)\n",
        "arbol1.insertar(40);arbol1.insertar(30);arbol1.insertar(45)\n",
        "arbol1.insertar(60);arbol1.insertar(70);arbol1.insertar(55)\n",
        "\n",
        "arbol1.mostrarInOrden()"
      ],
      "metadata": {
        "colab": {
          "base_uri": "https://localhost:8080/"
        },
        "id": "Q6m4W-HmPfz-",
        "outputId": "2af04514-8b89-4821-b3b5-2bbf17347269"
      },
      "execution_count": 6,
      "outputs": [
        {
          "output_type": "stream",
          "name": "stdout",
          "text": [
            "30\n",
            "40\n",
            "45\n",
            "50\n",
            "55\n",
            "60\n",
            "70\n"
          ]
        }
      ]
    },
    {
      "cell_type": "code",
      "source": [
        "class ABB(ABB):   ##ARBOL BINARIO DE BUSQUEDA\n",
        "  def peso(self):\n",
        "    cant=0\n",
        "    if not self.estaVacio():\n",
        "      cant= self.__raiz.pesoNodo()\n",
        "    return cant\n",
        "\n",
        "  class __NodoArbol(ABB.__NodoArbol):\n",
        "    def pesoNodo(self,cant):\n",
        "      cant=1\n",
        "      if self.tieneIzquierdo():\n",
        "        cant+= self.izquierdo.pesoNodo()       #peso del subarbol izquierdo\n",
        "      if self.tieneDerecho():\n",
        "        cant+= self.derecho.pesoNodo()        #peso del subarbol derecho\n",
        "      return cant"
      ],
      "metadata": {
        "id": "3Vsr6Qb2Qkmh"
      },
      "execution_count": 7,
      "outputs": []
    },
    {
      "cell_type": "code",
      "source": [
        "class ABB(ABB):\n",
        "  def buscar(self,datoABusc):\n",
        "    dato=None\n",
        "    if not self.estaVacio():\n",
        "      dato=self.__raiz.buscarNodo(datoABusc)\n",
        "      return dato!=None\n",
        "\n",
        "  class __NodoArbol(ABB.__NodoArbol):\n",
        "    def buscarNodo(self,datoABusc):\n",
        "      dato=None\n",
        "      if self.dato==datoABusc:\n",
        "        dato=self\n",
        "      else:\n",
        "        if datoABusc < self.dato:\n",
        "          if self.tieneIzquierdo():\n",
        "            dato=self.izquierdo.buscarNodo(datoABusc)\n",
        "        else:\n",
        "          if self.tieneDerecho():\n",
        "            dato=self.derecho.buscarNodo(datoABusc)\n",
        "      return dato\n",
        "\n",
        "\n",
        "arbol1 = ABB()\n",
        "arbol1.insertar(50)\n",
        "arbol1.insertar(40);arbol1.insertar(30);arbol1.insertar(45)\n",
        "arbol1.insertar(60);arbol1.insertar(70);arbol1.insertar(55)\n",
        "\n",
        "arbol1.buscar(61)\n"
      ],
      "metadata": {
        "colab": {
          "base_uri": "https://localhost:8080/"
        },
        "id": "T8M0AoSCWU8P",
        "outputId": "ba71003d-0b6c-4ae0-ae14-054187dd9329"
      },
      "execution_count": 8,
      "outputs": [
        {
          "output_type": "execute_result",
          "data": {
            "text/plain": [
              "False"
            ]
          },
          "metadata": {},
          "execution_count": 8
        }
      ]
    },
    {
      "cell_type": "code",
      "source": [
        "class ABB(ABB):\n",
        "  def profundidad(self):\n",
        "    largo=0\n",
        "    if not self.estaVacio():\n",
        "      largo=self.__raiz.alturaNodo()\n",
        "    return largo\n",
        "\n",
        "  class __NodoArbol(ABB.__NodoArbol):\n",
        "    def alturaNodo(self):\n",
        "      alturaIzquierdo=0\n",
        "      alturaDerecho=0\n",
        "      alturaSelf=0\n",
        "      if not self.esHoja():\n",
        "        if self.tieneIzquierdo():\n",
        "          alturaIzquierdo= self.izquierdo.alturaNodo()\n",
        "        if self.tieneDerecho():\n",
        "          alturaDerecho= self.derecho.alturaNodo()\n",
        "        alturaSelf=1+max(alturaIzquierdo,alturaDerecho)\n",
        "      return alturaSelf\n",
        "\n",
        "arbol1 = ABB()\n",
        "arbol1.insertar(50)\n",
        "arbol1.insertar(40);arbol1.insertar(30);arbol1.insertar(45)\n",
        "arbol1.insertar(60);arbol1.insertar(70);arbol1.insertar(55)\n",
        "arbol1.treePlot()\n",
        "arbol1.profundidad()"
      ],
      "metadata": {
        "colab": {
          "base_uri": "https://localhost:8080/"
        },
        "id": "67CKsICWlCID",
        "outputId": "560b794e-9bfe-452a-b7e6-b5522b1f2e5d"
      },
      "execution_count": 9,
      "outputs": [
        {
          "output_type": "execute_result",
          "data": {
            "text/plain": [
              "2"
            ]
          },
          "metadata": {},
          "execution_count": 9
        }
      ]
    },
    {
      "cell_type": "code",
      "source": [
        "class ABB(ABB):\n",
        "  def nivelDato(self, datoBusc)->int:\n",
        "    nivelDatoBusc = None\n",
        "    if not self.estaVacio():\n",
        "      nivelDatoBusc = self.__raiz.nivelDatoNodo(datoBusc)\n",
        "    return nivelDatoBusc\n",
        "\n",
        "  class __NodoArbol(ABB.__NodoArbol):\n",
        "    def nivelDatoNodo(self, datoBusc, nivelActual = 0)->int:\n",
        "      nivelDatoBusc = None\n",
        "      if self.dato == datoBusc:\n",
        "        nivelDatoBusc = nivelActual\n",
        "      elif self.dato > datoBusc:\n",
        "        if self.tieneIzquierdo():\n",
        "          nivelDatoBusc = self.izquierdo.nivelDatoNodo(datoBusc, nivelActual+1)\n",
        "      else: #datoBusc > self.dato\n",
        "        if self.tieneDerecho():\n",
        "          nivelDatoBusc = self.derecho.nivelDatoNodo(datoBusc, nivelActual+1)\n",
        "      return nivelDatoBusc\n",
        "arbol1 = ABB()\n",
        "arbol1.insertar(50)\n",
        "arbol1.insertar(40);arbol1.insertar(30);arbol1.insertar(45)\n",
        "arbol1.insertar(60);arbol1.insertar(70);arbol1.insertar(55)\n",
        "\n",
        "arbol1.nivelDato(70)"
      ],
      "metadata": {
        "id": "8HJd8LQspV3h",
        "colab": {
          "base_uri": "https://localhost:8080/"
        },
        "outputId": "fd68a7b7-4c33-4a65-8ed0-4d73668c5872"
      },
      "execution_count": 10,
      "outputs": [
        {
          "output_type": "execute_result",
          "data": {
            "text/plain": [
              "2"
            ]
          },
          "metadata": {},
          "execution_count": 10
        }
      ]
    },
    {
      "cell_type": "code",
      "source": [
        "class ABB(ABB):\n",
        "  def minimo(self):\n",
        "    datoMinimo=None\n",
        "    if not self.estaVacio():\n",
        "      datoMinimo= self.__raiz.minimoNodo()\n",
        "    return datoMinimo\n",
        "\n",
        "  class __NodoArbol(ABB.__NodoArbol):\n",
        "    def minimoNodo(self):\n",
        "      datoMinimo=None\n",
        "      if not self.tieneIzquierdo():\n",
        "        datoMinimo=self.dato\n",
        "      else:\n",
        "        datoMinimo=self.izquierdo.minimoNodo()\n",
        "      return datoMinimo\n",
        "\n",
        "arbol1 = ABB()\n",
        "arbol1.insertar(50)\n",
        "arbol1.insertar(40);arbol1.insertar(30);arbol1.insertar(45)\n",
        "arbol1.insertar(60);arbol1.insertar(70);arbol1.insertar(55)\n",
        "arbol1.insertar(3)\n",
        "\n",
        "arbol1.minimo()"
      ],
      "metadata": {
        "id": "JByQ1ETlHe6C",
        "colab": {
          "base_uri": "https://localhost:8080/"
        },
        "outputId": "de560a20-d657-41ef-b896-0e5dd676e727"
      },
      "execution_count": 17,
      "outputs": [
        {
          "output_type": "execute_result",
          "data": {
            "text/plain": [
              "3"
            ]
          },
          "metadata": {},
          "execution_count": 17
        }
      ]
    },
    {
      "cell_type": "code",
      "source": [
        "class ABB(ABB):\n",
        "  def maximo(self):\n",
        "    datoMaximo=None\n",
        "    if not self.estaVacio():\n",
        "      datoMaximo= self.__raiz.maximoNodo()\n",
        "    return datoMaximo\n",
        "  class __NodoArbol(ABB.__NodoArbol):\n",
        "    def maximoNodo(self):\n",
        "      datoMaximo=None\n",
        "      if not self.tieneDerecho():\n",
        "        datoMaximo=self.dato\n",
        "      else:\n",
        "        datoMaximo=self.derecho.maximoNodo()\n",
        "      return datoMaximo\n",
        "\n",
        "arbol1 = ABB()\n",
        "arbol1.insertar(50)\n",
        "arbol1.insertar(40);arbol1.insertar(30);arbol1.insertar(45)\n",
        "arbol1.insertar(60);arbol1.insertar(70);arbol1.insertar(55)\n",
        "arbol1.insertar(3)\n",
        "\n",
        "arbol1.maximo()"
      ],
      "metadata": {
        "id": "14idEnPRMk7G",
        "colab": {
          "base_uri": "https://localhost:8080/"
        },
        "outputId": "cb8cae8f-e953-4e0c-f4e3-bedf758a754a"
      },
      "execution_count": 19,
      "outputs": [
        {
          "output_type": "execute_result",
          "data": {
            "text/plain": [
              "70"
            ]
          },
          "metadata": {},
          "execution_count": 19
        }
      ]
    },
    {
      "cell_type": "code",
      "source": [
        "class ABB(ABB):\n",
        "  class __NodoArbol(ABB.__NodoArbol):\n",
        "    def predecesor(self):\n",
        "      datoPredecesor=None\n",
        "      if self.tieneIzquierdo():\n",
        "        datoPredecesor= self.izquierdo.maximoNodo()\n",
        "        return datoPredecesor\n",
        "\n",
        "  def sucesor(self):\n",
        "      datoSucesor=None\n",
        "      if self.tieneDerecho():\n",
        "        datoSucesor= self.derecho.minimoNodo()\n",
        "        return datoSucesor"
      ],
      "metadata": {
        "id": "krmPKQsDNCHg"
      },
      "execution_count": null,
      "outputs": []
    },
    {
      "cell_type": "code",
      "source": [
        "class ABB(ABB):\n",
        "  def eliminar(self, datoDel:int)->None:\n",
        "    if not self.estaVacio():\n",
        "      if self.__raiz.dato == datoDel:\n",
        "        nodoReemplazo = self.__raiz.predecesor()\n",
        "        if nodoReemplazo==None: nodoReemplazo = self.__raiz.sucesor()\n",
        "        if nodoReemplazo != None:\n",
        "          self.__raiz.eliminarNodo(nodoReemplazo.dato)\n",
        "          nodoReemplazo.izquierdo = self.__raiz.izquierdo\n",
        "          nodoReemplazo.derecho = self.__raiz.derecho\n",
        "        self.__raiz = nodoReemplazo\n",
        "      else:\n",
        "        self.__raiz.eliminarNodo(datoDel)\n",
        "\n",
        "  class __NodoArbol(ABB.__NodoArbol):\n",
        "    def buscarProgenitor(self, datoBusc:int):\n",
        "      nodoProgenitor = nodoHije = lado = None\n",
        "      if datoBusc < self.dato:\n",
        "        if self.tieneIzquierdo():\n",
        "          if self.izquierdo.dato == datoBusc:\n",
        "            nodoProgenitor = self\n",
        "            nodoHije = self.izquierdo\n",
        "            lado = \"izq\"\n",
        "          else:\n",
        "            nodoProgenitor, nodoHije, lado = self.izquierdo.buscarProgenitor(datoBusc)\n",
        "      elif datoBusc > self.dato:\n",
        "        if self.tieneDerecho():\n",
        "          if self.derecho.dato == datoBusc:\n",
        "            nodoProgenitor = self\n",
        "            nodoHije = self.derecho\n",
        "            lado = \"der\"\n",
        "          else:\n",
        "            nodoProgenitor, nodoHije, lado = self.derecho.buscarProgenitor(datoBusc)\n",
        "      return nodoProgenitor, nodoHije, lado\n",
        "\n",
        "    def eliminarNodo(self, datoDel:int)->None:\n",
        "      nodoReemplazo = None\n",
        "      nodoProgenitor, nodoAEliminar, lado = self.buscarProgenitor(datoDel)\n",
        "      if nodoProgenitor != None:\n",
        "        nodoReemplazo = nodoAEliminar.predecesor()\n",
        "        if nodoReemplazo == None: nodoReemplazo = nodoAEliminar.sucesor()\n",
        "        if nodoReemplazo != None:\n",
        "          self.eliminarNodo(nodoReemplazo.dato)\n",
        "          nodoReemplazo.izquierdo = nodoAEliminar.izquierdo\n",
        "          nodoReemplazo.derecho = nodoAEliminar.derecho\n",
        "        if lado == \"izq\":\n",
        "          nodoProgenitor.izquierdo = nodoReemplazo\n",
        "        elif lado == \"der\":\n",
        "          nodoProgenitor.derecho = nodoReemplazo\n",
        ""
      ],
      "metadata": {
        "id": "faDfXh27QMA1"
      },
      "execution_count": null,
      "outputs": []
    },
    {
      "cell_type": "code",
      "source": [],
      "metadata": {
        "id": "ufqc2vogbncM"
      },
      "execution_count": null,
      "outputs": []
    },
    {
      "cell_type": "markdown",
      "metadata": {
        "id": "ZCanLcfoJ9_q"
      },
      "source": [
        "### **Ejercicio 2**\n",
        "\n",
        "Escribir una operación del TDA ABB que calcule la cantidad de hojas de un árbol."
      ]
    },
    {
      "cell_type": "code",
      "metadata": {
        "id": "b7fX-u09J-Wo",
        "collapsed": true,
        "colab": {
          "base_uri": "https://localhost:8080/"
        },
        "outputId": "7db93d33-ceb0-4349-94eb-123861b89ea3"
      },
      "source": [
        "class ABB(ABB):\n",
        "  def calcularHojas(self):\n",
        "    cantidadHojas=0\n",
        "    if not self.estaVacio():\n",
        "      cantidadHojas = self.__raiz.hojasNodo()\n",
        "    return cantidadHojas\n",
        "\n",
        "  class __NodoArbol(ABB.__NodoArbol):\n",
        "    def hojasNodo(self):\n",
        "      cantidadHojas=0\n",
        "      if self.esHoja():\n",
        "        cantidadHojas+=1\n",
        "      else:\n",
        "        if self.tieneDerecho():\n",
        "          cantidadHojas+= self.derecho.hojasNodo()\n",
        "        if self.tieneIzquierdo():\n",
        "          cantidadHojas+= self.izquierdo.hojasNodo()\n",
        "      return cantidadHojas\n",
        "\n",
        "arbol1 = ABB()\n",
        "arbol1.insertar(50)\n",
        "arbol1.insertar(40);arbol1.insertar(30);arbol1.insertar(45)\n",
        "arbol1.insertar(60);arbol1.insertar(70);arbol1.insertar(55)\n",
        "arbol1.insertar(25);arbol1.insertar(35)\n",
        "arbol1.treePlot()\n",
        "arbol1.calcularHojas()\n"
      ],
      "execution_count": null,
      "outputs": [
        {
          "output_type": "execute_result",
          "data": {
            "text/plain": [
              "5"
            ]
          },
          "metadata": {},
          "execution_count": 108
        }
      ]
    },
    {
      "cell_type": "markdown",
      "metadata": {
        "id": "2pUdWEUPKNB6"
      },
      "source": [
        "### **Ejercicio 3**\n",
        "\n",
        "Escribir una operación del TDA ABB que muestre los elementos que estan en el nivel N de un ABB, el nivel se recibe por parámetro."
      ]
    },
    {
      "cell_type": "code",
      "metadata": {
        "id": "_LXCfbskKOlv",
        "colab": {
          "base_uri": "https://localhost:8080/"
        },
        "outputId": "be2e3e69-29c5-40c2-bc0b-7594c7574c40"
      },
      "source": [
        "class ABB(ABB):\n",
        "  def mostrarElementosDeNivel(self,unNivel):\n",
        "    if not self.estaVacio():\n",
        "      self.__raiz.mostrarNodosDeNivel(unNivel)\n",
        "\n",
        "  class __NodoArbol(ABB.__NodoArbol):\n",
        "    def mostrarNodosDeNivel(self,unNivel,nivelActual=0):\n",
        "      if nivelActual==unNivel:\n",
        "        print(self.dato)\n",
        "      else:\n",
        "        if self.tieneIzquierdo():\n",
        "          self.izquierdo.mostrarNodosDeNivel(unNivel,nivelActual+1)\n",
        "        if self.tieneDerecho():\n",
        "          self.derecho.mostrarNodosDeNivel(unNivel,nivelActual+1)\n",
        "\n",
        "arbol1 = ABB()\n",
        "arbol1.insertar(50)\n",
        "arbol1.insertar(40);arbol1.insertar(30);arbol1.insertar(45)\n",
        "arbol1.insertar(60);arbol1.insertar(70);arbol1.insertar(55)\n",
        "arbol1.insertar(25);arbol1.insertar(35)\n",
        "arbol1.treePlot()\n",
        "arbol1.mostrarElementosDeNivel(0)"
      ],
      "execution_count": null,
      "outputs": [
        {
          "output_type": "stream",
          "name": "stdout",
          "text": [
            "50\n"
          ]
        }
      ]
    },
    {
      "cell_type": "markdown",
      "metadata": {
        "id": "u7elWMBPLrV8"
      },
      "source": [
        "### **Ejercicio 4**\n",
        "\n",
        "Se define por frontera de un árbol, la secuencia formada por los elementos almacenados en las hojas de un árbol, tomados de izquierda a derecha. Escribir una operación del TDA ABB, que imprima por pantalla la frontera del árbol."
      ]
    },
    {
      "cell_type": "code",
      "metadata": {
        "id": "FqtG8OIELyP_",
        "colab": {
          "base_uri": "https://localhost:8080/"
        },
        "outputId": "bc703c35-070f-4633-8349-7bbbb0db6fea"
      },
      "source": [
        "class ABB(ABB):\n",
        "  def imprimirFrontera(self):\n",
        "    if not self.estaVacio():\n",
        "      self.__raiz.imprimirFronteraNodo()\n",
        "  class __NodoArbol(ABB.__NodoArbol):\n",
        "    def imprimirFronteraNodo(self):\n",
        "      if self.esHoja():\n",
        "        print(self.dato)\n",
        "      else:\n",
        "        if self.tieneIzquierdo():\n",
        "          self.izquierdo.imprimirFronteraNodo()\n",
        "        if self.tieneDerecho():\n",
        "          self.derecho.imprimirFronteraNodo()\n",
        "\n",
        "arbol1 = ABB()\n",
        "arbol1.insertar(50)\n",
        "arbol1.insertar(40);arbol1.insertar(30);arbol1.insertar(45)\n",
        "arbol1.insertar(60);arbol1.insertar(70);arbol1.insertar(55)\n",
        "arbol1.insertar(25);arbol1.insertar(35)\n",
        "arbol1.treePlot()\n",
        "arbol1.imprimirFrontera()\n"
      ],
      "execution_count": null,
      "outputs": [
        {
          "output_type": "stream",
          "name": "stdout",
          "text": [
            "25\n",
            "35\n",
            "45\n",
            "55\n",
            "70\n"
          ]
        }
      ]
    },
    {
      "cell_type": "markdown",
      "metadata": {
        "id": "lAqDC6LPL4dS"
      },
      "source": [
        "### **Ejercicio 5**\n",
        "\n",
        "Escribir una operación del TDA ABB que retorne una lista ordenada (de menor a mayor) con todos los números pares que forman parte del árbol."
      ]
    },
    {
      "cell_type": "code",
      "metadata": {
        "id": "zGHv2S_4NQsS",
        "colab": {
          "base_uri": "https://localhost:8080/"
        },
        "outputId": "c1580437-33f2-4aed-eb0e-cd4c37e81b4e"
      },
      "source": [
        "class ABB(ABB):\n",
        "  def mostrarInOrdenPar(self) -> None:\n",
        "    lista=[]\n",
        "    if not self.estaVacio():\n",
        "      self.__raiz.nodoEnOrdenPar(lista)\n",
        "    return lista\n",
        "\n",
        "  class __NodoArbol(ABB.__NodoArbol):\n",
        "    def nodoEnOrdenPar(self,lista):\n",
        "      if self.tieneIzquierdo():\n",
        "        self.izquierdo.nodoEnOrdenPar(lista)\n",
        "      if self.dato%2==0:\n",
        "        lista.append(self.dato)\n",
        "      if self.tieneDerecho():\n",
        "        self.derecho.nodoEnOrdenPar(lista)\n",
        "      return lista\n",
        "\n",
        "arbol1 = ABB()\n",
        "arbol1.insertar(50)\n",
        "arbol1.insertar(40);arbol1.insertar(30);arbol1.insertar(45)\n",
        "arbol1.insertar(60);arbol1.insertar(70);arbol1.insertar(55)\n",
        "arbol1.insertar(25);arbol1.insertar(38)\n",
        "arbol1.mostrarInOrdenPar()"
      ],
      "execution_count": null,
      "outputs": [
        {
          "output_type": "execute_result",
          "data": {
            "text/plain": [
              "[30, 38, 40, 50, 60, 70]"
            ]
          },
          "metadata": {},
          "execution_count": 111
        }
      ]
    },
    {
      "cell_type": "markdown",
      "metadata": {
        "id": "MH98-7dgNRNe"
      },
      "source": [
        "### **Ejercicio 6**\n",
        "\n",
        "Escribir una operación del TDA ABB, que rote el árbol completo, es decir, los elementos del subárbol izquierdo deben ser mayores a la raíz y los del subárbol derecho menores (para todos los nodos del arbol). No se debe retornar un nuevo arbol, sino modificar el arbol desde el que se llama a la operación."
      ]
    },
    {
      "cell_type": "code",
      "metadata": {
        "id": "xyn9fGwXNRlW",
        "colab": {
          "base_uri": "https://localhost:8080/"
        },
        "outputId": "dc61d036-6175-43e8-e16e-69fb797cb52e"
      },
      "source": [
        "class ABB(ABB):\n",
        "  def rotarArbol(self):\n",
        "    if not self.estaVacio():\n",
        "      self.__raiz.rotarNodo()\n",
        "\n",
        "  class __NodoArbol(ABB.__NodoArbol):\n",
        "    def rotarNodo(self):\n",
        "      self.izquierdo, self.derecho= self.derecho, self.izquierdo\n",
        "      if self.tieneIzquierdo():\n",
        "        self.izquierdo.rotarNodo()\n",
        "      if self.tieneDerecho():\n",
        "        self.derecho.rotarNodo()\n",
        "\n",
        "arbol1 = ABB()\n",
        "arbol1.insertar(50)\n",
        "arbol1.insertar(40);arbol1.insertar(30);arbol1.insertar(45)\n",
        "arbol1.insertar(60);arbol1.insertar(70);arbol1.insertar(55)\n",
        "arbol1.insertar(25);arbol1.insertar(38)\n",
        "arbol1.rotarArbol()\n",
        "print(arbol1)\n"
      ],
      "execution_count": null,
      "outputs": [
        {
          "output_type": "stream",
          "name": "stdout",
          "text": [
            "<__main__.ABB object at 0x7c3fec83dd20>\n"
          ]
        }
      ]
    },
    {
      "cell_type": "markdown",
      "source": [
        "### **Ejercicio 7**\n",
        "\n",
        "Escribir una operación del TDA ABB llamada **cantidadNodosEnNivel** que retorna la cantidad de nodos del arbol en un nivel determinado"
      ],
      "metadata": {
        "id": "DA9MfYHSrPEM"
      }
    },
    {
      "cell_type": "code",
      "source": [
        "class ABB(ABB):\n",
        "  def cantidadNodosEnNivel(self,unNivel):\n",
        "    cantidad=0\n",
        "    if not self.estaVacio():\n",
        "      cantidad=self.__raiz.cantidadNodosEnNivelNodo(unNivel)\n",
        "    return cantidad\n",
        "\n",
        "  class __NodoArbol(ABB.__NodoArbol):\n",
        "    def cantidadNodosEnNivelNodo(self,unNivel,NivelActual=0):\n",
        "      cantidad=0\n",
        "      if unNivel==NivelActual:\n",
        "        cantidad+=1\n",
        "      else:\n",
        "        if self.tieneIzquierdo():\n",
        "          cantidad+=self.izquierdo.cantidadNodosEnNivelNodo(unNivel,NivelActual+1)\n",
        "        if self.tieneDerecho():\n",
        "          cantidad+=self.derecho.cantidadNodosEnNivelNodo(unNivel,NivelActual+1)\n",
        "      return cantidad\n",
        "\n",
        "arbol1 = ABB()\n",
        "arbol1.insertar(50)\n",
        "arbol1.insertar(40);arbol1.insertar(30);arbol1.insertar(45)\n",
        "arbol1.insertar(60);arbol1.insertar(70);arbol1.insertar(55)\n",
        "arbol1.insertar(25);arbol1.insertar(38)\n",
        "arbol1.cantidadNodosEnNivel(3)"
      ],
      "metadata": {
        "id": "JAJAgEIYrjsa",
        "colab": {
          "base_uri": "https://localhost:8080/"
        },
        "outputId": "2404f315-d7e1-452b-a35e-68be94cf7a9f"
      },
      "execution_count": null,
      "outputs": [
        {
          "output_type": "execute_result",
          "data": {
            "text/plain": [
              "2"
            ]
          },
          "metadata": {},
          "execution_count": 118
        }
      ]
    }
  ]
}