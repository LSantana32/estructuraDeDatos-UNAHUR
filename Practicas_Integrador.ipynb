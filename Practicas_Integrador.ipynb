{
  "nbformat": 4,
  "nbformat_minor": 0,
  "metadata": {
    "colab": {
      "provenance": [],
      "authorship_tag": "ABX9TyOxW3Yys71i5it9anzzeUQx",
      "include_colab_link": true
    },
    "kernelspec": {
      "name": "python3",
      "display_name": "Python 3"
    },
    "language_info": {
      "name": "python"
    }
  },
  "cells": [
    {
      "cell_type": "markdown",
      "metadata": {
        "id": "view-in-github",
        "colab_type": "text"
      },
      "source": [
        "<a href=\"https://colab.research.google.com/github/LSantana32/estructuraDeDatos-UNAHUR/blob/main/Practicas_Integrador.ipynb\" target=\"_parent\"><img src=\"https://colab.research.google.com/assets/colab-badge.svg\" alt=\"Open In Colab\"/></a>"
      ]
    },
    {
      "cell_type": "markdown",
      "source": [
        "# PRACTICAS INTEGRADOR ESTRUCTURA DE DATOS"
      ],
      "metadata": {
        "id": "mLCvR4YHDpTy"
      }
    },
    {
      "cell_type": "markdown",
      "source": [
        "Escribir una función listaToDic que recibe una lista con chirimbolos y devuelve un diccionario con cada chirimbolo como clave y como significado una matriz de nxn donde n es la cantidad de veces que aparece el chirimbolo en la lista. La matriz se debe llenar con el chirimbolo de la clave.\n",
        "\n",
        "Se debe resolver usando las operaciones del TDA diccionario que vimos en clase, sin violar el encapsulamiento ni utilizando estructuras auxiliares. Si es necesario definir funciones auxiliares.\n",
        "\n",
        "Ejemplo:\n",
        "\n",
        "lista = {‘*’, ‘#’, ‘/’, ‘*’, ‘#’, ‘/’, ‘*’, ‘$’}\n",
        "\n",
        "listaToDic(lista) –> Diccionario\n",
        "\n",
        "Entonces, listaToDic(lista) =>\n",
        "{(‘*’,  [[‘*’,‘*’,‘*’],[‘*’,‘*’,‘*’],[‘*’,‘*’,‘*’]]) , (‘$’ , [[‘$’]]), (‘/’ , [[‘/’,‘/’],[‘/’,‘/’]]) , (‘#’ , [[‘#’,‘#’],[‘#’,‘#’]])}\n"
      ],
      "metadata": {
        "id": "5Ubd8JjlCicZ"
      }
    },
    {
      "cell_type": "code",
      "execution_count": null,
      "metadata": {
        "id": "mrtGxDThNcdI"
      },
      "outputs": [],
      "source": [
        "def listToDic(lista):\n",
        "  dicSalida= Diccionario()\n",
        "  for element in lista:\n",
        "    if not element in dicSalida:\n",
        "      dicSalida.insert(element,1)\n",
        "    else:\n",
        "      dicSalida[element]+=1\n",
        "  for element in dicSalida.keys():\n",
        "    dicSalida[element]= matrizDic(dicSalida[element],element)\n",
        "  return dicSalida\n",
        "\n",
        "def matrizDic(numero,elemento):\n",
        "  matrizSalida=np.zeros((n,n),str)\n",
        "  for filas in range(numero):\n",
        "    for cols in range(numero):\n",
        "      matrizSalida[filas,cols]=elemento\n",
        "  return matrizSalida\n",
        "\n"
      ]
    },
    {
      "cell_type": "markdown",
      "source": [
        "Escribir la operación eliminarMaximos del TDA Lista, que elimina todas las apariciones del máximo y retorna otra lista (del TDA lista de la cátedra) con las posiciones que eliminó. La función puede hacer uso de las funciones estaVacia del TDA Lista y tieneSiguiente del TDA NodoLista. Si la lista está vacía, la función debe retornar []. No se puede usar el TDA Lista de Python.\n",
        "\n",
        "Ejemplo:\n",
        "Si lista = [3 , 5 , 8 , 12 , 6 , 7 , 9 , 12, 10 , 1]\n",
        "\n",
        "lista.eliminarMaximos() –> [3,7] y la lista debe quedar así [3 , 5 , 8  , 6 , 7 , 9 , 10 , 1]\n"
      ],
      "metadata": {
        "id": "QhPaq7M2C87-"
      }
    },
    {
      "cell_type": "code",
      "source": [
        "class Lista(Lista):\n",
        "  def eliminarMaximos(self):\n",
        "    listaSalida=[]\n",
        "    if not self.estaVacia():\n",
        "      nodoAux=self.__primero\n",
        "      nodoMaximo=self.__primero\n",
        "\n",
        "      while nodoAux!=None:\n",
        "        if nodoAux>nodoMaximo:\n",
        "          nodoMaximo=nodoAux\n",
        "      listaSalida=eliminarNodo(nodoMaximo,ListaSalida)\n",
        "      return listaSalida\n",
        "\n",
        "\n",
        "  def eliminarNodo(nodo,listaSalida):\n",
        "      pos=0\n",
        "      nodoAux=self.__primero\n",
        "\n",
        "      if nodoAux.dato==nodoMaximo.dato:\n",
        "        self.__primero=nodoAux.siguiente\n",
        "\n",
        "      while nodoAux.tieneSiguiente():\n",
        "        if nodoAux.siguiente.dato==nodoMaximo.dato:\n",
        "          nodoAux.siguiente=nodoAux.siguiente.siguiente\n",
        "          listaSalida.append(pos+1)\n",
        "        else:\n",
        "          nodoAux=nodoAux.siguiente\n",
        "        pos+=1\n",
        "        return listaSalida\n",
        "\n",
        "\n",
        "\n"
      ],
      "metadata": {
        "id": "HQRv3AUzC690"
      },
      "execution_count": null,
      "outputs": []
    },
    {
      "cell_type": "markdown",
      "source": [
        "Escribir una función maximoPorClave que recibe un diccionario de tipo (clave: string, valor: lista enteros) como parámetro y lo modifica dejando para cada palabra clave el mayor entero de su tupla de valores.\n",
        "\n",
        "Se debe resolver usando las operaciones del TDA diccionario que vimos en clase, sin violar el encapsulamiento ni utilizando estructuras auxiliares. Si es necesario definir funciones auxiliares.\n",
        "\n",
        "Ejemplo:\n",
        "\n",
        "dic1 = {(“casa” , [8, 2, 12]) , (“perro” , [4, 1]) , (“auto” , [2, 9, 8, 3])}\n",
        "\n",
        "maximoPorClave(dic1)\n",
        "\n",
        "Entonces, dic1 = {(“casa” , 12) , (“perro” , 4) , (“auto” , 9)}\n"
      ],
      "metadata": {
        "id": "yGklC96GDOxx"
      }
    },
    {
      "cell_type": "code",
      "source": [
        "def maximoPorClave(diccionario):\n",
        "  for clave in diccionario:\n",
        "        diccionario[clave]= maximoLista(diccionario[clave])\n",
        "  return diccionario\n",
        "\n",
        "def maximoLista(lista):\n",
        "  maximo=lista[0]\n",
        "  for elemento in lista:\n",
        "    if elemento>maximo:\n",
        "      maximo=elemento\n",
        "  return maximo\n"
      ],
      "metadata": {
        "id": "Vz2Au-WHDNj7"
      },
      "execution_count": null,
      "outputs": []
    },
    {
      "cell_type": "markdown",
      "source": [
        "Escribir la operación eliminarSegmento del TDA Lista, que recibe dos posiciones (“inicio” y “final”) como entrada y elimina todos los nodos en la lista entre ambas (incluidas). Si la posición “final” es más grande que el tamaño de la lista, se eliminan todos los elementos desde la posición “inicio” hasta el final. No se puede utilizar la operación eliminar del tipo Lista. No se puede usar el TDA Lista de Python. Pueden suponer que siempre la posición “final” es mayor o igual que la “inicio”.\n",
        "\n",
        "Ejemplo:\n",
        "\n",
        "Si lista = [3 , 5 , 8 , 2 , 6 , 7 , 5 , 8 , 2]\n",
        "\n",
        "lista.eliminarSegmento(2,5) -> lista = [3 , 5 , 5 , 8 , 2]\n",
        "\n",
        "lista.eliminarSegmento(4,50) -> lista = [3 , 5 , 8 , 2 ]\n",
        "\n",
        "lista.eliminarSegmento(1,1) -> lista = [3 , 8 , 2 , 6 , 7 , 5 , 8 , 2]\n",
        "\n",
        "\n"
      ],
      "metadata": {
        "id": "_nXXZzVHDaU9"
      }
    },
    {
      "cell_type": "code",
      "source": [
        "class Lista(Lista):\n",
        "  def eliminarSegmento(self,inicio,final):\n",
        "    pos=0\n",
        "\n",
        "    if not self.estaVacio():\n",
        "      if inicio==0:\n",
        "        while not self.estaVacio() and pos<=final:\n",
        "          self.__primero=self.__primero.siguiente\n",
        "          pos+=1\n",
        "\n",
        "      else:\n",
        "        nodoAux=self.__primero\n",
        "        while nodoAux.tieneSiguiente() and pos<=final:\n",
        "          if pos>=inicio:\n",
        "            nodoAux.siguiente=nodoAux.siguiente.siguiente\n",
        "          else:\n",
        "            nodoAux=nodoAux.siguiente\n",
        "          pos+=1"
      ],
      "metadata": {
        "id": "dw5aXJnfDcAt"
      },
      "execution_count": null,
      "outputs": []
    }
  ]
}