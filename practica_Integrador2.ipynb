{
  "nbformat": 4,
  "nbformat_minor": 0,
  "metadata": {
    "colab": {
      "provenance": [],
      "include_colab_link": true
    },
    "kernelspec": {
      "name": "python3",
      "display_name": "Python 3"
    },
    "language_info": {
      "name": "python"
    }
  },
  "cells": [
    {
      "cell_type": "markdown",
      "metadata": {
        "id": "view-in-github",
        "colab_type": "text"
      },
      "source": [
        "<a href=\"https://colab.research.google.com/github/LSantana32/estructuraDeDatos-UNAHUR/blob/main/practica_Integrador2.ipynb\" target=\"_parent\"><img src=\"https://colab.research.google.com/assets/colab-badge.svg\" alt=\"Open In Colab\"/></a>"
      ]
    },
    {
      "cell_type": "code",
      "source": [
        "import copy as cp\n",
        "\n",
        "class Diccionario:\n",
        "  #######TDA tupla clave-significado#########################\n",
        "  class __TuplaDic:\n",
        "    def __init__(self, key, value):\n",
        "      self.__data = (key,value)\n",
        "\n",
        "    def __repr__(self):\n",
        "      return str(self.__data)\n",
        "\n",
        "    def __eq__(self, key):\n",
        "      return self.__data[0] == key\n",
        "\n",
        "    def __hash__(self):\n",
        "      return hash(self.__data[0])\n",
        "\n",
        "    def getKey(self):\n",
        "      return self.__data[0]\n",
        "\n",
        "    def getValue(self):\n",
        "      return self.__data[1]\n",
        "  ############################################################\n",
        "\n",
        "  ###Constructor recibe dos listas de claves y significados en orden\n",
        "  def __init__(self, keys = None, values = None):\n",
        "    self.__diccionario = set()\n",
        "    if keys != None:\n",
        "      if len(keys) == len(values):\n",
        "        for i in range(len(keys)):\n",
        "          self[keys[i]] = values[i]\n",
        "      else:\n",
        "        raise Exception(\"Las listas de pares clave-significado deben tener la misma cantidad\")\n",
        "\n",
        "  def __repr__(self):\n",
        "    return str(self.__diccionario)\n",
        "\n",
        "  ###Asignacion usando [], se recibe clave entre corchetes / Permite reemplazar aunque exista la clave\n",
        "  def __setitem__(self, key = None, value = None):\n",
        "    if key != None:\n",
        "      if key in self:\n",
        "        self.__diccionario.remove(key)\n",
        "      self.__diccionario.add(Diccionario.__TuplaDic(key,value))\n",
        "\n",
        "  ###No inserta si existe la clave, es decir, si la clave existe en el dicc no modifica el valor\n",
        "  def insert(self, key = None, value = None):\n",
        "    if key != None:\n",
        "      self.__diccionario.add(Diccionario.__TuplaDic(key,value))\n",
        "\n",
        "  ###Elimina si existe la clave, es decir, si la clave existe en el dicc elimina el par clave-valor\n",
        "  ###Sino existe la clave, no hace nada\n",
        "  def remove(self, key):\n",
        "    if key in self:\n",
        "        valor = self[key]\n",
        "        self.__diccionario.remove(key)\n",
        "        return valor\n",
        "\n",
        "  ###Vacia dicc\n",
        "  def clear(self):\n",
        "    self.__diccionario = set()\n",
        "\n",
        "  ###Clonar dicc\n",
        "  def clone(self):\n",
        "    return cp.deepcopy(self)\n",
        "\n",
        "  ###Acceso a valores usando [], se recibe clave entre corchetes\n",
        "  def __getitem__(self, key):\n",
        "    value = None\n",
        "    flag = False\n",
        "    for tuplaDic in self.__diccionario:\n",
        "      if tuplaDic.getKey() == key:\n",
        "        value = tuplaDic.getValue()\n",
        "        flag = True\n",
        "    if flag:\n",
        "      return value\n",
        "    else:\n",
        "      raise Exception(\"No existe la clave %s en el diccionario\" % (key))\n",
        "\n",
        "  ###Retorna valor de la clave que se recibe por parametro\n",
        "  def get(self, key):\n",
        "    value = None\n",
        "    flag = False\n",
        "    for tuplaDic in self.__diccionario:\n",
        "      if tuplaDic.getKey() == key:\n",
        "        value = tuplaDic.getValue()\n",
        "        flag = True\n",
        "    if flag:\n",
        "      return value\n",
        "    else:\n",
        "      raise Exception(\"No existe la clave %s en el diccionario\" % (key))\n",
        "\n",
        "  ###Retorna lista con claves\n",
        "  def keys(self):\n",
        "    return [x.getKey() for x in self.__diccionario]\n",
        "\n",
        "  ###Retorna lista con valores\n",
        "  def values(self):\n",
        "    return [x.getValue() for x in self.__diccionario]\n",
        "\n",
        "  ###Operador \"in\"\n",
        "  def __contains__(self, key):\n",
        "    return key in self.__diccionario\n",
        "\n",
        "  ###Tamaño de diccionario\n",
        "  def len(self):\n",
        "    return len(self.__diccionario)"
      ],
      "metadata": {
        "id": "oOOiRhhTJnv8"
      },
      "execution_count": 1,
      "outputs": []
    },
    {
      "cell_type": "code",
      "source": [
        "import copy as cp\n",
        "\n",
        "class Lista:\n",
        "  class __NodoLista:\n",
        "    def __init__(self, dato):\n",
        "      self.dato = dato\n",
        "      self.siguiente = None\n",
        "    def tieneSiguiente(self)->bool:\n",
        "      return self.siguiente != None\n",
        "\n",
        "  def __init__(self):\n",
        "    self.__primero = None\n",
        "\n",
        "  def estaVacia(self)->bool:\n",
        "    return self.__primero == None\n",
        "\n",
        "  def __repr__(self)->str:\n",
        "    salida = \"primero\"\n",
        "    nodoAux = self.__primero\n",
        "    while nodoAux != None:\n",
        "      salida += \" -> \" + str(nodoAux.dato)\n",
        "      nodoAux = nodoAux.siguiente\n",
        "    salida += \" -|\"\n",
        "    return salida\n",
        "\n",
        "#primero -> 2 -> 3 -> 4 -|\n",
        "  def tamaño(self)->int:\n",
        "    cantNodos = 0\n",
        "    nodoAux = self.__primero\n",
        "    while nodoAux != None:\n",
        "      cantNodos += 1\n",
        "      nodoAux = nodoAux.siguiente\n",
        "    return cantNodos\n",
        "\n",
        "  def agregarAlFinal(self, dato)->None:\n",
        "    nodoNuevo = Lista.__NodoLista(dato)\n",
        "    if self.estaVacia():\n",
        "      self.__primero = nodoNuevo\n",
        "    else:\n",
        "      nodoAux = self.__primero\n",
        "      while nodoAux.tieneSiguiente():\n",
        "        nodoAux = nodoAux.siguiente\n",
        "      nodoAux.siguiente = nodoNuevo\n",
        "\n",
        "  def insertar(self, posIns, dato)->None:\n",
        "    nodoNuevo = Lista.__NodoLista(dato)\n",
        "    if posIns >= 0:\n",
        "      if self.estaVacia():\n",
        "        self.__primero = nodoNuevo\n",
        "      elif posIns == 0:\n",
        "        nodoNuevo.siguiente = self.__primero\n",
        "        self.__primero = nodoNuevo\n",
        "      else:\n",
        "        nodoAux = self.__primero\n",
        "        posAux = 0\n",
        "        while nodoAux.tieneSiguiente() and posAux < posIns-1:\n",
        "          nodoAux = nodoAux.siguiente\n",
        "          posAux += 1\n",
        "        nodoNuevo.siguiente = nodoAux.siguiente\n",
        "        nodoAux.siguiente = nodoNuevo\n",
        "    else:\n",
        "      raise IndexError(\"La posicion debe ser mayor o igual a cero\")\n",
        "\n",
        "  def eliminar(self, posDel)->any:\n",
        "    datoDel = None\n",
        "    if 0 <= posDel < self.tamaño():\n",
        "      if posDel == 0:\n",
        "        datoDel = self.__primero.dato\n",
        "        self.__primero = self.__primero.siguiente\n",
        "      else:\n",
        "        nodoAux = self.__primero\n",
        "        posAux = 0\n",
        "        while posAux < posDel-1:\n",
        "          nodoAux = nodoAux.siguiente\n",
        "          posAux += 1\n",
        "        datoDel = nodoAux.siguiente.dato\n",
        "        nodoAux.siguiente = nodoAux.siguiente.siguiente\n",
        "    else:\n",
        "      raise IndexError(\"Posicion inválida\")\n",
        "    return datoDel\n",
        "\n",
        "  def obtener(self, posGet)->any:\n",
        "    datoGet = None\n",
        "    if 0 <= posGet < self.tamaño():\n",
        "      nodoAux = self.__primero\n",
        "      posAux = 0\n",
        "      while posAux < posGet:\n",
        "        nodoAux = nodoAux.siguiente\n",
        "        posAux += 1\n",
        "      datoGet = nodoAux.dato\n",
        "    else:\n",
        "      raise IndexError(\"Posicion inválida\")\n",
        "    return datoGet\n",
        "\n",
        "  def __getitem__(self, posGet)->any:\n",
        "    datoGet = None\n",
        "    if 0 <= posGet < self.tamaño():\n",
        "      nodoAux = self.__primero\n",
        "      posAux = 0\n",
        "      while posAux < posGet:\n",
        "        nodoAux = nodoAux.siguiente\n",
        "        posAux += 1\n",
        "      datoGet = nodoAux.dato\n",
        "    else:\n",
        "      raise IndexError(\"Posicion inválida\")\n",
        "    return datoGet\n",
        "\n",
        "  def __setitem__(self, posSet, datoSet)->None:\n",
        "    #Reemplazar elemento de posicion posSet por datoSet en lista self\n",
        "    pass\n",
        "\n",
        "  def __contains__(self, datoIn)->bool:\n",
        "    #Sobrecarga del operador \"in\"\n",
        "    pass\n",
        "\n",
        "  def vaciar(self)->None:\n",
        "    self.__primero = None\n",
        "\n",
        "  def clonar(self):\n",
        "    return cp.deepcopy(self)"
      ],
      "metadata": {
        "id": "Ht-Cx4V_PM8D"
      },
      "execution_count": 13,
      "outputs": []
    },
    {
      "cell_type": "markdown",
      "source": [
        "### **Ejercicio 1**\n",
        "\n",
        "Escribir una función que calcule la intersección de dos diccionarios de la siguiente forma:\n",
        "\n",
        "-  Si una clave está en ambos diccionarios, en la intersección el significado de dicha clave es una tupla con los valores de ambos diccionarios\n",
        "-  Si una clave está en uno solo de los diccionarios, no formará parte de la intersección.\n",
        "\n",
        "Ejemplo:\n",
        "\n",
        "dic1 = {1:“casa” , 20:“perro” , 8:“gato” , 10:“mate” , 5:“auto”} y dic2 = {5:3 , 2:15 , 8:20 , 15:1 , 20:25}\n",
        "\n",
        "inter = interseccion(dic1, dic2) -> inter = {20 : (“perro”,25) , 8 : (“gato”,20) , 5 : (“auto”,3)}\n"
      ],
      "metadata": {
        "id": "oAR2MXTJUO-t"
      }
    },
    {
      "cell_type": "code",
      "source": [
        "def interseccionDeDiccionarios(dicc1,dicc2):\n",
        "  diccSalida=Diccionario()\n",
        "  for clave in dicc1.keys():\n",
        "    if clave in dicc2:\n",
        "      diccSalida.insert(clave,(dicc1[clave],dicc2[clave]))\n",
        "  return diccSalida\n",
        "\n",
        "dicc1=Diccionario()\n",
        "dicc1.insert(1,\"casa\"),dicc1.insert(20,\"perro\"),dicc1.insert(8,\"gato\"),dicc1.insert(10,\"mate\"),dicc1.insert(5,\"auto\")\n",
        "print(dicc1)\n",
        "dicc2=Diccionario()\n",
        "dicc2.insert(5,3),dicc2.insert(2,15),dicc2.insert(8,20),dicc2.insert(15,1),dicc2.insert(20,25)\n",
        "print(dicc2)\n",
        "interseccionDeDiccionarios(dicc1,dicc2)"
      ],
      "metadata": {
        "id": "0fjGNnXGUPV0",
        "colab": {
          "base_uri": "https://localhost:8080/"
        },
        "outputId": "a2fed91b-363c-45e0-ce9e-e934dce69906"
      },
      "execution_count": 3,
      "outputs": [
        {
          "output_type": "stream",
          "name": "stdout",
          "text": [
            "{(1, 'casa'), (5, 'auto'), (8, 'gato'), (10, 'mate'), (20, 'perro')}\n",
            "{(2, 15), (5, 3), (8, 20), (15, 1), (20, 25)}\n"
          ]
        },
        {
          "output_type": "execute_result",
          "data": {
            "text/plain": [
              "{(8, ('gato', 20)), (20, ('perro', 25)), (5, ('auto', 3))}"
            ]
          },
          "metadata": {},
          "execution_count": 3
        }
      ]
    },
    {
      "cell_type": "markdown",
      "metadata": {
        "id": "QxyAW3bQ-s6b"
      },
      "source": [
        "### **Ejercicio 3**\n",
        "\n",
        "Escribir una operación del TDA Lista que inserte un dato de modo similar al insertar básico, al final de la lista (append). Pero ahora, no se debe permitir insertar datos repetidos, si un dato ya esta almacenado entonces la lista no varía. No se puede utilizar las operaciones insertar y buscar del TDA Lista. Especificar la estructura de datos del tipo Lista y del NodoLista utilizados."
      ]
    },
    {
      "cell_type": "code",
      "metadata": {
        "id": "MQvhmx1Y-wq9"
      },
      "source": [
        "class Lista(Lista):\n",
        "  def insertarSinRepeticion(self, dato)->None:\n",
        "    nodoNuevo = Lista.__NodoLista(dato)\n",
        "    if self.estaVacia():\n",
        "      self.__primero = nodoNuevo\n",
        "    elif not self.estaEnLista(dato):\n",
        "      nodoAux = self.__primero\n",
        "      while nodoAux.tieneSiguiente():\n",
        "        nodoAux = nodoAux.siguiente\n",
        "      nodoAux.siguiente = nodoNuevo\n",
        "\n",
        "  def estaEnLista(self,dato):\n",
        "    nodoAux=self.__primero\n",
        "    asignacion=False\n",
        "    while nodoAux!=None and asignacion==False:\n",
        "      if dato==nodoAux.dato:\n",
        "        asignacion=True\n",
        "      else:\n",
        "        nodoAux=nodoAux.siguiente\n",
        "    return asignacion"
      ],
      "execution_count": null,
      "outputs": []
    },
    {
      "cell_type": "markdown",
      "source": [
        "### **Ejercicio 4**\n",
        "\n",
        "Escribir la función **maximoPorNumero** que recibe una lista de pares (x,y) que indica que el número x está asociado al valor y.\n",
        "\n",
        "Se debe devolver un diccionario con clave x y significado (valor) y, donde y sea el máximo valor asociado a x.\n",
        "\n",
        "Se debe resolver usando las operaciones del TDA diccionario que vimos en clase,sin violar el encapsulamiento ni utilizando estructuras auxiliares.\n",
        "\n",
        "lista = [ (1,4) , (2,5) , (1,5) , (3,8) , (2,1) , (2,5) ]\n",
        "\n",
        "dic = maximoPorNumero(lista)\n",
        "\n",
        "Entonces, dic = {(1 , 5) , (2 , 5), (3, 8)}"
      ],
      "metadata": {
        "id": "LpyzaUNHU2-z"
      }
    },
    {
      "cell_type": "code",
      "source": [
        "def maximoPorNumero(lista):\n",
        "  diccSalida=Diccionario()\n",
        "  for element in lista:\n",
        "    if not element[0] in diccSalida:\n",
        "      diccSalida[element[0]]=element[1]\n",
        "    else:\n",
        "      if element[1]>diccSalida[element[0]]:\n",
        "        diccSalida[element[0]]=element[1]\n",
        "  return diccSalida\n",
        "\n",
        "lista= [ (1,4) , (2,5) , (1,5) , (3,8) , (2,1) , (2,5) ]\n",
        "maximoPorNumero(lista)"
      ],
      "metadata": {
        "id": "NxYXRyJ5U3R9",
        "colab": {
          "base_uri": "https://localhost:8080/"
        },
        "outputId": "439937fa-ad9d-4555-ab85-0d7bffbdce49"
      },
      "execution_count": 5,
      "outputs": [
        {
          "output_type": "execute_result",
          "data": {
            "text/plain": [
              "{(1, 5), (2, 5), (3, 8)}"
            ]
          },
          "metadata": {},
          "execution_count": 5
        }
      ]
    },
    {
      "cell_type": "markdown",
      "metadata": {
        "id": "FKZN2_jsAvNM"
      },
      "source": [
        "### **Ejercicio 5**\n",
        "\n",
        "Escribir una operación del TDA Lista (enteros) que tome una lista y elimine todos los elementos impares, la operación **NO** debe retornar una nueva lista, sino modificar la lista con la cual se llama a la función. Definir la estructura de datos del tipo Lista y del NodoLista utilizados.\n",
        "\n",
        "**Nota: No se puede utilizar la operación eliminar del TDA lista y el primer elemento siempre es par.**"
      ]
    },
    {
      "cell_type": "code",
      "metadata": {
        "id": "3UDBALsHAveN"
      },
      "source": [
        "class Lista(Lista):\n",
        "  def eliminarImpares(self):\n",
        "    if not self.estaVacia():\n",
        "      nodoAux=self.__primero\n",
        "      while nodoAux.tieneSiguiente():\n",
        "        if nodoAux.siguiente.dato%2==1:\n",
        "          nodoAux.siguiente=nodoAux.siguiente.siguiente\n",
        "        else:\n",
        "          nodoAux=nodoAux.siguiente\n",
        ""
      ],
      "execution_count": null,
      "outputs": []
    },
    {
      "cell_type": "markdown",
      "source": [
        "### **Ejercicio 7**\n",
        "\n",
        "Escribir la operación insertarEnPosI del TDA Lista que inserte una lista completa dentro de otra en una posición determinada. La función debe recibir como parámetro la lista que debe ser insertada y la posición de inserción. Si la posición es más grande que el tamaño de la lista original, la nueva lista se inserta al final. Definir la estructura de datos del TDA Lista utilizada. No se pueden utilizar las operaciones insertar y append del tipo Lista.\n",
        "No se puede usar el TDA lista de python.\n",
        "\n",
        "Ejemplo:\n",
        "\n",
        "Si lista1 = [3 , 5 , 8 , 2 , 6 , 7] y lista2 = [4 , 9 , 1 , 2]\n",
        "\n",
        "lista1.insertarEnPosI(lista2 , 3)\n",
        "\n",
        "Entonces: lista1 = [3 , 5 , 8 , 4 , 9 , 1 , 2 , 2 , 6 , 7]\n"
      ],
      "metadata": {
        "id": "rQJOaFie6s1m"
      }
    },
    {
      "cell_type": "code",
      "source": [
        "#Insertar lista2 en la lista1 en la posicion posIns\n",
        "#Recorrer la lista1 hasta la posicion posIns-1 o hasta el ultimo nodo\n",
        "#Recorrer la lista 2 hasta el final\n",
        "#Insertar la lista completa en la posicion posIns moviendo las referencias\n",
        "\n",
        "class Lista(Lista):\n",
        "  def insertarEnPosI(lista1, lista2, posIns:int)->None:\n",
        "    if not lista2.estaVacia():\n",
        "      if lista1.estaVacia():\n",
        "        lista1.__primero = lista2.__primero\n",
        "      elif posIns >= 0:\n",
        "        ultimoLista2 = lista2.__primero\n",
        "        while ultimoLista2.tieneSiguiente():\n",
        "          ultimoLista2 = ultimoLista2.siguiente\n",
        "        #Cuando termina este while anterior ultimoLista2 apunta al ultimo nodo de la lista2\n",
        "\n",
        "        if posIns == 0:\n",
        "          ultimoLista2.siguiente = lista1.__primero\n",
        "          lista1.__primero = lista2.__primero\n",
        "        else:\n",
        "          nodoAuxLista1 = lista1.__primero\n",
        "          posAux1 = 0\n",
        "          while nodoAuxLista1.tieneSiguiente() and posAux1 < posIns-1:\n",
        "            nodoAuxLista1 = nodoAuxLista1.siguiente\n",
        "            posAux += 1\n",
        "          #Cuando termina esta while previo nodoAuxLista1 apunta a el nodo de la\n",
        "          #posicion posIns-1 o al ultimo en la lista1\n",
        "\n",
        "          ultimoLista2.siguiente = nodoAuxLista1.siguiente\n",
        "          nodoAuxLista1.siguiente = lista2.__primero"
      ],
      "metadata": {
        "id": "y3Fhb0PP6sI3"
      },
      "execution_count": null,
      "outputs": []
    },
    {
      "cell_type": "markdown",
      "source": [
        "### **Ejercicio 8**\n",
        "\n",
        "Escribir la función **palabrasPorTamaño** que recibe una lista de palabras (strings) y retorna un diccionario que posee como clave el tamaño de palabra y como significado una lista con las palabras de ese tamaño que forman parte de la lista de entrada.\n",
        "\n",
        "Se debe resolver usando las operaciones del TDA diccionario que vimos en clase, sin violar el encapsulamiento ni utilizando estructuras auxiliares.\n",
        "\n",
        "Por ejemplo:\n",
        "\n",
        "listaEntrada = [taza , perro , computadora , libro , en , casa , si]\n",
        "\n",
        "dic  = palabrasPorTamaño(listaEntrada)\n",
        "\n",
        "Entonces, dic = { (4 , [taza , casa]) , (5 , [perro , libro]) , (11 , [computadora]) , (2 , [en , si]) }\n"
      ],
      "metadata": {
        "id": "7e4SAu4X6-U5"
      }
    },
    {
      "cell_type": "code",
      "source": [
        "def palabrasPorTamaño(lista):\n",
        "  salida= Diccionario()\n",
        "  for element in lista:\n",
        "    if not len(element) in salida:\n",
        "      salida[len(element)]=[element]\n",
        "    else:\n",
        "      salida[len(element)].append(element)\n",
        "  return salida\n",
        "\n",
        "listaEntrada = [\"taza\" , \"perro\" , \"computadora\" , \"libro\" , \"en\" , \"casa\" , \"si\"]\n",
        "print(listaEntrada)\n",
        "palabrasPorTamaño(listaEntrada)"
      ],
      "metadata": {
        "id": "WwrpGPR36-og",
        "colab": {
          "base_uri": "https://localhost:8080/"
        },
        "outputId": "efe668a2-913a-4040-c52d-443c3636ed62"
      },
      "execution_count": 6,
      "outputs": [
        {
          "output_type": "stream",
          "name": "stdout",
          "text": [
            "['taza', 'perro', 'computadora', 'libro', 'en', 'casa', 'si']\n"
          ]
        },
        {
          "output_type": "execute_result",
          "data": {
            "text/plain": [
              "{(2, ['en', 'si']), (11, ['computadora']), (4, ['taza', 'casa']), (5, ['perro', 'libro'])}"
            ]
          },
          "metadata": {},
          "execution_count": 6
        }
      ]
    },
    {
      "cell_type": "markdown",
      "source": [
        "### **Ejercicio 10**\n",
        "\n",
        "Crear la operación **insertarCeros** del TDA Lista, que inserte un 0 (cero) entre 2 números pares consecutivos. La función no debe crear una nueva lista, debe modificar la lista con la cual se llama a la operación. Definir la estructura de datos del TDA Lista utilizada. No se pueden utilizar las operaciones insertar y append del tipo Lista.\n",
        "\n",
        "No se puede usar el TDA lista de python.\n",
        "\n",
        "Ejemplo:\n",
        "\n",
        "lista1 = [1 , 3 , 4 , 6 , 8 , 1 , 5 , 8 , 10 , 7]\n",
        "\n",
        "lista1.insertarCeros()\n",
        "\n",
        "Entonces, lista1 = [1 , 3 , 4 , 0 , 6 , 0 , 8 , 1 , 5 , 8 , 0 , 10 , 7]"
      ],
      "metadata": {
        "id": "EPuafFLJgEHX"
      }
    },
    {
      "cell_type": "code",
      "source": [
        "class Lista(Lista):\n",
        "  def insertarCeros(self):\n",
        "    if not self.estaVacia():\n",
        "      nodoAux=self.__primero\n",
        "      while nodoAux.tieneSiguiente():\n",
        "        if nodoAux.dato%2==0 and nodoAux.siguiente.dato%2==0:\n",
        "          cero = Lista.__NodoLista(0)\n",
        "\n",
        "          cero.siguiente=nodoAux.siguiente\n",
        "          nodoAux.siguiente=cero\n",
        "          nodoAux=nodoAux.siguiente.siguiente\n",
        "\n",
        "        else:\n",
        "          nodoAux=nodoAux.siguiente\n",
        "\n",
        "lista1= Lista()\n",
        "lista1.agregarAlFinal(1);lista1.agregarAlFinal(3);lista1.agregarAlFinal(4);lista1.agregarAlFinal(6);lista1.agregarAlFinal(8);lista1.agregarAlFinal(1);lista1.agregarAlFinal(5);lista1.agregarAlFinal(8);lista1.agregarAlFinal(10);lista1.agregarAlFinal(7)\n",
        "print(lista1)\n",
        "lista1.insertarCeros()\n",
        "print(lista1)"
      ],
      "metadata": {
        "id": "9u1GPdtKVx5r",
        "colab": {
          "base_uri": "https://localhost:8080/"
        },
        "outputId": "b2ed2b13-a50b-4d37-90a9-aaaf89431878"
      },
      "execution_count": 16,
      "outputs": [
        {
          "output_type": "stream",
          "name": "stdout",
          "text": [
            "primero -> 1 -> 3 -> 4 -> 6 -> 8 -> 1 -> 5 -> 8 -> 10 -> 7 -|\n",
            "primero -> 1 -> 3 -> 4 -> 0 -> 6 -> 0 -> 8 -> 1 -> 5 -> 8 -> 0 -> 10 -> 7 -|\n"
          ]
        }
      ]
    },
    {
      "cell_type": "markdown",
      "source": [
        "### **Ejercicio 11**\n",
        "\n",
        "Escribir la función **resta** que recibe dos diccionarios como parámetro (dic1 y dic2) y retorna un nuevo diccionario con la resta los dos, con el siguiente criterio:\n",
        "\n",
        "-  Cuando una clave sólo está en el dic1, pasa al diccionario de salida con el significado original.\n",
        "\n",
        "-  Si una clave está en ambos diccionarios de entrada (dic1 y dic2), no pasa al diccionario de salida.\n",
        "\n",
        "Se debe resolver usando las operaciones del TDA diccionario que vimos en clase, sin violar el encapsulamiento ni utilizando estructuras auxiliares.\n",
        "\n",
        "Ejemplo:\n",
        "\n",
        "dic1 = {(1 , 4) , (3 , 6) , (8 , 14) , (4 , 12) , (2 , 6)} y dic2 = {(8 , 5) , (10 , 6) , (1 , 7) , (2 , 9) , (14 , 8)}\n",
        "\n",
        "dic3  = resta(dic1 , dic2)\n",
        "\n",
        "Entonces, dic3 = {(3 , 6) , (4 , 12)}\n"
      ],
      "metadata": {
        "id": "j0YFS_XD7cSz"
      }
    },
    {
      "cell_type": "code",
      "source": [
        "def restaDiccionarios(dicc1,dicc2):\n",
        "  salida=Diccionario()\n",
        "  for element in dicc1.keys():\n",
        "    if not element in dicc2:\n",
        "      salida[element]=dicc1[element]\n",
        "  return salida\n",
        "\n",
        "dicc1=Diccionario()\n",
        "dicc1.insert(1,4),dicc1.insert(3,6),dicc1.insert(8,14),dicc1.insert(4,12),dicc1.insert(2,6)\n",
        "dicc2=Diccionario()\n",
        "dicc2.insert(8,5),dicc2.insert(10,6),dicc2.insert(1,7),dicc2.insert(2,9),dicc2.insert(14,8)\n",
        "\n",
        "restaDiccionarios(dicc1,dicc2)"
      ],
      "metadata": {
        "id": "fUBTlxX_V0yt",
        "colab": {
          "base_uri": "https://localhost:8080/"
        },
        "outputId": "56ea3be9-1c68-4bbe-890f-d4aa0cddfe97"
      },
      "execution_count": 12,
      "outputs": [
        {
          "output_type": "execute_result",
          "data": {
            "text/plain": [
              "{(3, 6), (4, 12)}"
            ]
          },
          "metadata": {},
          "execution_count": 12
        }
      ]
    },
    {
      "cell_type": "markdown",
      "source": [
        "### **Ejercicio 13**\n",
        "Escribir la operación eliminarSegmento del TDA Lista, que recibe dos posiciones (“inicio” y “final”) como entrada y elimina todos los nodos en la lista entre ambas (incluidas). Si la posición “final” es más grande que el tamaño de la lista, se eliminan todos los elementos desde la posición “inicio” hasta\n",
        "el final. No se puede utilizar la operación eliminar del tipo Lista. No se puede usar el TDA Lista de Python. Pueden suponer que siempre la posición “final” es mayor o igual que la “inicio”.\n",
        "\n",
        "Ejemplo:\n",
        "\n",
        "Si lista = [3 , 5 , 8 , 2 , 6 , 7 , 5 , 8 , 2]\n",
        "\n",
        "lista.eliminarSegmento(2,5) -> lista = [3 , 5 , 5 , 8 , 2]\n",
        "\n",
        "lista.eliminarSegmento(4,50) -> lista = [3 , 5 , 8 , 2 ]\n",
        "\n",
        "lista.eliminarSegmento(1,1) -> lista = [3 , 8 , 2 , 6 , 7 , 5 , 8 , 2]"
      ],
      "metadata": {
        "id": "JM1oGw39Ji6l"
      }
    },
    {
      "cell_type": "code",
      "source": [
        "#Recorro la lista y ubico dos referencias:\n",
        "#   Una al nodo anterior de inicio (inicio-1)\n",
        "#   Otra al nodo final\n",
        "\n",
        "#Vamos a resolver solo el caso general:\n",
        "#   lista no vacia\n",
        "#   inicio > 0\n",
        "#   final >= inicio\n",
        "#   final < len(lista)\n",
        "\n",
        "class Lista(Lista):\n",
        "  def eliminarSegmento(self, inicio:int, final:int)->None:\n",
        "    anteriorInicio = self.__primero\n",
        "    pos = 0\n",
        "    while pos < inicio-1:\n",
        "      anteriorInicio = anteriorInicio.siguiente\n",
        "      pos += 1\n",
        "    #cuando termino el while previo anteriorInicio esta apuntando a el nodo de la posicion \"inicio-1\"\n",
        "    nodoFinal = self.__primero\n",
        "    pos = 0\n",
        "    while pos < final:\n",
        "      nodoFinal = nodoFinal.siguiente\n",
        "      pos += 1\n",
        "    #cuando termino el while previo nodoFinal esta apuntando a el nodo de la posicion \"final\"\n",
        "\n",
        "    anterioInicio.siguiente = nodoFinal.siguiente"
      ],
      "metadata": {
        "id": "R7JsLBdHJjcT"
      },
      "execution_count": null,
      "outputs": []
    }
  ]
}