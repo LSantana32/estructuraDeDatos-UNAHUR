{
  "nbformat": 4,
  "nbformat_minor": 0,
  "metadata": {
    "colab": {
      "provenance": [],
      "include_colab_link": true
    },
    "kernelspec": {
      "name": "python3",
      "display_name": "Python 3"
    }
  },
  "cells": [
    {
      "cell_type": "markdown",
      "metadata": {
        "id": "view-in-github",
        "colab_type": "text"
      },
      "source": [
        "<a href=\"https://colab.research.google.com/github/LSantana32/estructuraDeDatos-UNAHUR/blob/main/Copia_de_Trabajo_practico_7_Listas_enlazadas_simples_com1.ipynb\" target=\"_parent\"><img src=\"https://colab.research.google.com/assets/colab-badge.svg\" alt=\"Open In Colab\"/></a>"
      ]
    },
    {
      "cell_type": "markdown",
      "metadata": {
        "id": "42630xxYD0gZ"
      },
      "source": [
        "# ![alt text](https://upload.wikimedia.org/wikipedia/commons/thumb/c/c3/Python-logo-notext.svg/50px-Python-logo-notext.svg.png) **Trabajo Práctico 7: Listas enlazadas simples** ![alt text](https://upload.wikimedia.org/wikipedia/commons/thumb/c/c3/Python-logo-notext.svg/50px-Python-logo-notext.svg.png)\n",
        "\n",
        "En este trabajo práctico, vamos a trabajar iterativamente con la estructura de datos **Lista enlazada simple** en Python. Recuerden crear una copia de este archivo en su ***Google Drive*** para tener permisos de edición.\n",
        "\n",
        "### **En los ejercicios de esta guía, no pueden usar para nada las Listas de Python, si deben declarar una lista para algo, usen la implementada por ustedes.**\n",
        "\n",
        "### **Para implementar las operaciones del TDA Lista, tienen que trabajar con los nodos internos de las listas, no con las listas desde afuera.**\n",
        "\n",
        "### Sergio: **sergio.gonzalez@unahur.edu.ar** ###"
      ]
    },
    {
      "cell_type": "markdown",
      "metadata": {
        "id": "xjXgmD3mskbR"
      },
      "source": [
        "### **Ejercicio 1**\n",
        "\n",
        "Implementar el TDA Lista enlazada simple, con las siguientes operaciones:\n",
        "- **\\_\\_init__():** Constructor\n",
        "- **Vaciar**\n",
        "- **Agregar elemento al final (append):** Inserta nuevo nodo al final de la lista con el elemento que recibe como parámetro.\n",
        "- **Insertar elemento:** Recibe un elemento y una posición como parámetro e inserta un nuevo nodo con el elemento en esa posición. Si la posicion es mayor al tamaño de la lista, el elemento se inserta al final.\n",
        "- **Obtener elemento (get):** Recibe una posición y retorna el elemento del nodo en esa posición.\n",
        "- **Eliminar elemento (pop):** Recibe una posición y elimina el nodo en esa posición.\n",
        "- **Obtener tamaño de lista**.\n",
        "- **Esta vacía**.\n",
        "- **Clonar**\n",
        "- **\\_\\_repr__():** Para poder imprimir una Lista por consola\n",
        "\n",
        "**Nota: Cuando usamos posiciones en las listas, tener en cuenta que los indices empiezan en cero, es decir, el primer elemento de la lista esta en la posicion cero.**"
      ]
    },
    {
      "cell_type": "code",
      "source": [
        "import copy as cp\n",
        "\n",
        "class Lista:\n",
        "  class __NodoLista:\n",
        "    def __init__(self, dato):\n",
        "      self.dato = dato\n",
        "      self.siguiente = None\n",
        "    def tieneSiguiente(self)->bool:\n",
        "      return self.siguiente != None\n",
        "\n",
        "  def __init__(self):\n",
        "    self.__primero = None\n",
        "\n",
        "  def estaVacia(self)->bool:\n",
        "    return self.__primero == None\n",
        "\n",
        "  def __repr__(self)->str:\n",
        "    salida = \"primero\"\n",
        "    nodoAux = self.__primero\n",
        "    while nodoAux != None:\n",
        "      salida += \" -> \" + str(nodoAux.dato)\n",
        "      nodoAux = nodoAux.siguiente\n",
        "    salida += \" -|\"\n",
        "    return salida\n",
        "\n",
        "#primero -> 2 -> 3 -> 4 -|\n",
        "  def tamaño(self)->int:\n",
        "    cantNodos = 0\n",
        "    nodoAux = self.__primero\n",
        "    while nodoAux != None:\n",
        "      cantNodos += 1\n",
        "      nodoAux = nodoAux.siguiente\n",
        "    return cantNodos\n",
        "\n",
        "  def agregarAlFinal(self, dato)->None:\n",
        "    nodoNuevo = Lista.__NodoLista(dato)\n",
        "    if self.estaVacia():\n",
        "      self.__primero = nodoNuevo\n",
        "    else:\n",
        "      nodoAux = self.__primero\n",
        "      while nodoAux.tieneSiguiente():\n",
        "        nodoAux = nodoAux.siguiente\n",
        "      nodoAux.siguiente = nodoNuevo\n",
        "\n",
        "  def insertar(self, posIns, dato)->None:\n",
        "    nodoNuevo = Lista.__NodoLista(dato)\n",
        "    if posIns >= 0:\n",
        "      if self.estaVacia():\n",
        "        self.__primero = nodoNuevo\n",
        "      elif posIns == 0:\n",
        "        nodoNuevo.siguiente = self.__primero\n",
        "        self.__primero = nodoNuevo\n",
        "      else:\n",
        "        nodoAux = self.__primero\n",
        "        posAux = 0\n",
        "        while nodoAux.tieneSiguiente() and posAux < posIns-1:\n",
        "          nodoAux = nodoAux.siguiente\n",
        "          posAux += 1\n",
        "        nodoNuevo.siguiente = nodoAux.siguiente\n",
        "        nodoAux.siguiente = nodoNuevo\n",
        "    else:\n",
        "      raise IndexError(\"La posicion debe ser mayor o igual a cero\")\n",
        "\n",
        "  def eliminar(self, posDel)->any:\n",
        "    datoDel = None\n",
        "    if 0 <= posDel < self.tamaño():\n",
        "      if posDel == 0:\n",
        "        datoDel = self.__primero.dato\n",
        "        self.__primero = self.__primero.siguiente\n",
        "      else:\n",
        "        nodoAux = self.__primero\n",
        "        posAux = 0\n",
        "        while posAux < posDel-1:\n",
        "          nodoAux = nodoAux.siguiente\n",
        "          posAux += 1\n",
        "        datoDel = nodoAux.siguiente.dato\n",
        "        nodoAux.siguiente = nodoAux.siguiente.siguiente\n",
        "    else:\n",
        "      raise IndexError(\"Posicion inválida\")\n",
        "    return datoDel\n",
        "\n",
        "  def obtener(self, posGet)->any:\n",
        "    datoGet = None\n",
        "    if 0 <= posGet < self.tamaño():\n",
        "      nodoAux = self.__primero\n",
        "      posAux = 0\n",
        "      while posAux < posGet:\n",
        "        nodoAux = nodoAux.siguiente\n",
        "        posAux += 1\n",
        "      datoGet = nodoAux.dato\n",
        "    else:\n",
        "      raise IndexError(\"Posicion inválida\")\n",
        "    return datoGet\n",
        "\n",
        "  def __getitem__(self, posGet)->any:\n",
        "    datoGet = None\n",
        "    if 0 <= posGet < self.tamaño():\n",
        "      nodoAux = self.__primero\n",
        "      posAux = 0\n",
        "      while posAux < posGet:\n",
        "        nodoAux = nodoAux.siguiente\n",
        "        posAux += 1\n",
        "      datoGet = nodoAux.dato\n",
        "    else:\n",
        "      raise IndexError(\"Posicion inválida\")\n",
        "    return datoGet\n",
        "\n",
        "  def __setitem__(self, posSet, datoSet)->None:\n",
        "    #Reemplazar elemento de posicion posSet por datoSet en lista self\n",
        "    pass\n",
        "\n",
        "  def __contains__(self, dato)->bool:\n",
        "    nodoNuevo=Lista.__NodoLista(dato)\n",
        "    nodoAux=self.__primero\n",
        "    solution=False\n",
        "    while nodoAux.tieneSiguiente() and solution==False:\n",
        "      if nodoAux.dato==nodoNuevo.dato:\n",
        "        solution=True\n",
        "      else:\n",
        "        nodoAux=nodoAux.siguiente\n",
        "    if nodoAux.dato==nodoNuevo.dato:\n",
        "      solution=True\n",
        "\n",
        "    return solution\n",
        "\n",
        "\n",
        "\n",
        "  def vaciar(self)->None:\n",
        "    self.__primero = None\n",
        "\n",
        "  def clonar(self):\n",
        "    return cp.deepcopy(self)\n",
        "\n"
      ],
      "metadata": {
        "id": "72iOQybbACgo"
      },
      "execution_count": null,
      "outputs": []
    },
    {
      "cell_type": "code",
      "source": [
        "l2 = Lista()\n",
        "l2.agregarAlFinal(4);l2.agregarAlFinal(1);l2.agregarAlFinal(2)\n",
        "print(l2)\n",
        "l2.__contains__(1)"
      ],
      "metadata": {
        "colab": {
          "base_uri": "https://localhost:8080/"
        },
        "id": "8FQvmmGmINkc",
        "outputId": "6a89fbe5-2b29-4594-9eb9-8ef897dd8fc1"
      },
      "execution_count": null,
      "outputs": [
        {
          "output_type": "stream",
          "name": "stdout",
          "text": [
            "primero -> 4 -> 1 -> 2 -|\n"
          ]
        },
        {
          "output_type": "execute_result",
          "data": {
            "text/plain": [
              "True"
            ]
          },
          "metadata": {},
          "execution_count": 32
        }
      ]
    },
    {
      "cell_type": "code",
      "source": [
        "#Lista recursiva\n",
        "import copy as cp\n",
        "\n",
        "class ListaRec:\n",
        "  class __NodoLista:\n",
        "    def __init__(self, dato):\n",
        "      self.dato = dato\n",
        "      self.siguiente = None\n",
        "    def tieneSiguiente(self)->bool:\n",
        "      return self.siguiente != None\n",
        "    def __repr__(self)->str:\n",
        "      salida = \"\"\n",
        "      if self != None:\n",
        "        salida = f\" -> {self.dato}\"\n",
        "        if self.tieneSiguiente():\n",
        "          salida += str(self.siguiente)\n",
        "      return salida\n",
        "\n",
        "  def __init__(self):\n",
        "    self.__primero = None\n",
        "\n",
        "  def estaVacia(self)->bool:\n",
        "    return self.__primero == None\n",
        "\n",
        "  def __repr__(self)->str:\n",
        "    salida = \"primero\"\n",
        "    if not self.estaVacia():\n",
        "      salida += str(self.__primero)\n",
        "    return salida + \" -|\""
      ],
      "metadata": {
        "id": "f7XqUUtCRBCk"
      },
      "execution_count": 4,
      "outputs": []
    },
    {
      "cell_type": "code",
      "source": [
        "class ListaRec(ListaRec):\n",
        "  def agregarAlFinal(self,dato):\n",
        "    nodoNuevo=ListaRec.__NodoLista(dato)\n",
        "    if self.estaVacia():\n",
        "      self.__primero = nodoNuevo\n",
        "    else:\n",
        "      self.__primero.agregarAlFinalNodo(nodoNuevo)\n",
        "\n",
        "  class __NodoLista(ListaRec.__NodoLista):\n",
        "    def agregarAlFinalNodo(self, nodoNuevo):\n",
        "      if not self.tieneSiguiente():\n",
        "        self.siguiente=nodoNuevo\n",
        "      else:\n",
        "        self.siguiente.agregarAlFinalNodo(nodoNuevo)\n",
        "\n",
        "\n",
        "l1 = ListaRec()\n",
        "l1.agregarAlFinal(4);l1.agregarAlFinal(1);l1.agregarAlFinal(3);\n",
        "\n",
        "print(l1)"
      ],
      "metadata": {
        "colab": {
          "base_uri": "https://localhost:8080/"
        },
        "id": "JwTrJmMoRDTb",
        "outputId": "18c530c2-4349-40d0-bee4-18eb5780ea2f"
      },
      "execution_count": 5,
      "outputs": [
        {
          "output_type": "stream",
          "name": "stdout",
          "text": [
            "primero -> 4 -> 1 -> 3 -|\n"
          ]
        }
      ]
    },
    {
      "cell_type": "code",
      "source": [
        "class ListaRec(ListaRec):\n",
        "  def tamaño(self):\n",
        "    cant=0\n",
        "    if not self. estaVacia():\n",
        "      cant= self.__primero.tamañoNodo()\n",
        "      return cant\n",
        "\n",
        "  class __NodoLista(ListaRec.__NodoLista):\n",
        "    def tamañoNodo(self):\n",
        "      cant=0\n",
        "      if self!=None:\n",
        "        cant=1\n",
        "        if self.tieneSiguiente():\n",
        "          cant+= self.siguiente.tamañoNodo()\n",
        "      return cant\n",
        "\n",
        "l1 = ListaRec()\n",
        "l1.agregarAlFinal(4);l1.agregarAlFinal(1);l1.agregarAlFinal(3);\n",
        "\n",
        "print(l1.tamaño())"
      ],
      "metadata": {
        "colab": {
          "base_uri": "https://localhost:8080/"
        },
        "id": "5Al2kjtiTkwR",
        "outputId": "c5fc4f2b-62c5-4394-d47a-79cb487fd24b"
      },
      "execution_count": 6,
      "outputs": [
        {
          "output_type": "stream",
          "name": "stdout",
          "text": [
            "3\n"
          ]
        }
      ]
    },
    {
      "cell_type": "code",
      "source": [
        "class ListaRec(ListaRec):\n",
        "  def insertar(self,posIns,dato):\n",
        "    if 0 <= posIns <= self.tamaño():\n",
        "      nodoNuevo=ListaRec.__NodoLista(dato)\n",
        "      if self.estaVacia():\n",
        "        self.__primero=nodoNuevo\n",
        "      elif posIns==0:\n",
        "        nodoNuevo.siguiente=self.__primero\n",
        "        self.__primero=nodoNuevo\n",
        "      else:\n",
        "        self.__primero.insertarNodo(posIns,nodoNuevo)\n",
        "\n",
        "    else:\n",
        "      raise IndexError(f\"{posIns} no es una posición valida. Las posiciones validas son (0:{self.tamaño()})\")\n",
        "\n",
        "  class __NodoLista(ListaRec.__NodoLista):\n",
        "    def insertarNodo(self,posIns,nodoNuevo,posActual=0):\n",
        "      if not self.tieneSiguiente or posIns-1==posActual:       #me quiero frenar antes de la pos deseada para asi poder insertar\n",
        "        nodoNuevo.siguiente=self.siguiente\n",
        "        self.siguiente=nodoNuevo\n",
        "      else:\n",
        "        self.siguiente.insertarNodo(posIns,nodoNuevo,posActual+1)\n",
        "\n",
        "\n",
        "l1 = ListaRec()\n",
        "l1.agregarAlFinal(4);l1.agregarAlFinal(1);l1.agregarAlFinal(3);\n",
        "print(l1)\n",
        "#l1.insertar(2,10)\n",
        "#print(l1)\n",
        "l1.insertar(3,20)\n",
        "print(l1)"
      ],
      "metadata": {
        "id": "-rXZ5CQ5XEBo",
        "colab": {
          "base_uri": "https://localhost:8080/"
        },
        "outputId": "76c39afa-d9da-4629-cb97-aa2e4dc7eaa9"
      },
      "execution_count": 36,
      "outputs": [
        {
          "output_type": "stream",
          "name": "stdout",
          "text": [
            "primero -> 4 -> 1 -> 3 -|\n",
            "primero -> 4 -> 1 -> 3 -> 20 -|\n"
          ]
        }
      ]
    },
    {
      "cell_type": "code",
      "source": [
        "class ListaRec(ListaRec):\n",
        "  def eliminar(self,posDel):\n",
        "    datoDel=None\n",
        "    if not self.estaVacia():\n",
        "      if 0<=posDel<self.tamaño():\n",
        "        if posDel==0:\n",
        "          datoDel=self.__primero.dato\n",
        "          self.__primero=self.__primero.siguiente\n",
        "        else:\n",
        "          datoDel=self.__primero.eliminarNodo(posDel)\n",
        "      else:\n",
        "        raise IndexError(f\"{posDel} no es una posicion valida. Las posiciones validas son (0:{self.tamaño()-1})\")\n",
        "    else:\n",
        "      raise IndexError(\"Lista no debe estar vacia\")\n",
        "    return datoDel\n",
        "\n",
        "  class __NodoLista(ListaRec.__NodoLista):\n",
        "    def eliminarNodo(self,posDel,posActual=0):\n",
        "      datoDel=None\n",
        "      if posDel-1==posActual:\n",
        "        datoDel= self.siguiente.dato\n",
        "        self.siguiente=self.siguiente.siguiente\n",
        "      else:\n",
        "        datoDel=self.siguiente.eliminarNodo(posDel,posActual+1)\n",
        "\n",
        "      return datoDel\n",
        "\n",
        "l1 = ListaRec()\n",
        "#print(l1.eliminar(3))\n",
        "l1.agregarAlFinal(4);l1.agregarAlFinal(1);l1.agregarAlFinal(3);\n",
        "print(l1)\n",
        "print(l1.eliminar(2))\n",
        "print(l1)"
      ],
      "metadata": {
        "colab": {
          "base_uri": "https://localhost:8080/"
        },
        "id": "VmxwQ0HXTDX3",
        "outputId": "8371872f-d34d-443b-ae25-ee181586cba8"
      },
      "execution_count": 43,
      "outputs": [
        {
          "output_type": "stream",
          "name": "stdout",
          "text": [
            "primero -> 4 -> 1 -> 3 -|\n",
            "3\n",
            "primero -> 4 -> 1 -|\n"
          ]
        }
      ]
    },
    {
      "cell_type": "code",
      "source": [
        "class ListaRec(ListaRec):\n",
        "  def obtener(self,posGet):\n",
        "    datoGet=None\n",
        "    if not self.estaVacia():\n",
        "      if 0<=posGet<self.tamaño():\n",
        "        if posGet==0:\n",
        "          datoGet=self.__primero.dato\n",
        "        else:\n",
        "          datoGet=self.__primero.obtenerNodo(posGet)\n",
        "      else:\n",
        "        raise IndexError(f\"{posGet} no es una posicion valida. Las posiciones validas son (0:{self.tamaño()-1})\")\n",
        "    else:\n",
        "      raise IndexError(\"Lista no debe estar vacia\")\n",
        "    return datoGet\n",
        "\n",
        "  class __NodoLista(ListaRec.__NodoLista):\n",
        "    def obtenerNodo(self,posGet,posActual=0):\n",
        "      datoGet=None\n",
        "      if posActual==posGet:\n",
        "        datoGet=self.dato\n",
        "      else:\n",
        "        datoGet= self.siguiente.obtenerNodo(posGet,posActual+1)\n",
        "      return datoGet\n",
        "\n",
        "l1 = ListaRec()\n",
        "l1.agregarAlFinal(4);l1.agregarAlFinal(1);l1.agregarAlFinal(3);\n",
        "print(l1)\n",
        "print(l1.obtener(0))\n",
        "\n"
      ],
      "metadata": {
        "colab": {
          "base_uri": "https://localhost:8080/"
        },
        "id": "8XEfNNMMYdgW",
        "outputId": "b0793fa5-1dab-4966-c405-5ec959a9eeed"
      },
      "execution_count": 52,
      "outputs": [
        {
          "output_type": "stream",
          "name": "stdout",
          "text": [
            "primero -> 4 -> 1 -> 3 -|\n",
            "4\n"
          ]
        }
      ]
    },
    {
      "cell_type": "code",
      "source": [
        "class ListaRec(ListaRec):\n",
        "  def __contains__(self,dato):\n",
        "    asignar=False\n",
        "    if dato==self.__primero.dato:\n",
        "      asignar=True\n",
        "    else:\n",
        "      asignar=self.__primero.siguiente.__containsDato__(dato)\n",
        "    return asignar\n",
        "\n",
        "  class __NodoLista(ListaRec.__NodoLista):\n",
        "    def __containsDato__(self,dato):\n",
        "      asignar=False\n",
        "\n",
        "      if dato==self.dato:\n",
        "        asignar=True\n",
        "\n",
        "      elif not self.tieneSiguiente():\n",
        "        asignar=False\n",
        "\n",
        "      else:\n",
        "        asignar= self.siguiente.__containsDato__(dato)\n",
        "      return asignar\n",
        "\n",
        "l1 = ListaRec()\n",
        "l1.agregarAlFinal(4);l1.agregarAlFinal(1);l1.agregarAlFinal(3);l1.agregarAlFinal(2);l1.agregarAlFinal(7);l1.agregarAlFinal(8)\n",
        "print(l1)\n",
        "l1.__contains__(0)"
      ],
      "metadata": {
        "colab": {
          "base_uri": "https://localhost:8080/"
        },
        "id": "b4vcufhCmMNl",
        "outputId": "ee0ceba2-478c-4761-e845-8601914527c7"
      },
      "execution_count": 94,
      "outputs": [
        {
          "output_type": "stream",
          "name": "stdout",
          "text": [
            "primero -> 4 -> 1 -> 3 -> 2 -> 7 -> 8 -|\n"
          ]
        },
        {
          "output_type": "execute_result",
          "data": {
            "text/plain": [
              "False"
            ]
          },
          "metadata": {},
          "execution_count": 94
        }
      ]
    },
    {
      "cell_type": "markdown",
      "metadata": {
        "id": "Q0D1vzJZzqID"
      },
      "source": [
        "### **Ejercicio 2**\n",
        "\n",
        "Escribir una operación del TDA Lista que intercambie los dos primeros nodos de la lista."
      ]
    },
    {
      "cell_type": "code",
      "metadata": {
        "id": "Y4eHEO31zpnu"
      },
      "source": [
        "\n",
        "class Lista(Lista):\n",
        "  def intercambio(self):    #intercambia la posicion de los dos primeros nodos entre sí\n",
        "\n",
        "    if self.tamaño()>1:\n",
        "      primerNodo=self.__primero\n",
        "      segundoNodo=primerNodo.siguiente\n",
        "      if self.tamaño()==2:\n",
        "        self.__primero=segundoNodo\n",
        "        segundoNodo.siguiente=primerNodo\n",
        "      else:\n",
        "        primerNodo.siguiente=segundoNodo.siguiente\n",
        "        segundoNodo.siguiente=primerNodo\n",
        "        self.__primero=segundoNodo\n",
        "\n",
        "    else:\n",
        "      raise IndexError(\"La lista tiene que tener al menos 2 nodos\")\n",
        "\n",
        "\n"
      ],
      "execution_count": null,
      "outputs": []
    },
    {
      "cell_type": "code",
      "source": [
        "l2 = Lista()\n",
        "l2.agregarAlFinal(4);l2.agregarAlFinal(1);l2.agregarAlFinal(2)\n",
        "print(l2)\n",
        "print(l2.intercambio())\n",
        "print(l2)\n",
        "\n",
        "\n"
      ],
      "metadata": {
        "colab": {
          "base_uri": "https://localhost:8080/"
        },
        "id": "w1l618GvoZOT",
        "outputId": "98a954cf-1a9a-407e-900e-52fd03589e02"
      },
      "execution_count": null,
      "outputs": [
        {
          "output_type": "stream",
          "name": "stdout",
          "text": [
            "primero -> 4 -> 1 -> 2 -|\n",
            "None\n",
            "primero -> 1 -> 4 -> 2 -|\n"
          ]
        }
      ]
    },
    {
      "cell_type": "markdown",
      "metadata": {
        "id": "mpbNzKecOIQe"
      },
      "source": [
        "### **Ejercicio 3**\n",
        "\n",
        "Escribir la operación del TDA Lista **buscaElemento()** que busque un elemento que recibe por parámetro. La operación debe retornar una lista con las ubicaciones del elemento en la lista de entrada.\n",
        "\n",
        "Por ejemplo:\n",
        "\n",
        "**lista1** = [ 2 , 2 , 1 , 4 , 2 , 8 , 9 , 2 , 10]\n",
        "\n",
        "**posiciones = lista1.buscaElemento(2)**\n",
        "\n",
        "Entonces, **posiciones** = [ 0 , 1 , 4 , 7 ]"
      ]
    },
    {
      "cell_type": "code",
      "metadata": {
        "id": "6rnyqOPROIiu"
      },
      "source": [
        "class Lista(Lista):\n",
        "  def buscaElemento(self:list,elemento:any)->list:\n",
        "    if not self.estaVacia()\n",
        "      if self.__contains__(elemento):\n",
        "        pos=0\n",
        "        nodoAComparar=Lista.__NodoLista(elemento)\n",
        "        nodoAux= self.__primero\n",
        "        listaSalida=[]\n",
        "\n",
        "        while nodoAux.tieneSiguiente():\n",
        "          if nodoAux.dato==nodoAComparar.dato:\n",
        "            listaSalida.append(pos)\n",
        "          pos+=1\n",
        "          nodoAux=nodoAux.siguiente\n",
        "        if nodoAux.dato==nodoAComparar.dato:\n",
        "          listaSalida.append(pos)\n",
        "        return listaSalida\n",
        "\n",
        "      else:\n",
        "        print(\"No existe ese nodo en la lista\")\n",
        "    else:\n",
        "      raise IndexError(\"Lista no debe estar vacia\")\n",
        "\n",
        "\n"
      ],
      "execution_count": null,
      "outputs": []
    },
    {
      "cell_type": "code",
      "source": [
        "#CON LISTA RECURSIVA\n",
        "\n",
        "class ListaRec(ListaRec):\n",
        "  def buscaElementoRec(self,elemento):\n",
        "    if not self.estaVacia():\n",
        "      if self.__contains__(elemento):\n",
        "        listaSalida=self.__primero.buscaElementoEnNodo(elemento)\n",
        "        return listaSalida\n",
        "      else:\n",
        "        print(\"No existe ese nodo en la lista\")\n",
        "    else:\n",
        "      raise IndexError(\"Lista no debe estar vacia\")\n",
        "\n",
        "  class __NodoLista(ListaRec.__NodoLista):\n",
        "    def buscaElementoEnNodo(self,elemento,posActual=0):\n",
        "      listaAux=[]\n",
        "      if not self.tieneSiguiente():\n",
        "        if elemento==self.dato:\n",
        "          listaAux.append(posActual)\n",
        "        else:\n",
        "          pass\n",
        "      else:\n",
        "        if elemento==self.dato:\n",
        "          listaAux.append(posActual)\n",
        "        listaAux+=self.siguiente.buscaElementoEnNodo(elemento,posActual+1)\n",
        "      return listaAux\n",
        "\n",
        "l1 = ListaRec()\n",
        "l1.agregarAlFinal(4);l1.agregarAlFinal(1);l1.agregarAlFinal(3);l1.agregarAlFinal(2);l1.agregarAlFinal(7);l1.agregarAlFinal(8);l1.agregarAlFinal(4);l1.agregarAlFinal(4);l1.agregarAlFinal(1);l1.agregarAlFinal(3);l1.agregarAlFinal(2)\n",
        "print(l1)\n",
        "l1.buscaElementoRec(0)"
      ],
      "metadata": {
        "id": "XOTrRX_s-O-U",
        "colab": {
          "base_uri": "https://localhost:8080/"
        },
        "outputId": "f4afa0f7-a698-4007-c510-28d62eae920b"
      },
      "execution_count": 119,
      "outputs": [
        {
          "output_type": "stream",
          "name": "stdout",
          "text": [
            "primero -> 4 -> 1 -> 3 -> 2 -> 7 -> 8 -> 4 -> 4 -> 1 -> 3 -> 2 -|\n",
            "No existe ese nodo en la lista\n"
          ]
        }
      ]
    },
    {
      "cell_type": "markdown",
      "metadata": {
        "id": "-YN0LThH0dO6"
      },
      "source": [
        "### **Ejercicio 4**\n",
        "\n",
        "Escribir una operación del TDA Lista que elimine todas las ocurrencias de un elemento que recibe por parámetro y devuelva la cantidad de veces que se elimino el elemento. Se deben eliminar todos los nodos que contengan al elemento.\n",
        "\n",
        "Por ejemplo:\n",
        "\n",
        "**lista1** = [ 2 , 2 , 1 , 4 , 2 , 2 , 8 , 9 , 2 , 10]\n",
        "\n",
        "**cant = lista1.eliminarOcurrencias(2)**\n",
        "\n",
        "Entonces, **cant** = 5  y **lista1** = [ 1 , 4 , 8 , 9 , 10 ]\n",
        "\n",
        "          "
      ]
    },
    {
      "cell_type": "code",
      "metadata": {
        "id": "KO9cVn4T0EFQ"
      },
      "source": [
        "class Lista(Lista):\n",
        "  def eliminarOcurrencia(self,elemento:any)->int:\n",
        "    if not self.estaVacia():\n",
        "\n",
        "      if self.__contains__(elemento):\n",
        "        cant=0\n",
        "        nodoAux= self.__primero\n",
        "        pos=0\n",
        "        while nodoAux.siguiente!=None:\n",
        "          if nodoAux.dato==elemento:\n",
        "            self.eliminar(pos)\n",
        "            cant+=1\n",
        "          else:\n",
        "            nodoAux=nodoAux.siguiente\n",
        "            pos+=1\n",
        "        if nodoAux.dato==elemento:\n",
        "          self.eliminar(pos)\n",
        "          cant+=1\n",
        "        return cant\n",
        "\n",
        "      else:\n",
        "        print(\"No existe ese nodo en la lista\")\n",
        "\n",
        "    else:\n",
        "      raise IndexError(\"Lista debe tener al menos un elemento\")\n"
      ],
      "execution_count": null,
      "outputs": []
    },
    {
      "cell_type": "code",
      "source": [
        "#CON LISTA RECURSIVA"
      ],
      "metadata": {
        "id": "O0CO1wQG-T8f"
      },
      "execution_count": null,
      "outputs": []
    },
    {
      "cell_type": "code",
      "source": [
        "l2 = Lista()\n",
        "l2.agregarAlFinal(4);l2.agregarAlFinal(1);l2.agregarAlFinal(2);l2.agregarAlFinal(3);l2.agregarAlFinal(2);l2.agregarAlFinal(7);l2.agregarAlFinal(2);l2.agregarAlFinal(2);l2.agregarAlFinal(2)\n",
        "print(l2)\n",
        "l2.eliminarOcurrencia(2)"
      ],
      "metadata": {
        "colab": {
          "base_uri": "https://localhost:8080/",
          "height": 339
        },
        "id": "zlUQH1IWKlu3",
        "outputId": "8a5511cd-aa37-4aa0-d8ac-767b6297711f"
      },
      "execution_count": null,
      "outputs": [
        {
          "output_type": "stream",
          "name": "stdout",
          "text": [
            "primero -> 4 -> 1 -> 2 -> 3 -> 2 -> 7 -> 2 -> 2 -> 2 -|\n"
          ]
        },
        {
          "output_type": "error",
          "ename": "IndexError",
          "evalue": "Posicion inválida",
          "traceback": [
            "\u001b[0;31m---------------------------------------------------------------------------\u001b[0m",
            "\u001b[0;31mIndexError\u001b[0m                                Traceback (most recent call last)",
            "\u001b[0;32m<ipython-input-147-a8e6864c5768>\u001b[0m in \u001b[0;36m<cell line: 4>\u001b[0;34m()\u001b[0m\n\u001b[1;32m      2\u001b[0m \u001b[0ml2\u001b[0m\u001b[0;34m.\u001b[0m\u001b[0magregarAlFinal\u001b[0m\u001b[0;34m(\u001b[0m\u001b[0;36m4\u001b[0m\u001b[0;34m)\u001b[0m\u001b[0;34m;\u001b[0m\u001b[0ml2\u001b[0m\u001b[0;34m.\u001b[0m\u001b[0magregarAlFinal\u001b[0m\u001b[0;34m(\u001b[0m\u001b[0;36m1\u001b[0m\u001b[0;34m)\u001b[0m\u001b[0;34m;\u001b[0m\u001b[0ml2\u001b[0m\u001b[0;34m.\u001b[0m\u001b[0magregarAlFinal\u001b[0m\u001b[0;34m(\u001b[0m\u001b[0;36m2\u001b[0m\u001b[0;34m)\u001b[0m\u001b[0;34m;\u001b[0m\u001b[0ml2\u001b[0m\u001b[0;34m.\u001b[0m\u001b[0magregarAlFinal\u001b[0m\u001b[0;34m(\u001b[0m\u001b[0;36m3\u001b[0m\u001b[0;34m)\u001b[0m\u001b[0;34m;\u001b[0m\u001b[0ml2\u001b[0m\u001b[0;34m.\u001b[0m\u001b[0magregarAlFinal\u001b[0m\u001b[0;34m(\u001b[0m\u001b[0;36m2\u001b[0m\u001b[0;34m)\u001b[0m\u001b[0;34m;\u001b[0m\u001b[0ml2\u001b[0m\u001b[0;34m.\u001b[0m\u001b[0magregarAlFinal\u001b[0m\u001b[0;34m(\u001b[0m\u001b[0;36m7\u001b[0m\u001b[0;34m)\u001b[0m\u001b[0;34m;\u001b[0m\u001b[0ml2\u001b[0m\u001b[0;34m.\u001b[0m\u001b[0magregarAlFinal\u001b[0m\u001b[0;34m(\u001b[0m\u001b[0;36m2\u001b[0m\u001b[0;34m)\u001b[0m\u001b[0;34m;\u001b[0m\u001b[0ml2\u001b[0m\u001b[0;34m.\u001b[0m\u001b[0magregarAlFinal\u001b[0m\u001b[0;34m(\u001b[0m\u001b[0;36m2\u001b[0m\u001b[0;34m)\u001b[0m\u001b[0;34m;\u001b[0m\u001b[0ml2\u001b[0m\u001b[0;34m.\u001b[0m\u001b[0magregarAlFinal\u001b[0m\u001b[0;34m(\u001b[0m\u001b[0;36m2\u001b[0m\u001b[0;34m)\u001b[0m\u001b[0;34m\u001b[0m\u001b[0;34m\u001b[0m\u001b[0m\n\u001b[1;32m      3\u001b[0m \u001b[0mprint\u001b[0m\u001b[0;34m(\u001b[0m\u001b[0ml2\u001b[0m\u001b[0;34m)\u001b[0m\u001b[0;34m\u001b[0m\u001b[0;34m\u001b[0m\u001b[0m\n\u001b[0;32m----> 4\u001b[0;31m \u001b[0ml2\u001b[0m\u001b[0;34m.\u001b[0m\u001b[0meliminarOcurrencia\u001b[0m\u001b[0;34m(\u001b[0m\u001b[0;36m2\u001b[0m\u001b[0;34m)\u001b[0m\u001b[0;34m\u001b[0m\u001b[0;34m\u001b[0m\u001b[0m\n\u001b[0m",
            "\u001b[0;32m<ipython-input-146-efe161c50c19>\u001b[0m in \u001b[0;36meliminarOcurrencia\u001b[0;34m(self, elemento)\u001b[0m\n\u001b[1;32m      8\u001b[0m         \u001b[0;32mwhile\u001b[0m \u001b[0mnodoAux\u001b[0m\u001b[0;34m.\u001b[0m\u001b[0msiguiente\u001b[0m\u001b[0;34m!=\u001b[0m\u001b[0;32mNone\u001b[0m\u001b[0;34m:\u001b[0m\u001b[0;34m\u001b[0m\u001b[0;34m\u001b[0m\u001b[0m\n\u001b[1;32m      9\u001b[0m           \u001b[0;32mif\u001b[0m \u001b[0mnodoAux\u001b[0m\u001b[0;34m.\u001b[0m\u001b[0mdato\u001b[0m\u001b[0;34m==\u001b[0m\u001b[0melemento\u001b[0m\u001b[0;34m:\u001b[0m\u001b[0;34m\u001b[0m\u001b[0;34m\u001b[0m\u001b[0m\n\u001b[0;32m---> 10\u001b[0;31m             \u001b[0mself\u001b[0m\u001b[0;34m.\u001b[0m\u001b[0meliminar\u001b[0m\u001b[0;34m(\u001b[0m\u001b[0mpos\u001b[0m\u001b[0;34m)\u001b[0m\u001b[0;34m\u001b[0m\u001b[0;34m\u001b[0m\u001b[0m\n\u001b[0m\u001b[1;32m     11\u001b[0m             \u001b[0mcant\u001b[0m\u001b[0;34m+=\u001b[0m\u001b[0;36m1\u001b[0m\u001b[0;34m\u001b[0m\u001b[0;34m\u001b[0m\u001b[0m\n\u001b[1;32m     12\u001b[0m           \u001b[0;32melse\u001b[0m\u001b[0;34m:\u001b[0m\u001b[0;34m\u001b[0m\u001b[0;34m\u001b[0m\u001b[0m\n",
            "\u001b[0;32m<ipython-input-8-6a5a71efbe91>\u001b[0m in \u001b[0;36meliminar\u001b[0;34m(self, posDel)\u001b[0m\n\u001b[1;32m     77\u001b[0m         \u001b[0mnodoAux\u001b[0m\u001b[0;34m.\u001b[0m\u001b[0msiguiente\u001b[0m \u001b[0;34m=\u001b[0m \u001b[0mnodoAux\u001b[0m\u001b[0;34m.\u001b[0m\u001b[0msiguiente\u001b[0m\u001b[0;34m.\u001b[0m\u001b[0msiguiente\u001b[0m\u001b[0;34m\u001b[0m\u001b[0;34m\u001b[0m\u001b[0m\n\u001b[1;32m     78\u001b[0m     \u001b[0;32melse\u001b[0m\u001b[0;34m:\u001b[0m\u001b[0;34m\u001b[0m\u001b[0;34m\u001b[0m\u001b[0m\n\u001b[0;32m---> 79\u001b[0;31m       \u001b[0;32mraise\u001b[0m \u001b[0mIndexError\u001b[0m\u001b[0;34m(\u001b[0m\u001b[0;34m\"Posicion inválida\"\u001b[0m\u001b[0;34m)\u001b[0m\u001b[0;34m\u001b[0m\u001b[0;34m\u001b[0m\u001b[0m\n\u001b[0m\u001b[1;32m     80\u001b[0m     \u001b[0;32mreturn\u001b[0m \u001b[0mdatoDel\u001b[0m\u001b[0;34m\u001b[0m\u001b[0;34m\u001b[0m\u001b[0m\n\u001b[1;32m     81\u001b[0m \u001b[0;34m\u001b[0m\u001b[0m\n",
            "\u001b[0;31mIndexError\u001b[0m: Posicion inválida"
          ]
        }
      ]
    },
    {
      "cell_type": "markdown",
      "metadata": {
        "id": "_Q_DCTjI3AGK"
      },
      "source": [
        "### **Ejercicio 5**\n",
        "\n",
        "Escribir una operación del TDA Lista que saque el nodo que esta al inicio de la lista (posición cero) y lo ponga en el final. Hacer otra que haga lo contrario, saque el nodo del final y lo ponga al inicio."
      ]
    },
    {
      "cell_type": "code",
      "metadata": {
        "id": "S1y89t3q3BkZ"
      },
      "source": [
        "class Lista(Lista):\n",
        "  def nodoInicioAFinal(self):\n",
        "    if self.tamaño() > 1:\n",
        "      nodoACorrer=self.eliminar(0)\n",
        "      self.agregarAlFinal(nodoACorrer)\n",
        "    else:\n",
        "      raise IndexError(\"Debe haber al menos 2 nodos\")\n",
        "\n",
        "  def nodoFinalAInicio(self):\n",
        "    if self.tamaño()>1:\n",
        "      nodoACorrer=self.eliminar(self.tamaño()-1)\n",
        "      self.insertar(0,nodoACorrer)\n",
        "      #nodoACorrer.siguiente=self.__primero     #porque no funciona en vez de .insertar??\n",
        "    else:\n",
        "      raise IndexError(\"Debe haber al menos 2 nodos\")\n"
      ],
      "execution_count": null,
      "outputs": []
    },
    {
      "cell_type": "code",
      "source": [
        "l2 = Lista()\n",
        "l2.agregarAlFinal(4);l2.agregarAlFinal(1);l2.agregarAlFinal(2);l2.agregarAlFinal(3);l2.agregarAlFinal(2);l2.agregarAlFinal(7);l2.agregarAlFinal(2);l2.agregarAlFinal(2)\n",
        "print(l2)\n",
        "l2.nodoFinalAInicio()\n",
        "print(l2)"
      ],
      "metadata": {
        "colab": {
          "base_uri": "https://localhost:8080/"
        },
        "id": "bQfT7W9Hcn8M",
        "outputId": "dca5f894-1ec3-424c-9090-95fcc1b70b09"
      },
      "execution_count": null,
      "outputs": [
        {
          "output_type": "stream",
          "name": "stdout",
          "text": [
            "primero -> 4 -> 1 -> 2 -> 3 -> 2 -> 7 -> 2 -> 2 -|\n",
            "primero -> 2 -> 4 -> 1 -> 2 -> 3 -> 2 -> 7 -> 2 -|\n"
          ]
        }
      ]
    },
    {
      "cell_type": "markdown",
      "metadata": {
        "id": "xfP229oY3ODC"
      },
      "source": [
        "### **Ejercicio 6**\n",
        "\n",
        "Escribir una operación del TDA Lista que reemplace todas las ocurrencias de un numero por otro. Ambos números los recibe por parámetro.\n",
        "\n",
        "Por ejemplo:\n",
        "\n",
        "\n",
        "**lista1** = [ 2 , 1 , 4 , 8 , 9 , 2 , 5 , 12 , 10]\n",
        "\n",
        "**lista1.reemplazar(2,3)** #Reemplaza todos los 2 por 3\n",
        "\n",
        "Entonces, **lista1** = [ 3 , 1 , 4 , 8 , 9 , 3 , 5 , 12 , 10 ]"
      ]
    },
    {
      "cell_type": "code",
      "metadata": {
        "id": "BMNroH_l3Ojz"
      },
      "source": [
        "class Lista(Lista):\n",
        "  def reemplazar(self,nroAReemplazar,nroNuevo):\n",
        "    if not self.estaVacia():\n",
        "      if self.__contains__(nroAReemplazar):\n",
        "        nodoAReemplazar=Lista.__NodoLista(nroAReemplazar)\n",
        "        nodoNuevo=Lista.__NodoLista(nroNuevo)\n",
        "        nodoAux=self.__primero\n",
        "        while nodoAux.tieneSiguiente():\n",
        "          if nodoAux.dato==nodoAReemplazar.dato:\n",
        "            nodoAux.dato=nodoNuevo.dato\n",
        "          nodoAux=nodoAux.siguiente\n",
        "        if nodoAux.dato==nodoAReemplazar.dato:\n",
        "          nodoAux.dato=nodoNuevo.dato\n",
        "\n",
        "      else:\n",
        "        print(f\"Lista no contiene elemento '{nroAReemplazar}'\")\n",
        "    else:\n",
        "      raise IndexError(\"Lista debe tener al menos un elemento\")\n"
      ],
      "execution_count": null,
      "outputs": []
    },
    {
      "cell_type": "code",
      "source": [
        "#CON LISTA RECURSIVA"
      ],
      "metadata": {
        "id": "WRxq5Dgt-Vsn"
      },
      "execution_count": null,
      "outputs": []
    },
    {
      "cell_type": "code",
      "source": [
        "l2 = Lista()\n",
        "l2.agregarAlFinal(4);l2.agregarAlFinal(1);l2.agregarAlFinal(2);l2.agregarAlFinal(3);l2.agregarAlFinal(2);l2.agregarAlFinal(7);l2.agregarAlFinal(2);l2.agregarAlFinal(2)\n",
        "print(l2)\n",
        "l2.reemplazar(2,3)\n",
        "print(l2)"
      ],
      "metadata": {
        "colab": {
          "base_uri": "https://localhost:8080/"
        },
        "id": "Tx2TLv-3mrKP",
        "outputId": "1790cc5b-152c-4da5-8425-6b5a9b055273"
      },
      "execution_count": null,
      "outputs": [
        {
          "output_type": "stream",
          "name": "stdout",
          "text": [
            "primero -> 4 -> 1 -> 2 -> 3 -> 2 -> 7 -> 2 -> 2 -|\n",
            "primero -> 4 -> 1 -> 3 -> 3 -> 3 -> 7 -> 3 -> 3 -|\n"
          ]
        }
      ]
    },
    {
      "cell_type": "markdown",
      "metadata": {
        "id": "nxgYjoxl3gmz"
      },
      "source": [
        "### **Ejercicio 7**\n",
        "\n",
        "Escribir la operación **duplicar()** del TDA Lista que duplica el contenido de una lista.\n",
        "\n",
        "Por ejemplo:\n",
        "\n",
        "**lista1** = [ 2 , 1 , 4 , 8 , 9 ]\n",
        "\n",
        "**lista1.duplicar()**\n",
        "\n",
        "Entonces, **lista1** = [ 2 , 1 , 4 , 8 , 9 , 2 , 1 , 4 , 8 , 9 ]"
      ]
    },
    {
      "cell_type": "code",
      "metadata": {
        "id": "Ojjaj3Z23g7j"
      },
      "source": [
        "class Lista(Lista):\n",
        "  def duplicar(self):\n",
        "    if not self.estaVacia():\n",
        "      listaDuplicada=self.clonar()\n",
        "      nodoAux=listaDuplicada.__primero\n",
        "      pos=0\n",
        "      while nodoAux.tieneSiguiente():\n",
        "        self.agregarAlFinal(listaDuplicada[pos])\n",
        "        pos+=1\n",
        "        nodoAux=nodoAux.siguiente\n",
        "      self.agregarAlFinal(listaDuplicada[pos])\n",
        "\n",
        "    else:\n",
        "      raise IndexError(\"Lista debe tener al menos un elemento\")"
      ],
      "execution_count": null,
      "outputs": []
    },
    {
      "cell_type": "code",
      "source": [
        "l2 = Lista()\n",
        "l2.agregarAlFinal(4);l2.agregarAlFinal(1);l2.agregarAlFinal(2);l2.agregarAlFinal(3);l2.agregarAlFinal(2);l2.agregarAlFinal(7);l2.agregarAlFinal(2)\n",
        "print(l2)\n",
        "l2.duplicar()\n",
        "print(l2)"
      ],
      "metadata": {
        "colab": {
          "base_uri": "https://localhost:8080/"
        },
        "id": "cn3Z2xUBruMS",
        "outputId": "bfc40247-2eea-4414-c0d3-0a85ed2ad78b"
      },
      "execution_count": null,
      "outputs": [
        {
          "output_type": "stream",
          "name": "stdout",
          "text": [
            "primero -> 4 -> 1 -> 2 -> 3 -> 2 -|\n",
            "primero -> 4 -> 1 -> 2 -> 3 -> 2 -> 4 -> 1 -> 2 -> 3 -> 2 -|\n"
          ]
        }
      ]
    },
    {
      "cell_type": "markdown",
      "metadata": {
        "id": "qBL1crPl55oY"
      },
      "source": [
        "### **Ejercicio 8**\n",
        "\n",
        "Los recorridos de listas normalmente pasan por todos los nodos, empezando por el primero, luego al siguiente, etc, como en la siguiente figura:\n",
        "\n",
        "\n",
        "![texto alternativo](https://i.ibb.co/DD1SXP9/recorrido-lista.png)\n",
        "\n",
        "\n",
        "Escribir una operación del TDA Lista que recorra la lista salteandose de a un nodo y mostrando por pantalla los elementos de los nodos visitados. El recorrido debe ser asi:\n",
        "\n",
        "![texto alternativo](https://i.ibb.co/q7xjDkZ/recorrido-salteado-lista.png)\n",
        "\n",
        "Por ejemplo:\n",
        "\n",
        "**lista1** = [ 2 , 1 , 4 , 8 , 9 , 12 , 5 , 8 ]\n",
        "\n",
        "**lista1.recorridoSalteado()**\n",
        "\n",
        "2\n",
        "\n",
        "4\n",
        "\n",
        "9\n",
        "\n",
        "5\n",
        "\n",
        "\n",
        "**Nota: No es correcto hacer un recorrido secuencial e ir contando las posiciones, lo correcto es solo visitar los nodos que nos interesan**"
      ]
    },
    {
      "cell_type": "code",
      "metadata": {
        "id": "QufyqyM4uaTw"
      },
      "source": [
        "class Lista(Lista):\n",
        "  def recorridoSalteado(self):\n",
        "    if not self.estaVacia():\n",
        "      nodoAux=self.__primero\n",
        "      print(f\"{nodoAux.dato}\")\n",
        "      while nodoAux.siguiente!=None:\n",
        "        if nodoAux.siguiente.siguiente!=None:\n",
        "          nodoAux=nodoAux.siguiente.siguiente\n",
        "          print(f\"{nodoAux.dato}\")\n",
        "    else:\n",
        "      raise IndexError(\"Lista debe tener al menos un elemento\")"
      ],
      "execution_count": null,
      "outputs": []
    },
    {
      "cell_type": "code",
      "source": [
        "#CON LISTA RECURSIVA"
      ],
      "metadata": {
        "id": "Rmn_57hm-X2W"
      },
      "execution_count": null,
      "outputs": []
    },
    {
      "cell_type": "code",
      "source": [
        "l2 = Lista()\n",
        "l2.agregarAlFinal(4);l2.agregarAlFinal(1);l2.agregarAlFinal(2);l2.agregarAlFinal(3);l2.agregarAlFinal(2);l2.agregarAlFinal(7);l2.agregarAlFinal(2)\n",
        "print(l2)\n",
        "l2.recorridoSalteado()"
      ],
      "metadata": {
        "colab": {
          "base_uri": "https://localhost:8080/"
        },
        "id": "eDRQZm6exjBg",
        "outputId": "c1c711f8-0907-4547-e70e-765df7b569d3"
      },
      "execution_count": null,
      "outputs": [
        {
          "output_type": "stream",
          "name": "stdout",
          "text": [
            "primero -> 4 -> 1 -> 2 -> 3 -> 2 -> 7 -> 2 -|\n",
            "4\n",
            "2\n",
            "2\n",
            "2\n"
          ]
        }
      ]
    },
    {
      "cell_type": "markdown",
      "metadata": {
        "id": "kaEphODFuZkW"
      },
      "source": [
        "### **Ejercicio 9**\n",
        "\n",
        "Vamos con otro tipo de recorrido de listas, escribir una operación del TDA Lista que recorra la lista de la siguiente manera (mientras va imprimiendo los elementos del nodo visitado):\n",
        "- Si el elemento del nodo visitado es par, seguimos por el siguiente\n",
        "- Si el elemento del nodo visitado es impar, nos salteamos el siguiente y seguimos con el otro\n",
        "\n",
        "El recorrido debe ser asi:\n",
        "\n",
        "![texto alternativo](https://i.ibb.co/DkBKs5M/recorrido-salteadopar-lista.png)\n",
        "\n",
        "Por ejemplo:\n",
        "\n",
        "**lista1** = [ 2 , 5 , 1 , 9 , 8 , 10 , 7 ]\n",
        "\n",
        "**lista1.recorridoParImpar()**\n",
        "\n",
        "2\n",
        "\n",
        "5\n",
        "\n",
        "9\n",
        "\n",
        "10\n",
        "\n",
        "7\n"
      ]
    },
    {
      "cell_type": "code",
      "metadata": {
        "id": "Qw2fTW5dG9Fy"
      },
      "source": [
        "class Lista(Lista):\n",
        "  def recorridoParImpar(self):\n",
        "    if not self.estaVacia():\n",
        "      nodoAux=self.__primero\n",
        "      print(f\"{nodoAux.dato}\")\n",
        "      while nodoAux.siguiente!=None:\n",
        "        if nodoAux.dato%2==0:\n",
        "          nodoAux=nodoAux.siguiente\n",
        "          print(f\"{nodoAux.dato}\")\n",
        "        else:\n",
        "          if nodoAux.siguiente.siguiente!=None:\n",
        "            nodoAux=nodoAux.siguiente.siguiente\n",
        "            print(f\"{nodoAux.dato}\")\n",
        "          else:\n",
        "            break\n",
        "    else:\n",
        "      raise IndexError(\"Lista debe tener al menos un elemento\")"
      ],
      "execution_count": null,
      "outputs": []
    },
    {
      "cell_type": "code",
      "source": [
        "#CON LISTA RECURSIVA"
      ],
      "metadata": {
        "id": "iuBDxlHL-Zdw"
      },
      "execution_count": null,
      "outputs": []
    },
    {
      "cell_type": "code",
      "source": [
        "l2 = Lista()\n",
        "l2.agregarAlFinal(4);l2.agregarAlFinal(1);l2.agregarAlFinal(2)#;l2.agregarAlFinal(2);l2.agregarAlFinal(2);l2.agregarAlFinal(7)\n",
        "print(l2)\n",
        "l2.recorridoParImpar()"
      ],
      "metadata": {
        "colab": {
          "base_uri": "https://localhost:8080/"
        },
        "id": "n6wMx9FV38DV",
        "outputId": "76e87355-7aa0-4d8f-a0ef-8f875091de03"
      },
      "execution_count": null,
      "outputs": [
        {
          "output_type": "stream",
          "name": "stdout",
          "text": [
            "primero -> 4 -> 1 -> 2 -|\n",
            "4\n",
            "1\n"
          ]
        }
      ]
    },
    {
      "cell_type": "markdown",
      "metadata": {
        "id": "XhFVjfXpG8Vi"
      },
      "source": [
        "### **Ejercicio 10**\n",
        "\n",
        "Escribir una operación del TDA Lista que recibe dos números por parámetro. La operación recorre la lista, si el elemento del nodo es menor que el primer parámetro se deja igual, si es mayor o igual, se reemplaza por el mismo número multiplicado por el otro parámetro.\n",
        "\n",
        "Por ejemplo:\n",
        "\n",
        "**lista1** = [ 2 , 1 , 4 , 8 , 9 , 12 , 0 , 10 , 1 , 4 ]\n",
        "\n",
        "**lista1.reemplazaMayores(6,3)** #Multiplica por 3 los mayores o iguales a 6, el resto queda igual\n",
        "\n",
        "Entonces, **lista1** = [ 2 , 1 , 4 , 24 , 27 , 36 , 0 , 30 , 1 , 4 ]\n"
      ]
    },
    {
      "cell_type": "code",
      "metadata": {
        "id": "YhDwIP7AZeC2"
      },
      "source": [
        "class Lista(Lista):\n",
        "  def reemplazarMayores(self,nroDeLista,nroAMultiplicar):\n",
        "    if not self.estaVacia():\n",
        "      if self.__contains__(nroDeLista):\n",
        "        nodoAux=self.__primero\n",
        "        nodoAReemplazar= Lista.__NodoLista(nroDeLista)\n",
        "        while nodoAux.siguiente!=None:\n",
        "          if nodoAux.dato==nodoAReemplazar.dato:\n",
        "            nodoAux.dato=nodoAReemplazar.dato*nroAMultiplicar\n",
        "          nodoAux=nodoAux.siguiente\n",
        "        if nodoAux.dato==nodoAReemplazar.dato:\n",
        "          nodoAux.dato=nodoAReemplazar.dato*nroAMultiplicar\n",
        "\n",
        "      else:\n",
        "        print(f\"No se encuentra el {nroDeLista} en la lista\")\n",
        "    else:\n",
        "      raise IndexError(\"Lista no debe estar vacia\")"
      ],
      "execution_count": null,
      "outputs": []
    },
    {
      "cell_type": "code",
      "source": [
        "#CON LISTA RECURSIVA"
      ],
      "metadata": {
        "id": "hhyEp7o7-aIG"
      },
      "execution_count": null,
      "outputs": []
    },
    {
      "cell_type": "code",
      "source": [
        "l2 = Lista()\n",
        "l2.agregarAlFinal(4);l2.agregarAlFinal(1);l2.agregarAlFinal(2);l2.agregarAlFinal(3);l2.agregarAlFinal(2);l2.agregarAlFinal(7)\n",
        "print(l2)\n",
        "l2.reemplazarMayores(7,5)\n",
        "print(l2)"
      ],
      "metadata": {
        "colab": {
          "base_uri": "https://localhost:8080/"
        },
        "id": "2_AM7fDJ83_n",
        "outputId": "16483e38-8307-44ad-b274-a70c75059418"
      },
      "execution_count": null,
      "outputs": [
        {
          "output_type": "stream",
          "name": "stdout",
          "text": [
            "primero -> 4 -> 1 -> 2 -> 3 -> 2 -> 7 -|\n",
            "primero -> 4 -> 1 -> 2 -> 3 -> 2 -> 35 -|\n"
          ]
        }
      ]
    },
    {
      "cell_type": "markdown",
      "metadata": {
        "id": "a9FAMdrHZdJ1"
      },
      "source": [
        "### **Ejercicio 11**\n",
        "\n",
        "Escribir una operación del TDA Lista que recibe dos números por parámetro: una posición y un número nuevo. Recorre la lista hasta la posición y reemplaza el número de la lista por el nuevo.\n",
        "\n",
        "Por ejemplo:\n",
        "\n",
        "**lista1** = [ 2 , 1 , 4 , 8 , 9 , 12 , 0 , 10 , 1 , 4 ]\n",
        "\n",
        "**lista1.reemplazar(2,20)** #Reemplaza el número en la posición 2 por 20\n",
        "\n",
        "Entonces, **lista1** = [ 2 , 1 , 20 , 8 , 9 , 12 , 0 , 10 , 1 , 4 ]"
      ]
    },
    {
      "cell_type": "code",
      "metadata": {
        "id": "Qfj8xzfWougq"
      },
      "source": [
        "class Lista(Lista):\n",
        "  def reemplazar(self,posicion,nro):\n",
        "    if not self.estaVacia():\n",
        "      if (self.tamaño()-1)>=posicion:\n",
        "        pos=0\n",
        "        nodoAux=self.__primero\n",
        "        asignar=False\n",
        "        while nodoAux.siguiente!=None and asignar==False:\n",
        "          if pos==posicion:\n",
        "            nodoAux.dato=nro\n",
        "            asignar=True\n",
        "          else:\n",
        "            pos+=1\n",
        "            nodoAux=nodoAux.siguiente\n",
        "        if pos==posicion:\n",
        "          nodoAux.dato=nro\n",
        "\n",
        "      else:\n",
        "        raise IndexError(f\"La posicion {posicion} no es valida, el maximo de posicion es {self.tamaño()-1}\")\n",
        "    else:\n",
        "      raise IndexError(\"Lista no debe estar vacia\")"
      ],
      "execution_count": null,
      "outputs": []
    },
    {
      "cell_type": "code",
      "source": [
        "#CON LISTA RECURSIVA"
      ],
      "metadata": {
        "id": "qOf9yT33-bDI"
      },
      "execution_count": null,
      "outputs": []
    },
    {
      "cell_type": "code",
      "source": [
        "l2 = Lista()\n",
        "l2.agregarAlFinal(4);l2.agregarAlFinal(1);l2.agregarAlFinal(2);l2.agregarAlFinal(3);l2.agregarAlFinal(2);l2.agregarAlFinal(7)\n",
        "print(l2)\n",
        "l2.reemplazar(5,8)\n",
        "print(l2)"
      ],
      "metadata": {
        "colab": {
          "base_uri": "https://localhost:8080/"
        },
        "id": "q5Wm7CbEdNop",
        "outputId": "93dcedb1-1b97-4f5b-fee5-6c6514408479"
      },
      "execution_count": null,
      "outputs": [
        {
          "output_type": "stream",
          "name": "stdout",
          "text": [
            "primero -> 4 -> 1 -> 2 -> 3 -> 2 -> 7 -|\n",
            "primero -> 4 -> 1 -> 2 -> 3 -> 2 -> 8 -|\n"
          ]
        }
      ]
    },
    {
      "cell_type": "markdown",
      "metadata": {
        "id": "ds5kveH9otzk"
      },
      "source": [
        "### **Ejercicio 12**\n",
        "\n",
        "Escribir la operación **insertarOrdenado()** del TDA Lista, que se llama desde una lista ordenada e inserta un número que recibe por parámetro en el lugar correcto (manteniendo el orden).\n",
        "\n",
        "Por ejemplo:\n",
        "\n",
        "**lista1** = [ 2 , 5 , 9 , 12 , 25 , 32 ]\n",
        "\n",
        "**lista1.insertarOrdenado(10)**\n",
        "\n",
        "Entonces, **lista1** = [ 2 , 5 , 9 , 10 , 12 , 25 , 32 ]"
      ]
    },
    {
      "cell_type": "code",
      "source": [
        "class Lista(Lista):\n",
        "  def insertarOrdenado(self,nroAInsertar):\n",
        "    nodoAux=self.__primero\n",
        "    asignar=False\n",
        "    pos=0\n",
        "    while nodoAux.siguiente!=None and asignar==False:\n",
        "      if nodoAux.dato>nroAInsertar:\n",
        "        self.insertar(pos,nroAInsertar)\n",
        "        asignar=True\n",
        "      else:\n",
        "        pos+=1\n",
        "        nodoAux=nodoAux.siguiente\n",
        "\n",
        "    if asignar==False:\n",
        "      if nroAInsertar > nodoAux.dato:\n",
        "        self.insertar(pos+1,nroAInsertar)\n",
        "      else:\n",
        "        self.insertar(pos,nroAInsertar)\n"
      ],
      "metadata": {
        "id": "C_o5OpWcRutA"
      },
      "execution_count": null,
      "outputs": []
    },
    {
      "cell_type": "code",
      "source": [
        "#CON LISTA RECURSIVA"
      ],
      "metadata": {
        "id": "p0lb2uNb-bvG"
      },
      "execution_count": null,
      "outputs": []
    },
    {
      "cell_type": "code",
      "source": [
        "l2 = Lista()\n",
        "l2.agregarAlFinal(2);l2.agregarAlFinal(5);l2.agregarAlFinal(9);l2.agregarAlFinal(12);l2.agregarAlFinal(25);l2.agregarAlFinal(32)\n",
        "print(l2)\n",
        "l2.insertarOrdenado(33)\n",
        "print(l2)"
      ],
      "metadata": {
        "colab": {
          "base_uri": "https://localhost:8080/"
        },
        "id": "hJP7zp_QgA3p",
        "outputId": "22383d44-16f9-4c41-d79b-23a06b395581"
      },
      "execution_count": null,
      "outputs": [
        {
          "output_type": "stream",
          "name": "stdout",
          "text": [
            "primero -> 2 -> 5 -> 9 -> 12 -> 25 -> 32 -|\n",
            "primero -> 2 -> 5 -> 9 -> 12 -> 25 -> 32 -> 33 -|\n"
          ]
        }
      ]
    },
    {
      "cell_type": "code",
      "source": [],
      "metadata": {
        "id": "7Um8eGFhgy05"
      },
      "execution_count": null,
      "outputs": []
    }
  ]
}