{
  "nbformat": 4,
  "nbformat_minor": 0,
  "metadata": {
    "colab": {
      "provenance": [],
      "include_colab_link": true
    },
    "kernelspec": {
      "name": "python3",
      "display_name": "Python 3"
    }
  },
  "cells": [
    {
      "cell_type": "markdown",
      "metadata": {
        "id": "view-in-github",
        "colab_type": "text"
      },
      "source": [
        "<a href=\"https://colab.research.google.com/github/LSantana32/estructuraDeDatos-UNAHUR/blob/main/Copia_de_Trabajo_practico_5_Pilas_y_Colas_com1.ipynb\" target=\"_parent\"><img src=\"https://colab.research.google.com/assets/colab-badge.svg\" alt=\"Open In Colab\"/></a>"
      ]
    },
    {
      "cell_type": "markdown",
      "metadata": {
        "id": "42630xxYD0gZ"
      },
      "source": [
        "# ![alt text](https://upload.wikimedia.org/wikipedia/commons/thumb/c/c3/Python-logo-notext.svg/50px-Python-logo-notext.svg.png) **Trabajo Práctico 6: Pilas y colas dinámicas** ![alt text](https://upload.wikimedia.org/wikipedia/commons/thumb/c/c3/Python-logo-notext.svg/50px-Python-logo-notext.svg.png)\n",
        "\n",
        "En este trabajo práctico, vamos a trabajar con las estructuras de datos **Pila** y **Cola** dinámicas en Python. Recuerden crear una copia de este archivo en su ***Google Drive*** para tener permisos de edición.\n",
        "\n",
        "### Sergio: **sergio.gonzalez@unahur.edu.ar** ###"
      ]
    },
    {
      "cell_type": "code",
      "source": [
        "l1 = [] #list()\n",
        "print(l1)\n",
        "l1.append(3);l1.append(4);l1.append(7);l1.append(5);l1.append(2);\n",
        "print(l1)\n",
        "l1.insert(0,10)\n",
        "print(l1)\n",
        "l1.pop(2)\n",
        "print(l1)"
      ],
      "metadata": {
        "id": "HLB1SvYtOA_w",
        "colab": {
          "base_uri": "https://localhost:8080/"
        },
        "outputId": "9cd6dd54-a323-4863-c366-67bab1cc4779"
      },
      "execution_count": null,
      "outputs": [
        {
          "output_type": "stream",
          "name": "stdout",
          "text": [
            "[]\n",
            "[3, 4, 7, 5, 2]\n",
            "[10, 3, 4, 7, 5, 2]\n",
            "[10, 3, 7, 5, 2]\n"
          ]
        }
      ]
    },
    {
      "cell_type": "code",
      "source": [
        "print(l1)\n",
        "print(l1[0])\n",
        "print(l1[len(l1)-1])"
      ],
      "metadata": {
        "colab": {
          "base_uri": "https://localhost:8080/"
        },
        "id": "NiVm9vgk4JXR",
        "outputId": "d1746381-064c-4021-dfa3-237eaf8a4ef5"
      },
      "execution_count": null,
      "outputs": [
        {
          "output_type": "stream",
          "name": "stdout",
          "text": [
            "[10, 3, 7, 5, 2]\n",
            "10\n",
            "2\n"
          ]
        }
      ]
    },
    {
      "cell_type": "code",
      "source": [
        "for elemento in l1:\n",
        "  print(elemento)\n",
        "print()\n",
        "for pos in range(len(l1)):\n",
        "  print(l1[pos])"
      ],
      "metadata": {
        "colab": {
          "base_uri": "https://localhost:8080/"
        },
        "id": "p_i4Ged84YKR",
        "outputId": "69f53405-b46d-4325-abf0-aefc3e20c51c"
      },
      "execution_count": null,
      "outputs": [
        {
          "output_type": "stream",
          "name": "stdout",
          "text": [
            "10\n",
            "3\n",
            "7\n",
            "5\n",
            "2\n",
            "\n",
            "10\n",
            "3\n",
            "7\n",
            "5\n",
            "2\n"
          ]
        }
      ]
    },
    {
      "cell_type": "markdown",
      "metadata": {
        "id": "p_zfOaNy70h-"
      },
      "source": [
        "## **Parte 1: Pilas dinámicas**"
      ]
    },
    {
      "cell_type": "markdown",
      "metadata": {
        "id": "xjXgmD3mskbR"
      },
      "source": [
        "### **Ejercicio 1**\n",
        "\n",
        "Implementar el TDA Pila (Stack), con las siguientes operaciones:\n",
        "- Crear (__init__())\n",
        "- Vaciar\n",
        "- Apilar elemento (push)\n",
        "- Desapilar elemento (pop)\n",
        "- Obtener primer elemento (top)\n",
        "- Obtener tamaño de pila\n",
        "- Clonar\n",
        "- Esta vacía.\n",
        "- __repr__(). Para poder imprimir una Pila por consola"
      ]
    },
    {
      "cell_type": "code",
      "metadata": {
        "id": "vM50Hpx6yUDe"
      },
      "source": [
        "import copy as cp\n",
        "\n",
        "class Pila:\n",
        "  def __init__(self, listaInicial=None):\n",
        "    self.pila = []\n",
        "    if listaInicial:\n",
        "      self.pila=cp.deepcopy(listaInicial)\n",
        "  def tamaño(self)->int:\n",
        "    return len(self.pila)\n",
        "  def estaVacia(self)->bool:\n",
        "    return self.tamaño() == 0\n",
        "  def apilar(self, dato:int)->None:\n",
        "    self.pila.append(dato)\n",
        "  def tope(self)->int:\n",
        "    datoCima = None\n",
        "    if not self.estaVacia():\n",
        "      datoCima = self.pila[len(self.pila)-1]\n",
        "    return datoCima\n",
        "  def desapilar(self)->int:\n",
        "    dato = None\n",
        "    if not self.estaVacia():\n",
        "      dato = self.pila.pop()\n",
        "    return dato\n",
        "  def vaciar(self)->None:\n",
        "    self.pila = []\n",
        "  def clonar(self):\n",
        "    return cp.deepcopy(self)\n",
        "  def __repr__(self)->str:\n",
        "    return str(self.pila)+\"<->\""
      ],
      "execution_count": null,
      "outputs": []
    },
    {
      "cell_type": "code",
      "source": [
        "pila1 = Pila([2,3,1,5,6])\n",
        "print(pila1)\n",
        "pila1.apilar(3);pila1.apilar(2);pila1.apilar(7);pila1.apilar(4);\n",
        "print(pila1)\n",
        "print(pila1.desapilar())\n",
        "print(pila1)\n",
        "pila2 = pila1.clonar()\n",
        "print(\"pila2\",pila2)"
      ],
      "metadata": {
        "colab": {
          "base_uri": "https://localhost:8080/"
        },
        "id": "t_NkxEV0-OCl",
        "outputId": "a91f7dc7-30ec-4f8d-96b7-3193aba566a7"
      },
      "execution_count": null,
      "outputs": [
        {
          "output_type": "stream",
          "name": "stdout",
          "text": [
            "[]<->\n",
            "[3, 2, 7, 4]<->\n",
            "4\n",
            "[3, 2, 7]<->\n",
            "pila2 [3, 2, 7]<->\n"
          ]
        }
      ]
    },
    {
      "cell_type": "code",
      "source": [
        "print(pila1)\n",
        "while not pila1.estaVacia():\n",
        "  print(pila1.desapilar())\n",
        "print(pila1)\n"
      ],
      "metadata": {
        "colab": {
          "base_uri": "https://localhost:8080/"
        },
        "id": "s_jdruLC_Vkl",
        "outputId": "6313608b-e96e-4351-f29e-83a7684178a4"
      },
      "execution_count": null,
      "outputs": [
        {
          "output_type": "stream",
          "name": "stdout",
          "text": [
            "[3, 2, 7]<->\n",
            "7\n",
            "2\n",
            "3\n",
            "[]<->\n"
          ]
        }
      ]
    },
    {
      "cell_type": "markdown",
      "metadata": {
        "id": "I26IE7cG1BeA"
      },
      "source": [
        "### A partir del **Ejercicio 2** vamos a trabajar fuera del TDA Pila usando la interface que creamos en el **Ejercicio 1**. Es decir, se pueden usar solo las operaciones de la interface, no se puede acceder a los componentes internos del TDA. Si necesitan estructuras auxiliares, pueden usar otra pila, arreglos o listas."
      ]
    },
    {
      "cell_type": "markdown",
      "metadata": {
        "id": "Q0D1vzJZzqID"
      },
      "source": [
        "### **Ejercicio 2**\n",
        "\n",
        "Escribir un programa que declare una pila de enteros y le apile 4 elementos. Luego debe mostrar la pila y su tamaño, desapilar 2 elementos y volver a imprimirla junto con el nuevo tamaño."
      ]
    },
    {
      "cell_type": "code",
      "source": [
        "import copy as cp\n",
        "\n",
        "class Pila:\n",
        "  def __init__(self, listaInicial=None):\n",
        "    self.pila = []\n",
        "  def tamaño(self)->int:\n",
        "    return len(self.pila)\n",
        "  def estaVacia(self)->bool:\n",
        "    return self.tamaño() == 0\n",
        "  def apilar(self, dato:int)->None:\n",
        "    self.pila.append(dato)\n",
        "  def tope(self)->int:\n",
        "    datoCima = None\n",
        "    if not self.estaVacia():\n",
        "      datoCima = self.pila[len(self.pila)-1]\n",
        "    return datoCima\n",
        "  def desapilar(self)->int:\n",
        "    dato = None\n",
        "    if not self.estaVacia():\n",
        "      dato = self.pila.pop()\n",
        "    return dato\n",
        "  def vaciar(self)->None:\n",
        "    self.pila = []\n",
        "  def clonar(self):\n",
        "    return cp.deepcopy(self)\n",
        "  def __repr__(self)->str:\n",
        "    return str(self.pila)+\"<->\""
      ],
      "metadata": {
        "id": "KV7MeBdnLN-O"
      },
      "execution_count": null,
      "outputs": []
    },
    {
      "cell_type": "code",
      "metadata": {
        "id": "Y4eHEO31zpnu"
      },
      "source": [
        "\n",
        "def declararEnteros():\n",
        "  pila=Pila([])\n",
        "  for i in range (4):\n",
        "    pila.apilar(int(input(\"agregar entero:\")))\n",
        "  print(pila)\n",
        "  print(pila.tamaño())\n",
        "\n",
        "  for i in range (2):\n",
        "    pila.desapilar()\n",
        "  print(pila)\n",
        "  print(pila.tamaño())\n",
        "\n"
      ],
      "execution_count": null,
      "outputs": []
    },
    {
      "cell_type": "code",
      "source": [
        "declararEnteros()"
      ],
      "metadata": {
        "colab": {
          "base_uri": "https://localhost:8080/"
        },
        "id": "TuwvSkpIJdCZ",
        "outputId": "ef872fe7-9f56-40c4-a306-76f0f10ab4b3"
      },
      "execution_count": null,
      "outputs": [
        {
          "output_type": "stream",
          "name": "stdout",
          "text": [
            "agregar entero:1\n",
            "agregar entero:2\n",
            "agregar entero:3\n",
            "agregar entero:4\n",
            "[1, 2, 3, 4]<->\n",
            "4\n",
            "[1, 2]<->\n",
            "2\n"
          ]
        }
      ]
    },
    {
      "cell_type": "markdown",
      "metadata": {
        "id": "rds3Jsp10bJr"
      },
      "source": [
        "### **Ejercicio 3**\n",
        "\n",
        "Escribir una función que invierta el orden de una pila. No debe devolver una nueva pila invertida, sino invertir la pila que ingresa por parámetro."
      ]
    },
    {
      "cell_type": "code",
      "source": [
        "import copy as cp\n",
        "\n",
        "class Pila:\n",
        "  def __init__(self, listaInicial=None):\n",
        "    self.pila = []\n",
        "    if listaInicial:\n",
        "      self.pila=cp.deepcopy(listaInicial)\n",
        "  def tamaño(self)->int:\n",
        "    return len(self.pila)\n",
        "  def estaVacia(self)->bool:\n",
        "    return self.tamaño() == 0\n",
        "  def apilar(self, dato:int)->None:\n",
        "    self.pila.append(dato)\n",
        "  def tope(self)->int:\n",
        "    datoCima = None\n",
        "    if not self.estaVacia():\n",
        "      datoCima = self.pila[len(self.pila)-1]\n",
        "    return datoCima\n",
        "  def desapilar(self)->int:\n",
        "    dato = None\n",
        "    if not self.estaVacia():\n",
        "      dato = self.pila.pop()\n",
        "    return dato\n",
        "  def vaciar(self)->None:\n",
        "    self.pila = []\n",
        "  def clonar(self):\n",
        "    return cp.deepcopy(self)\n",
        "  def __repr__(self)->str:\n",
        "    return str(self.pila)+\"<->\""
      ],
      "metadata": {
        "id": "YoQxvXf2VGiH"
      },
      "execution_count": null,
      "outputs": []
    },
    {
      "cell_type": "code",
      "metadata": {
        "id": "EJoEuAVx0eOc"
      },
      "source": [
        "def invertirPila(pila:Pila)->None:\n",
        "  listaAux=[]\n",
        "  while not pila.estaVacia():\n",
        "    listaAux.append(pila.desapilar())\n",
        "  for dato in listaAux:\n",
        "    pila.apilar(dato)\n",
        "\n",
        "\n"
      ],
      "execution_count": null,
      "outputs": []
    },
    {
      "cell_type": "code",
      "source": [
        "pila1= Pila([1,2,3,4])\n",
        "print (pila1)\n",
        "invertirPila(pila1)\n",
        "print(pila1)"
      ],
      "metadata": {
        "colab": {
          "base_uri": "https://localhost:8080/"
        },
        "id": "AgbQ23qbPsFE",
        "outputId": "77308c13-2f1f-4e03-876e-e11bada21a7a"
      },
      "execution_count": null,
      "outputs": [
        {
          "output_type": "stream",
          "name": "stdout",
          "text": [
            "[1, 2, 3, 4]<->\n",
            "[4, 3, 2, 1]<->\n"
          ]
        }
      ]
    },
    {
      "cell_type": "markdown",
      "metadata": {
        "id": "-YN0LThH0dO6"
      },
      "source": [
        "### **Ejercicio 4**\n",
        "\n",
        "Escribir una función que toma el último elemento de una pila(la base) y lo ponga en la cima (de la misma pila), respetando el orden del resto de los elementos. Utilizar una pila auxiliar."
      ]
    },
    {
      "cell_type": "code",
      "metadata": {
        "id": "KO9cVn4T0EFQ"
      },
      "source": [
        "def elementoBaseACima(pila:Pila)->None:\n",
        "  listaAux=[]\n",
        "  while not pila.estaVacia():\n",
        "    listaAux.append(pila.desapilar())\n",
        "\n",
        "  base= listaAux.pop()\n",
        "\n",
        "  for dato in reversed (listaAux):\n",
        "    pila.apilar(dato)\n",
        "\n",
        "  pila.apilar(base)\n",
        "\n"
      ],
      "execution_count": null,
      "outputs": []
    },
    {
      "cell_type": "code",
      "source": [
        "pila1= Pila([1,2,3,4])  #listaAux=[4,3,2,1]\n",
        "print(pila1)\n",
        "elementoBaseACima(pila1)\n",
        "print(pila1)"
      ],
      "metadata": {
        "colab": {
          "base_uri": "https://localhost:8080/"
        },
        "id": "oJ-nYC0oQgb3",
        "outputId": "fa9df963-2410-4c5e-dff8-33c0b0e2ca29"
      },
      "execution_count": null,
      "outputs": [
        {
          "output_type": "stream",
          "name": "stdout",
          "text": [
            "[1, 2, 3, 4]<->\n",
            "[2, 3, 4, 1]<->\n"
          ]
        }
      ]
    },
    {
      "cell_type": "markdown",
      "metadata": {
        "id": "_Q_DCTjI3AGK"
      },
      "source": [
        "### **Ejercicio 5**\n",
        "\n",
        "Escribir una función que coloque en el fondo de una pila un nuevo elemento."
      ]
    },
    {
      "cell_type": "code",
      "metadata": {
        "id": "S1y89t3q3BkZ"
      },
      "source": [
        "def colocarElementoEnBase(elem:int,pila:Pila)->None:\n",
        "  listaAux=[]\n",
        "  while not pila.estaVacia():\n",
        "    listaAux.append(pila.desapilar())\n",
        "  listaAux.append(elem)\n",
        "  for dato in reversed (listaAux):\n",
        "    pila.apilar(dato)"
      ],
      "execution_count": null,
      "outputs": []
    },
    {
      "cell_type": "code",
      "source": [
        "pila1= Pila([1,2,3,4])  #listaAux=[4,3,2,1]\n",
        "print(pila1)\n",
        "colocarElementoEnBase(7,pila1)\n",
        "print(pila1)"
      ],
      "metadata": {
        "colab": {
          "base_uri": "https://localhost:8080/"
        },
        "id": "5Pn9kWfHXa1f",
        "outputId": "a685b2df-bd27-491a-e049-09eca9dabffc"
      },
      "execution_count": null,
      "outputs": [
        {
          "output_type": "stream",
          "name": "stdout",
          "text": [
            "[1, 2, 3, 4]<->\n",
            "[7, 1, 2, 3, 4]<->\n"
          ]
        }
      ]
    },
    {
      "cell_type": "markdown",
      "metadata": {
        "id": "xfP229oY3ODC"
      },
      "source": [
        "### **Ejercicio 6**\n",
        "\n",
        "Escribir una función que elimine de una pila todas las ocurrencias de un elemento dado. Usar una pila auxiliar."
      ]
    },
    {
      "cell_type": "code",
      "metadata": {
        "id": "BMNroH_l3Ojz"
      },
      "source": [
        "def eliminarOcurrencias(valor:int,pila:Pila)->int:\n",
        "  listaAux=[]\n",
        "  while not pila.estaVacia():\n",
        "    listaAux.append(pila.desapilar())\n",
        "  for dato in reversed (listaAux):\n",
        "    if dato==valor:\n",
        "      listaAux.pop(dato)\n",
        "    else:\n",
        "      pila.apilar(dato)\n",
        "\n"
      ],
      "execution_count": null,
      "outputs": []
    },
    {
      "cell_type": "code",
      "source": [
        "pila1= Pila([1,2,3,3,4,3])  #listaAux=[4,3,2,1]\n",
        "print(pila1)\n",
        "eliminarOcurrencias(3,pila1)\n",
        "print(pila1)"
      ],
      "metadata": {
        "colab": {
          "base_uri": "https://localhost:8080/"
        },
        "id": "DCqSK0kQfibi",
        "outputId": "296ee4f2-6046-4c69-8217-f51fa14e5ca5"
      },
      "execution_count": null,
      "outputs": [
        {
          "output_type": "stream",
          "name": "stdout",
          "text": [
            "[1, 2, 3, 3, 4, 3]<->\n",
            "[1, 2, 4]<->\n"
          ]
        }
      ]
    },
    {
      "cell_type": "markdown",
      "metadata": {
        "id": "nxgYjoxl3gmz"
      },
      "source": [
        "### **Ejercicio 7**\n",
        "\n",
        "Escribir un función que duplique el contenido de una pila.\n",
        "\n",
        "Por ejemplo, si la pila de entrada es:\n",
        "\n",
        "Pila = 8, 5, 6, 9\n",
        "\n",
        "Luego de la función la salida debe ser:\n",
        "\n",
        "pilaSalida = 8, 5, 6, 9, 8, 5, 6, 9"
      ]
    },
    {
      "cell_type": "code",
      "metadata": {
        "id": "Ojjaj3Z23g7j"
      },
      "source": [
        "\n",
        "\n",
        "\n"
      ],
      "execution_count": null,
      "outputs": []
    },
    {
      "cell_type": "code",
      "source": [],
      "metadata": {
        "id": "BQCn9m2NhYLZ"
      },
      "execution_count": null,
      "outputs": []
    },
    {
      "cell_type": "markdown",
      "metadata": {
        "id": "OLopy2zK38Am"
      },
      "source": [
        "### **Ejercicio 8**\n",
        "\n",
        "Escribir una función que realiza el cálculo de la suma de dos números enteros de muchos dígitos (los dos números tienen la misma cantidad de dígitos). La función recibe dos pilas por parámetro, las que almacenan los dígitos de los números a sumar (esta pilas no deben estar modificadas al terminar la función). La función debe retornar una nueva pila con el resultado.\n",
        "\n",
        "Por ejemplo para sumar: 85699625 + 75426652\n",
        "\n",
        "Las pilas de entrada a la función son:\n",
        "\n",
        "Pila1 = 8, 5, 6, 9, 9, 6, 2, 5\n",
        "\n",
        "Pila2 = 7, 5, 4, 2, 6, 6, 5, 2\n",
        "\n",
        "La salida:\n",
        "\n",
        "pilaSalida = 1, 6, 1, 1, 2, 6, 2, 7, 7"
      ]
    },
    {
      "cell_type": "code",
      "metadata": {
        "id": "a-DTh4IX5gji"
      },
      "source": [],
      "execution_count": null,
      "outputs": []
    },
    {
      "cell_type": "markdown",
      "metadata": {
        "id": "rc3aFx7i5g13"
      },
      "source": [
        "### **Ejercicio 9**\n",
        "\n",
        "Escribir la función “reemplazar”, que recibe como parámetro una pila de enteros y dos números enteros: “viejo” y “nuevo”. La función debe modificar la pila ingresada por parámetro, reemplazando cada ocurrencia del número “viejo” por el “nuevo”.\n"
      ]
    },
    {
      "cell_type": "code",
      "metadata": {
        "id": "k3RCSCM555Ql"
      },
      "source": [
        "def reemplazar(pila,viejo,nuevo):\n",
        "  listaAux=[]\n",
        "  while not pila.estaVacia():\n",
        "    listaAux.append(pila.desapilar())\n",
        "  for dato in reversed(listaAux):\n",
        "    if dato==viejo:\n",
        "      listaAux.pop(dato)\n",
        "      pila.apilar(nuevo)\n",
        "    else:\n",
        "      pila.apilar(dato)"
      ],
      "execution_count": null,
      "outputs": []
    },
    {
      "cell_type": "code",
      "source": [
        "pila1=Pila([1,2,3,3,4,5])\n",
        "print(pila1)\n",
        "reemplazar(pila1,3,9)\n",
        "print(pila1)\n"
      ],
      "metadata": {
        "colab": {
          "base_uri": "https://localhost:8080/"
        },
        "id": "9IDbZyNvUnHY",
        "outputId": "a9461783-9988-4ad4-8624-cc28ea7d8d9d"
      },
      "execution_count": null,
      "outputs": [
        {
          "output_type": "stream",
          "name": "stdout",
          "text": [
            "[1, 2, 3, 3, 4, 5]<->\n",
            "[1, 2, 9, 9, 4, 5]<->\n"
          ]
        }
      ]
    },
    {
      "cell_type": "markdown",
      "metadata": {
        "id": "qBL1crPl55oY"
      },
      "source": [
        "### **Ejercicio 10**\n",
        "\n",
        "Escribir una función que recibe una pila de enteros y retorna dos pilas, una con solo los números pares y otra con solo los impares, provenientes de la pila de entrada. Al finalizar la función, la pila de entrada no debe estar modificada."
      ]
    },
    {
      "cell_type": "code",
      "source": [],
      "metadata": {
        "id": "04mgMKnSYteG"
      },
      "execution_count": null,
      "outputs": []
    },
    {
      "cell_type": "code",
      "metadata": {
        "id": "ZoMkxS8z56Ar"
      },
      "source": [
        "def separarParEImpar(pila):\n",
        "  listaAux=[]\n",
        "  pilaPar=pila.clonar()\n",
        "  pilaImpar=Pila([])\n",
        "\n",
        "  while not pilaPar.estaVacia():\n",
        "    listaAux.append(pilaPar.desapilar())\n",
        "\n",
        "  for dato in reversed (listaAux):\n",
        "    if dato % 2 == 0:\n",
        "      pilaPar.apilar(dato)\n",
        "\n",
        "    else:\n",
        "      pilaImpar.apilar(dato)\n",
        "\n",
        "  return (f'Pares:{pilaPar} Impares:{pilaImpar}')"
      ],
      "execution_count": null,
      "outputs": []
    },
    {
      "cell_type": "code",
      "source": [
        "pila1=Pila([1,2,3,3,4,5])\n",
        "print(pila1)\n",
        "separarParEImpar(pila1)"
      ],
      "metadata": {
        "colab": {
          "base_uri": "https://localhost:8080/",
          "height": 53
        },
        "id": "E0SGMuItYpbw",
        "outputId": "d639c4ca-63b9-4777-b123-b4670ee381b3"
      },
      "execution_count": null,
      "outputs": [
        {
          "output_type": "stream",
          "name": "stdout",
          "text": [
            "[1, 2, 3, 3, 4, 5]<->\n"
          ]
        },
        {
          "output_type": "execute_result",
          "data": {
            "text/plain": [
              "'Pares:[2, 4]<-> Impares:[1, 3, 3, 5]<->'"
            ],
            "application/vnd.google.colaboratory.intrinsic+json": {
              "type": "string"
            }
          },
          "metadata": {},
          "execution_count": 30
        }
      ]
    },
    {
      "cell_type": "markdown",
      "metadata": {
        "id": "R-BNJESL8Ato"
      },
      "source": [
        "## **Parte 2: Colas dinámicas**"
      ]
    },
    {
      "cell_type": "markdown",
      "metadata": {
        "id": "_2Diy6h_8Jae"
      },
      "source": [
        "### **Ejercicio 11**\n",
        "\n",
        "Implementar el TDA Cola (Queue), con las siguientes operaciones:\n",
        "- Crear (__init__())\n",
        "- Vaciar\n",
        "- Encolar elemento (enqueue)\n",
        "- Desancolar elemento (dequeue)\n",
        "- Obtener primer elemento (top)\n",
        "- Obtener tamaño de cola\n",
        "- Clonar\n",
        "- Esta vacía.\n",
        "- __repr__(). Para poder imprimir una Cola por consola"
      ]
    },
    {
      "cell_type": "code",
      "metadata": {
        "id": "LtcHcMLtE6Ty"
      },
      "source": [
        "import copy as cp\n",
        "\n",
        "class Cola:\n",
        "  def __init__(self,listaInicial=None):\n",
        "    self.cola = []\n",
        "    if listaInicial:\n",
        "      self.cola=cp.deepcopy(listaInicial)\n",
        "\n",
        "  def tamaño(self)->int:\n",
        "    return len(self.cola)\n",
        "\n",
        "  def estaVacia(self)->bool:\n",
        "    return self.tamaño() == 0\n",
        "\n",
        "  def encolar(self, dato:int)->None:\n",
        "    self.cola.append(dato) #Encolando por el final\n",
        "    #self.cola.insert(0,dato) #Encolando por el inicio\n",
        "\n",
        "  def tope(self)->int:\n",
        "    datoCima = None\n",
        "    if not self.estaVacia():\n",
        "      datoCima = self.cola[0]  #Desencolo por el inicio\n",
        "      #datoCima = self.cola[len(self.cola)-1] #Desencolo por el final\n",
        "    return datoCima\n",
        "\n",
        "  def desencolar(self)->int:\n",
        "    dato = None\n",
        "    if not self.estaVacia():\n",
        "      dato = self.cola.pop(0)  #Desencolando por el inicio\n",
        "      #dato = self.cola.pop() #Desencolando por el final\n",
        "    return dato\n",
        "\n",
        "  def vaciar(self)->None:\n",
        "    self.cola = []\n",
        "\n",
        "  def clonar(self):\n",
        "    return cp.deepcopy(self)\n",
        "\n",
        "  def __repr__(self)->str:\n",
        "    return \"<-\"+str(self.cola)+\"<-\""
      ],
      "execution_count": null,
      "outputs": []
    },
    {
      "cell_type": "code",
      "source": [
        "cola1 = Cola()\n",
        "print(cola1)\n",
        "cola1.encolar(3);cola1.encolar(2);cola1.encolar(7);cola1.encolar(4);\n",
        "print(cola1)\n",
        "print(cola1.desencolar())\n",
        "print(cola1)\n",
        "cola2 = cola1.clonar()\n",
        "print(\"cola2\",cola2)"
      ],
      "metadata": {
        "colab": {
          "base_uri": "https://localhost:8080/"
        },
        "id": "oxPnBsKgBhWJ",
        "outputId": "f6eb49c7-3fb0-4ff7-b206-505589ffa9ab"
      },
      "execution_count": null,
      "outputs": [
        {
          "output_type": "stream",
          "name": "stdout",
          "text": [
            "<-[]<-\n",
            "<-[3, 2, 7, 4]<-\n",
            "3\n",
            "<-[2, 7, 4]<-\n",
            "cola2 <-[2, 7, 4]<-\n"
          ]
        }
      ]
    },
    {
      "cell_type": "code",
      "source": [
        "#print(cola1)\n",
        "#while not cola1.estaVacia():\n",
        "#  print(cola1.desencolar())\n",
        "#print(cola1)\n",
        "cola1 = Cola()\n",
        "cola1.encolar(3);cola1.encolar(2);cola1.encolar(7);cola1.encolar(4);\n",
        "print(cola1)\n",
        "for i in range(cola1.tamaño()):\n",
        "  dato = cola1.desencolar()\n",
        "  #hacer algo...\n",
        "  cola1.encolar(dato)\n",
        "print(cola1)"
      ],
      "metadata": {
        "colab": {
          "base_uri": "https://localhost:8080/"
        },
        "id": "MBNJoZA-CDXu",
        "outputId": "8a86a9f4-052b-40a0-c4fd-f6624d1c02e2"
      },
      "execution_count": null,
      "outputs": [
        {
          "output_type": "stream",
          "name": "stdout",
          "text": [
            "<-[3, 2, 7, 4]<-\n",
            "<-[3, 2, 7, 4]<-\n"
          ]
        }
      ]
    },
    {
      "cell_type": "markdown",
      "metadata": {
        "id": "wao1sk3f9VIE"
      },
      "source": [
        "### A partir del **Ejercicio 12** vamos a trabajar fuera del TDA Cola usando la interface que creamos en el **Ejercicio 11**. Es decir, se pueden usar solo las operaciones de la interface, no se puede acceder a los componentes internos del TDA. Si necesitan estructuras auxiliares, pueden usar otra cola, pilas, arreglos o listas."
      ]
    },
    {
      "cell_type": "markdown",
      "metadata": {
        "id": "0ngItJaS9LQL"
      },
      "source": [
        "### **Ejercicio 12**\n",
        "\n",
        "Escribir una función que invierta el orden de una cola. No debe devolver una nueva cola invertida, sino invertir la cola que ingresa por parámetro."
      ]
    },
    {
      "cell_type": "code",
      "metadata": {
        "id": "TgI0Klap9Lxt"
      },
      "source": [
        "def invertirCola(cola):\n",
        "  listaAux=[]\n",
        "  while not cola.estaVacia():\n",
        "    listaAux.append(cola.desencolar())\n",
        "  for dato in reversed(listaAux):\n",
        "    cola.encolar(dato)"
      ],
      "execution_count": null,
      "outputs": []
    },
    {
      "cell_type": "code",
      "source": [
        "cola1=Cola([1,2,3,4])\n",
        "print(cola1)\n",
        "invertirCola(cola1)\n",
        "print(cola1)"
      ],
      "metadata": {
        "colab": {
          "base_uri": "https://localhost:8080/"
        },
        "id": "3Y9OAtVQu3Js",
        "outputId": "68bd1585-b1a6-407a-c898-f782630d5cb5"
      },
      "execution_count": null,
      "outputs": [
        {
          "output_type": "stream",
          "name": "stdout",
          "text": [
            "<-[1, 2, 3, 4]<-\n",
            "<-[4, 3, 2, 1]<-\n"
          ]
        }
      ]
    },
    {
      "cell_type": "markdown",
      "metadata": {
        "id": "c7GRn_aB9j7N"
      },
      "source": [
        "### **Ejercicio 13**\n",
        "\n",
        "Escribir una función que extraiga el primer elemento de una cola y lo ponga en el final, respetando el orden del resto de los elementos.\n",
        "\n"
      ]
    },
    {
      "cell_type": "code",
      "metadata": {
        "id": "tydfGbXxiaTG"
      },
      "source": [
        "def moverPrimerElementoAlFinal(cola):\n",
        "  listaAux=[]\n",
        "  while not cola.estaVacia():\n",
        "    listaAux.append(cola.desencolar())\n",
        "  primerElemento= listaAux.pop(0)\n",
        "  for dato in listaAux:\n",
        "    cola.encolar(dato)\n",
        "  cola.encolar(primerElemento)\n"
      ],
      "execution_count": null,
      "outputs": []
    },
    {
      "cell_type": "code",
      "source": [
        "cola1=Cola([1,2,3,4])\n",
        "print(cola1)\n",
        "moverPrimerElementoAlFinal(cola1)\n",
        "print(cola1)"
      ],
      "metadata": {
        "colab": {
          "base_uri": "https://localhost:8080/"
        },
        "id": "QvwlbeRFyLxu",
        "outputId": "43c2871d-c257-4057-a887-6f2e40f4fceb"
      },
      "execution_count": null,
      "outputs": [
        {
          "output_type": "stream",
          "name": "stdout",
          "text": [
            "<-[1, 2, 3, 4]<-\n",
            "<-[2, 3, 4, 1]<-\n"
          ]
        }
      ]
    },
    {
      "cell_type": "markdown",
      "metadata": {
        "id": "1ymkgIGrzLXy"
      },
      "source": [
        "### **Ejercicio 14**\n",
        "\n",
        "Escribir una función que coloque en el principio de una cola un nuevo elemento."
      ]
    },
    {
      "cell_type": "code",
      "metadata": {
        "id": "d4GH3FgpzMjp"
      },
      "source": [
        "def nuevoElementoAlPrincipio(cola,numero):\n",
        "  listaAux=[]\n",
        "  while not cola.estaVacia():\n",
        "    listaAux.append(cola.desencolar())\n",
        "  cola.encolar(numero)\n",
        "  for dato in listaAux:\n",
        "    cola.encolar(dato)\n",
        "\n",
        "\n",
        "\n"
      ],
      "execution_count": null,
      "outputs": []
    },
    {
      "cell_type": "code",
      "source": [
        "cola1=Cola([1,2,3,4])\n",
        "print(cola1)\n",
        "nuevoElementoAlPrincipio(cola1,4)\n",
        "print(cola1)"
      ],
      "metadata": {
        "colab": {
          "base_uri": "https://localhost:8080/"
        },
        "id": "jPNkNlDt1oNS",
        "outputId": "1aeb0702-cf96-4c91-a44c-7748ac894204"
      },
      "execution_count": null,
      "outputs": [
        {
          "output_type": "stream",
          "name": "stdout",
          "text": [
            "<-[1, 2, 3, 4]<-\n",
            "<-[4, 1, 2, 3, 4]<-\n"
          ]
        }
      ]
    },
    {
      "cell_type": "markdown",
      "metadata": {
        "id": "02nV6J1RzOZI"
      },
      "source": [
        "### **Ejercicio 15**\n",
        "\n",
        "Escribir una función que elimine de una cola todas las ocurrencias de un elemento dado.\n"
      ]
    },
    {
      "cell_type": "code",
      "metadata": {
        "id": "Tyhn88MRzPIc"
      },
      "source": [
        "def eliminarOcurrencias(cola,ocurrencia):\n",
        "  listaAux=[]\n",
        "  while not cola.estaVacia():\n",
        "    listaAux.append(cola.desencolar())\n",
        "  for dato in listaAux:\n",
        "    if dato==ocurrencia:\n",
        "      listaAux.pop(dato)\n",
        "    else:\n",
        "      cola.encolar(dato)\n",
        "\n"
      ],
      "execution_count": null,
      "outputs": []
    },
    {
      "cell_type": "code",
      "source": [
        "cola1=Cola([1,2,3,4,4,5])\n",
        "print(cola1)\n",
        "eliminarOcurrencias(cola1,4)\n",
        "print(cola1)"
      ],
      "metadata": {
        "colab": {
          "base_uri": "https://localhost:8080/"
        },
        "id": "e5AoxzPU2enI",
        "outputId": "a7e5600f-4b5d-42d0-a27e-51c4966f39b4"
      },
      "execution_count": null,
      "outputs": [
        {
          "output_type": "stream",
          "name": "stdout",
          "text": [
            "<-[1, 2, 3, 4, 4, 5]<-\n",
            "<-[1, 2, 3, 5]<-\n"
          ]
        }
      ]
    },
    {
      "cell_type": "markdown",
      "metadata": {
        "id": "SDTxGmiaiapF"
      },
      "source": [
        "### **Ejercicio 16**\n",
        "\n",
        "Escribir una función que recibe una cola de enteros y genera dos colas: una con los números primos y otra con los números no primos, de la cola de entrada. Al terminar la función, la cola de entrada no debe estar modificada."
      ]
    },
    {
      "cell_type": "code",
      "source": [],
      "metadata": {
        "id": "wTrEwye635IX"
      },
      "execution_count": null,
      "outputs": []
    },
    {
      "cell_type": "code",
      "metadata": {
        "id": "I7E3oBINiePN"
      },
      "source": [
        "\n"
      ],
      "execution_count": null,
      "outputs": []
    },
    {
      "cell_type": "markdown",
      "metadata": {
        "id": "JXBJhthXiexG"
      },
      "source": [
        "### **Ejercicio 17**\n",
        "\n",
        "Implementar la función \"mezcla\" de dos colas, que recibe como parámetros dos colas ordenadas de menor a mayor y devuelve una nueva cola con la unión de ambas colas de entrada con sus elementos ordenados de la misma manera.\n"
      ]
    },
    {
      "cell_type": "code",
      "metadata": {
        "id": "Z2bswiGMigDd"
      },
      "source": [],
      "execution_count": null,
      "outputs": []
    },
    {
      "cell_type": "markdown",
      "metadata": {
        "id": "uTlvxV4x-zxg"
      },
      "source": [
        "### **Ejercicio 18**\n",
        "\n",
        "Implementar la función que recibe como parámetro una cola y elimina todos los números pares."
      ]
    },
    {
      "cell_type": "code",
      "metadata": {
        "id": "l8wU_LPh-0NK"
      },
      "source": [
        "def eliminarPares(cola):\n",
        "  listaAux=[]\n",
        "  while not cola.estaVacia():\n",
        "    if cola.tope()%2==0:                              #se puede hacer tanto en el while como en el for de abajo\n",
        "      cola.desencolar()\n",
        "    else:\n",
        "      listaAux.append(cola.desencolar())\n",
        "\n",
        "  for dato in listaAux:\n",
        "    cola.encolar(dato)"
      ],
      "execution_count": null,
      "outputs": []
    },
    {
      "cell_type": "code",
      "source": [
        "cola1=Cola([1,2,3,4,4,5])\n",
        "print(cola1)\n",
        "eliminarPares(cola1)\n",
        "print(cola1)"
      ],
      "metadata": {
        "colab": {
          "base_uri": "https://localhost:8080/"
        },
        "id": "2lcWpqhI61Zk",
        "outputId": "37613503-9c4a-4ccc-e563-4ae5966f6fcd"
      },
      "execution_count": null,
      "outputs": [
        {
          "output_type": "stream",
          "name": "stdout",
          "text": [
            "<-[1, 2, 3, 4, 4, 5]<-\n",
            "<-[1, 3, 5]<-\n"
          ]
        }
      ]
    },
    {
      "cell_type": "code",
      "source": [],
      "metadata": {
        "id": "Eh0_7GbV7LU0"
      },
      "execution_count": null,
      "outputs": []
    }
  ]
}