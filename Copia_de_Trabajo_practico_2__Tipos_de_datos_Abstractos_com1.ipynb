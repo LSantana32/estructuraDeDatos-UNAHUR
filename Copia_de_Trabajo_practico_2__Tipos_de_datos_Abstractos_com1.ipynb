{
  "nbformat": 4,
  "nbformat_minor": 0,
  "metadata": {
    "colab": {
      "provenance": [],
      "include_colab_link": true
    },
    "kernelspec": {
      "name": "python3",
      "display_name": "Python 3"
    }
  },
  "cells": [
    {
      "cell_type": "markdown",
      "metadata": {
        "id": "view-in-github",
        "colab_type": "text"
      },
      "source": [
        "<a href=\"https://colab.research.google.com/github/LSantana32/estructuraDeDatos-UNAHUR/blob/main/Copia_de_Trabajo_practico_2__Tipos_de_datos_Abstractos_com1.ipynb\" target=\"_parent\"><img src=\"https://colab.research.google.com/assets/colab-badge.svg\" alt=\"Open In Colab\"/></a>"
      ]
    },
    {
      "cell_type": "markdown",
      "metadata": {
        "id": "42630xxYD0gZ"
      },
      "source": [
        "# ![alt text](https://upload.wikimedia.org/wikipedia/commons/thumb/c/c3/Python-logo-notext.svg/50px-Python-logo-notext.svg.png) **Trabajo Práctico 2: Tipos de datos abstractos** ![alt text](https://upload.wikimedia.org/wikipedia/commons/thumb/c/c3/Python-logo-notext.svg/50px-Python-logo-notext.svg.png)\n",
        "\n",
        "En este trabajo práctico, vamos a trabajar con la definición de tipos de datos abstractos en Python. Recuerden crear una copia de este archivo en su ***Google Drive*** para tener permisos de edición.\n",
        "\n",
        "### Sergio: **sergio.gonzalez@unahur.edu.ar** ###\n"
      ]
    },
    {
      "cell_type": "markdown",
      "metadata": {
        "id": "cwvo5HlCXnwM"
      },
      "source": [
        "**En cada ejercicio, luego de implementar el TDA pedido, tienen que probar cada una de las operaciones en un programa principal, ejecutando cada una de ellas**\n",
        "\n",
        "**En el video les comenté de la función \\_\\_str__ para la representación de variables de los TDAs, en lugar de \\_\\_str__ pueden implementar \\_\\_repr__ que es similar pero más general (No solo sirve para el *print*, sino para la representación en general de variables del TDA)**\n"
      ]
    },
    {
      "cell_type": "code",
      "source": [
        "def validarTipo2(variable, nombre, tipo, condicion = True):\n",
        "  if isinstance(variable, tipo) and condicion:\n",
        "    return variable\n",
        "  else:\n",
        "    raise Exception(\"La variable \" + nombre + \" debe ser de tipo \" + str(tipo) + \". o falla la condicion \"  )\n",
        "\n",
        "def validarTipo(variable, nombre, tipo):\n",
        "  if isinstance(variable, tipo):\n",
        "    return variable\n",
        "  else:\n",
        "    raise Exception(\"La variable \" + nombre + \" debe ser de tipo \" + str(tipo) + \".\")\n",
        "\n",
        "def validarAño(año):\n",
        "  if validarTipo(año, \"año\", int) and año >= 1870:\n",
        "    return año\n",
        "  else:\n",
        "    raise Exception(\"Año incorrecto\")\n",
        "\n",
        "\n",
        "def validarAltura(altura):\n",
        "  if validarTipo(altura, \"altura\", float) and altura > 0:\n",
        "    return altura\n",
        "  else:\n",
        "    raise Exception(\"Altura incorrecta\")\n"
      ],
      "metadata": {
        "id": "Zw0Z6fHghB1P"
      },
      "execution_count": null,
      "outputs": []
    },
    {
      "cell_type": "code",
      "source": [
        "#TDA Auto\n",
        "#cantPuertas -> int\n",
        "#Marca -> str\n",
        "#Modelo -> str\n",
        "#cilindrada -> float\n",
        "\n",
        "class Auto:\n",
        "  def __init__(self, cantPuertas:int, marca:str, modelo:str, cilindrada:float):\n",
        "    self.__cantidadPuertas = cantPuertas\n",
        "    self.__marca = marca\n",
        "    self.__modelo = modelo\n",
        "    self.__cilindrada = cilindrada\n",
        "\n",
        "  def __repr__(self):\n",
        "    return self.__marca+\"(\"+self.__modelo+\")\"\n",
        "\n",
        "  def esIneficiente(self, cilLimite:float)->bool:\n",
        "    return self.__cilindrada >= cilLimite\n",
        "\n",
        "  def setMarca(self, marcaNueva:str):\n",
        "    self.__marca = marcaNueva"
      ],
      "metadata": {
        "id": "sEit5lNGvaLO"
      },
      "execution_count": null,
      "outputs": []
    },
    {
      "cell_type": "code",
      "source": [
        "auto1 = Auto(5,\"VW\",\"gol\",1.8)\n",
        "print(auto1)\n",
        "print(Auto.esIneficiente(auto1,1.5))\n",
        "print(auto1.esIneficiente(1.5))\n",
        "auto1.setMarca(\"Ford\")\n",
        "print(auto1)"
      ],
      "metadata": {
        "colab": {
          "base_uri": "https://localhost:8080/"
        },
        "id": "cm3McJk3wLjr",
        "outputId": "93ac4c33-f45e-4a49-a710-34d07cca1a51"
      },
      "execution_count": null,
      "outputs": [
        {
          "output_type": "stream",
          "name": "stdout",
          "text": [
            "VW(gol)\n",
            "True\n",
            "True\n",
            "Ford(gol)\n"
          ]
        }
      ]
    },
    {
      "cell_type": "code",
      "source": [
        "#TDA como parametro de una funcion\n",
        "def test(auto:Auto):\n",
        "  auto.setMarca(\"Chevrolet\")"
      ],
      "metadata": {
        "id": "DjOOsbt12leQ"
      },
      "execution_count": null,
      "outputs": []
    },
    {
      "cell_type": "code",
      "source": [
        "auto2 = Auto(4,\"Ford\",\"Fiesta\",1.4)\n",
        "print(auto2)\n",
        "test(auto2)\n",
        "print(auto2)"
      ],
      "metadata": {
        "colab": {
          "base_uri": "https://localhost:8080/"
        },
        "id": "mEWYtb5L250V",
        "outputId": "22b27b69-31bb-4771-b3a9-24b678fcbb9f"
      },
      "execution_count": null,
      "outputs": [
        {
          "output_type": "stream",
          "name": "stdout",
          "text": [
            "Ford(Fiesta)\n",
            "Chevrolet(Fiesta)\n"
          ]
        }
      ]
    },
    {
      "cell_type": "code",
      "source": [
        "import copy #deepcopy\n",
        "#Operador de asignacion\n",
        "auto3 = Auto(4,\"Ford\",\"Fiesta\",1.4)\n",
        "auto4 = copy.deepcopy(auto3)\n",
        "print(auto3)\n",
        "print(auto4)\n",
        "auto3.setMarca(\"VW\")\n",
        "print()\n",
        "print(auto3)\n",
        "print(auto4)"
      ],
      "metadata": {
        "colab": {
          "base_uri": "https://localhost:8080/"
        },
        "id": "gW3lxRgk3wgu",
        "outputId": "df24d6ba-8286-4521-c816-afa9df150231"
      },
      "execution_count": null,
      "outputs": [
        {
          "output_type": "stream",
          "name": "stdout",
          "text": [
            "Ford(Fiesta)\n",
            "Ford(Fiesta)\n",
            "\n",
            "VW(Fiesta)\n",
            "Ford(Fiesta)\n"
          ]
        }
      ]
    },
    {
      "cell_type": "code",
      "source": [
        "auto3.__marca = \"DDD\""
      ],
      "metadata": {
        "id": "nG8tp7bF6ZiZ"
      },
      "execution_count": null,
      "outputs": []
    },
    {
      "cell_type": "markdown",
      "metadata": {
        "id": "DyzOhAhyXPt8"
      },
      "source": [
        "### **Ejercicio 1**\n",
        "\n",
        "Implementar el TDA \"Propiedad\" que modela un inmueble, con una estructura definida por los siguientes componentes:\n",
        "- Calle\n",
        "- Número\n",
        "- Localidad\n",
        "- Año de construcción\n",
        "- Cantidad de ambientes\n",
        "\n",
        "Implementar las siguientes operaciones:\n",
        "- Constructor: Debe incluir las validaciones necesarias, teniendo en cuenta que solo se almacenan propiedades construidas luego de 1870.\n",
        "- \\_\\_repr__: Al usar la función *print* con una variable del tipo propiedad debe mostrar: **'calle' 'numero' ('localidad')**.\n",
        "- mismaLocalidad: Operación que recibe dos propiedades y retorna *True* si estan en la misma localidad y *False* en caso contrario.\n",
        "- mayorNumeración: Operación que recibe dos propiedades y si están en la misma calle, retorna la que posee mayor numeración. Si están calles diferentes debe lanzar una excepción.\n",
        "- calculaImpuestoARBA: Operación que retorna el porcentaje de impuesto inmobiliario de una propiedad, según la siguiente regla:\n",
        " - Propiedades entre 1870 y 1949:\n",
        "   - Entre 1 y 3 ambientes: 5% de impuesto\n",
        "   - Entre 4 y 6 ambientes: 10% de impuesto\n",
        "   - Más de 6 ambientes: 25 % de impuesto\n",
        " - Propiedades desde 1950 hasta la actualidad:\n",
        "   - Entre 1 y 5 ambientes: 5% de impuesto\n",
        "   - Más de 5 ambientes: 35 % de impuesto\n"
      ]
    },
    {
      "cell_type": "code",
      "metadata": {
        "id": "RaEQSMR_cgI_"
      },
      "source": [
        "#def validarString(stringTest):\n",
        "#  if isinstance(strinTest,str):\n",
        "#    stringSalida = stringTest\n",
        "#  else:\n",
        "#    raise Exception(\"Debe ser un string\")\n",
        "#  return(stringSalida)\n",
        "\n",
        "def validadTipo(varTest,tipo,varName):                   #La función isinstance recibe como argumentos un objeto y una clase y devuelve True si el objeto es una instancia de dicha clase o de una subclase de ella.\n",
        "  if isinstance(varTest,tipo):                           #ejemplo isinstance(5, int) devuelve true y isinstance(5,str) devuelve false\n",
        "    varSalida=varTest    #BUENA PRACTICA (es lo mismo que poner el return en el if)\n",
        "  else:\n",
        "    raise Exception(\"La variable \" + varName + \"debe ser un\" + str(tipo))\n",
        "  return varSalida\n",
        "\n",
        "def validadAnioDeConstruccion(anioDeConstruccion):\n",
        "  if validadTipo(anioDeConstruccion,int,\"anioDeConstruccion\"):\n",
        "    if anioDeConstruccion >= 1870:\n",
        "      salida=anioDeConstruccion\n",
        "    else:\n",
        "      raise Exception(\"La variable anioDeConstruccion mayor a 1870\")\n",
        "    return salida\n",
        "\n",
        "class propiedad:\n",
        "  def __init__(self,calle=str,numero=int,localidad=str,anioDeConstruccion=int,cantidadDeAmbientes=int):\n",
        "    self.__calle=validarTipo(calle,str,\"calle\")                                              #validacion\n",
        "    self.__numero=validarTipo(numero,int,\"numero\")\n",
        "    self.__localidad=validarTipo(localidad,str,\"localidad\")\n",
        "    self.__anioDeConstruccion=validadAnioDeConstruccion(anioDeConstruccion)\n",
        "    self.__cantidadDeAmbientes=validarTipo(cantidadDeAmbientes,int,\"cantidadDeAmbientes\")\n",
        "\n",
        "  def __repr__(self):\n",
        "    return self.__calle+self.__numero+\"(\"+self.__localidad+\")\"\n",
        "\n",
        "  def mismaLocalidad(self,other):\n",
        "    self.__localidad== other.__localidad\n",
        "\n",
        "  def mayorNumeracion(self,other):\n",
        "    if self.__calle == other.__calle:\n",
        "      salida=tirameLaMayorNumeracion(self,other)\n",
        "    else:\n",
        "      raise Exception (\"No estan en la misma calle\")\n",
        "    return(salida)\n",
        "\n",
        "  def tirameLaMayorNumeracion(self,other):\n",
        "    if self.__numero > other.__numero:\n",
        "      self.__numero\n",
        "    else:\n",
        "      other.__numero\n",
        "\n",
        "  def calculaImpuestoARBA(self):\n",
        "    if self.__anioDeConstruccion"
      ],
      "execution_count": null,
      "outputs": []
    },
    {
      "cell_type": "code",
      "source": [
        "\n"
      ],
      "metadata": {
        "id": "8imTd3ZjE8tc"
      },
      "execution_count": null,
      "outputs": []
    },
    {
      "cell_type": "markdown",
      "metadata": {
        "id": "rP1dZEXTe-qq"
      },
      "source": [
        "### **Ejercicio 2**\n",
        "\n",
        "Implementar el TDA \"Cuenta\" que modela una cuenta bancaria, la estructura de datos esta compuesta por los siguientes componentes:\n",
        "- Número de cuenta\n",
        "- DNI del titular\n",
        "- Saldo de cuenta actual\n",
        "- Interés anual\n",
        "\n",
        "Implementar las siguientes operaciones:\n",
        "- Constructor: Debe incluir las validaciones necesarias.\n",
        "- \\_\\_repr__: Al usar la función *print* con una variable del tipo cuenta debe mostrar: **Cuenta Nro: 'numero' - Titular: 'dni' ($'saldo')**.\n",
        "- actualizarSaldo: Operación que actualiza el saldo de la cuenta aplicándole el interés diario (interés anual dividido entre 365).\n",
        "- ingresarDinero: Operación que recibe un número e ingresa esa cantidad en la cuenta.\n",
        "- retirarDinero: Operación que recibe un número y extrae esa cantidad de la cuenta (si hay saldo disponible), sino debe lanzar una excepción."
      ]
    },
    {
      "cell_type": "code",
      "metadata": {
        "id": "IEDFppP6hENW"
      },
      "source": [
        "def validadTipo(varTest,tipo,varName):\n",
        "  if isinstance(varTest,tipo):\n",
        "    varSalida=varTest\n",
        "  else:\n",
        "    raise Exception(\"La variable \" + varName + \"debe ser un\" + str(tipo))\n",
        "  return varSalida\n",
        "\n",
        "class cuenta:\n",
        "  def __init__(self,numeroDeCuenta=int,dniDelTitular=int,saldoDeCuentaActual=float,interesAnual=float):\n",
        "    self.__numeroDeCuenta=validadTipo(numeroDeCuenta,int,\"numeroDeCuenta\")\n",
        "    self.__dniDelTitular=validadTipo(dniDelTitular,int,\"dniDelTitular\")\n",
        "    self.__saldoDeCuentaActual=validadTipo(saldoDeCuentaActual,float,\"saldoDeCuentaActual\")\n",
        "    self.__interesAnual=validadTipo(interesAnual,float,\"interesAnual\")\n",
        "\n",
        "  def __repr__(self):\n",
        "    return (\"Cuenta Nro:\"+ str(self.__numeroDeCuenta)+\" - Titular:\"+str(self.__dniDelTitular)+\" ($\"+ str(self.__saldoDeCuentaActual)+\")\")\n",
        "\n",
        "  def actualizarSaldo(self):\n",
        "    self.__saldoDeLaCuenta= self.__saldoDeLaCuenta*(self.__interesAnual/365)\n",
        "\n",
        "  def ingresarDinero(self,saldoAIngresar=int):\n",
        "    self.__saldoDeLaCuenta= self.__saldoDeLaCuenta + saldoAIngresar\n",
        "\n",
        "  def retirarDinero(self,saldoARetirar=int):\n",
        "    self.__saldoDeLaCuenta= self.__saldoDeLaCuenta - saldoARetirar"
      ],
      "execution_count": null,
      "outputs": []
    },
    {
      "cell_type": "code",
      "source": [],
      "metadata": {
        "colab": {
          "base_uri": "https://localhost:8080/"
        },
        "id": "NM1s3HOqNbsv",
        "outputId": "fbeb1699-7592-4168-84f5-86e95d8841a0"
      },
      "execution_count": null,
      "outputs": [
        {
          "output_type": "stream",
          "name": "stdout",
          "text": [
            "Cuenta Nro:2 - Titular:3 ($2.1)\n"
          ]
        }
      ]
    },
    {
      "cell_type": "markdown",
      "metadata": {
        "id": "x8DVU8HlhE2q"
      },
      "source": [
        "### **Ejercicio 3**\n",
        "\n",
        "Implementar el TDA \"Tiempo\" que modela una duracion en horas, minutos y segundos.\n",
        "\n",
        "Se deben implementar las siguientes operaciones:\n",
        "- Constructor: Debe incluir las validaciones necesarias, la hora debe ser un número positivo y los minutos y segundos deben ser números positivos entre 0 y 59.\n",
        "- \\_\\_repr__: Al usar la función *print* con una variable del tipo tiempo debe mostrar: **'horas':'minutos':'segundos'**.\n",
        "- tiempoASegundos: Operación que toma una variable de tipo tiempo y retorna la cantidad en segundos.\n",
        "- tiemposDesdeSegundos: Operación que recibe un tiempo en segundos como parámetro y retorna una variable de tipo tiempo, en horas minutos y segundos.\n",
        "- mayorDuracion: Operación que recibe dos variables de tipo tiempo y retorna la de mayor duración."
      ]
    },
    {
      "cell_type": "code",
      "source": [
        "def validarTipo(varTest,tipo,varName){\n",
        "    if isinstance(varTest,tipo):\n",
        "      salida=varTest\n",
        "    else:\n",
        "      raise Exception(f\"La variable {varName} no es de tipo {tipo}\")\n",
        "}\n",
        "\n",
        "def validarHoras(horas){\n",
        "    if validarTipo(horas,int,\"horas\"):\n",
        "      if horas >= 0 :\n",
        "        salida=horas\n",
        "      else:\n",
        "        raise Exception (\"La variable horas debe ser un numero positivo \")\n",
        "}\n",
        "\n",
        "def validarMinutosYSegundos(varTest,varName){\n",
        "    if validarTipo(varTest,int,varName):\n",
        "      if varTest in range (0,60):\n",
        "        salida=varTest\n",
        "      else:\n",
        "        raise Exception (f\"La variable {varName} debe ser un numero positivo \")\n",
        "\n",
        "}\n",
        "}\n",
        "\n",
        "def tiempo:\n",
        "  def __init__(self,horas=int,minutos=int,segundos=int):\n",
        "    self.__horas=validarNumeroPositivo(horas)\n",
        "    self.__minutos=validarMinutosYSegundos(minutos,\"minutos\")\n",
        "    self.__segundos=validarMinutosYSegundos(segundos,\"segundos\")\n",
        "\n",
        "def __repr__(self):\n",
        "  return(f\"{horas}:{minutos}:{segundos}\")\n",
        "\n",
        "def tiempoASegundos:\n",
        "  self.__segundos= (self.__horas*60*60)+(self.__minutos*60)+self.__segundos\n",
        "  return(self.__segundos)\n",
        "\n",
        "  def __sub__(t1,t2): #operador -\n",
        "    #Retorna una variablke de tipo Tiempo con la diferencia de tiempos\n",
        "    diferenciaSegundos = abs(t2.tiempoASegundos()-t1.tiempoASegundos())\n",
        "    return Tiempo.tiemposDesdeSegundos(diferenciaSegundos)\n",
        "\n",
        "def tiemposDesdeSegundos(tiempoEnsegundos):\n",
        "\n",
        "def mayorDuracion(self,other):\n",
        "\n",
        "\n",
        "\n"
      ],
      "metadata": {
        "id": "ZtL44I9lI1Lf"
      },
      "execution_count": null,
      "outputs": []
    },
    {
      "cell_type": "markdown",
      "source": [
        "\n",
        "### **Ejercicio 4: TDA en dos niveles**\n",
        "\n",
        "Modelar el TDA \"Cronometro\", que contiene un tiempo inicial y un tiempo final.\n",
        "\n",
        "Se deben implementar las siguientes operaciones:\n",
        "\n",
        "- Constructor: Queremos modelar el tiempo inicial y final con el TDA \"Tiempo\". Se pueden tener dos variables que se inicializaran en otra operación de la interface.\n",
        "- Comenzar: Debe recibir las hs,min y seg iniciales.\n",
        "- Finalizar: Debe recibir las hs,min y seg finales.\n",
        "- TiempoEmpleado: Devuelve una variable de tipo Tiempo con la diferencia entre el tiempo inicial y el final."
      ],
      "metadata": {
        "id": "5gcdaYCShYkt"
      }
    },
    {
      "cell_type": "code",
      "metadata": {
        "id": "5Y-A98mZkTEq"
      },
      "source": [
        "def validarTipo(varTest,tipo,varName){\n",
        "    if isinstance(varTest,tipo):\n",
        "      salida=varTest\n",
        "    else:\n",
        "      raise Exception(f\"La variable {varName} no es de tipo {tipo}\")\n",
        "}\n",
        "\n",
        "def cronometro:\n",
        "  def __initial__(self, t1:tiempo=None, t2:tiempo=None):\n",
        "    self.__tiempoInicial=t1\n",
        "    self.__tiempoFinal=t2\n",
        "  def __repr__(self):\n",
        "    return (f\"{self.__tiempoInicial} - {self.__tiempoFinal}\")\n",
        "  def comenzar (self, h=int,m=int,s=int):\n",
        "    self.__tiempoInicial= tiempo(h=int,m=int,s=int)\n",
        "  def finalizar (self, h=int,m=int,s=int):\n",
        "    self.__tiempoFinal= tiempo(h=int,m=int,s=int)\n",
        "  def tiempoEmpleado(self):\n",
        "    return self.__tiempoInicial - self.__tiempoFinal\n"
      ],
      "execution_count": null,
      "outputs": []
    },
    {
      "cell_type": "markdown",
      "source": [
        "### **Ejercicio 5: TDA en dos niveles**\n",
        "\n",
        "Modelar el TDA \"Rectangulo\" a partir de los dos lados que lo definen.\n",
        "\n",
        "Se deben implementar las siguientes operaciones:\n",
        "\n",
        "- Constructor: Recibe las longitudes de ambos lados\n",
        "- area: calcula y devuelve el area del rectangulo\n",
        "- perimetro: calcula y devuelve el perimetro\n",
        "- \\_\\_repr__ : imprime la longitud de los lados\n",
        "\n",
        "Luego, modelar el TDA \"Cuadrado\" teniendo unicamente como variable interna en la estructura una variable de tipo \"Rectangulo\". El TDA Cuadrado debe tener las mismas operaciones que el TDA Rectangulo.\n",
        "\n",
        "Ayuda:\n",
        "\n",
        "Área(Rectángulo) = lado1 \\* lado2\n",
        "\n",
        "Área(Cuadrado) = lado^2\n",
        "\n",
        "Perímetro(Rectangulo) = 2 \\* lado1 + 2 \\* lado2\n",
        "\n",
        "Perímetro(Cuadrado) = 4 \\* lado"
      ],
      "metadata": {
        "id": "TX3EbDojGmAV"
      }
    },
    {
      "cell_type": "code",
      "source": [
        "class rectangulo:\n",
        "  def __init__(self,lado1=float,lado2=float):\n",
        "    self.__lado1=lado1\n",
        "    self.__lado2=lado2\n",
        "\n",
        "  def area(self):\n",
        "    return self.__lado1 * self.__lado2\n",
        "\n",
        "  def perimetro(self):\n",
        "    return 2*self.__lado1 + 2*self.__lado2\n",
        "\n",
        "  def __repr__(self):\n",
        "    return f\"{self.__lado1}-{self.__lado2}\"\n",
        "\n",
        "class cuadrado:\n",
        "  def __init__(self,lado=float):\n",
        "    self.__forma=rectangulo(lado,lado)\n",
        "\n",
        "  def area(self):\n",
        "    return self.__forma.area()\n",
        "\n",
        "  def perimetro(self):\n",
        "\n",
        "    return self.__forma.perimetro()\n",
        "\n",
        "  def __repr__(self):\n",
        "    return f\"{self.__forma}\"\n",
        "\n",
        "\n",
        "\n"
      ],
      "metadata": {
        "id": "X7EFCmDFG5Ph"
      },
      "execution_count": null,
      "outputs": []
    },
    {
      "cell_type": "markdown",
      "metadata": {
        "id": "30rZj5FbkT9T"
      },
      "source": [
        "### **Ejercicio 6**\n",
        "\n",
        "Las plataformas de música online como ***YouTube*** y ***Spotify*** almacenan la información asociada a las canciones en estructuras de datos complejas para hacer las búsquedas de manera eficiente. Para esto se deben modelar las canciones. Implementar el TDA \"Cancion\" con los siguientes componentes:\n",
        "- Nombre\n",
        "- Artista\n",
        "- Duración\n",
        "- Género musical (6 posibles: Rock, Jazz, Blues, Funk, Reggae y Rap).\n",
        "- Año de edición\n",
        "- Número de likes\n",
        "\n",
        "Implementar las siguientes operaciones:\n",
        "- Constructor: Debe incluir las validaciones necesarias.\n",
        "- \\_\\_repr__: Al usar la función *print* con una variable del tipo canción debe mostrar: **'nombre' - 'artista' ('duracion')**.\n",
        "- mayorDuracion: Operación que recibe dos canciones por parámetros y retorna la de mayor duración.\n",
        "- agregaLikes: Operación que recibe un número e incrementa la cantidad de likes de la canción en ese número.\n",
        "- masVotada: Operacion que recibe dos canciones y sin son del mismo artista y del mismo género musical, retorna la que tiene mayor cantidad de likes. En caso contrario debe lanzar una excepción."
      ]
    },
    {
      "cell_type": "code",
      "metadata": {
        "id": "6PllhJFLxsp_"
      },
      "source": [
        "def validadTipo(varTest,tipo,varName):\n",
        "  if isinstance(varTest,tipo):\n",
        "    varSalida=varTest\n",
        "  else:\n",
        "    raise Exception(\"La variable \" + varName + \"debe ser un\" + str(tipo))\n",
        "  return varSalida\n",
        "\n",
        "def cancion:\n",
        "  def __init__(self, nombre=str,artista=str,duracion=int,generoMusical=str,anio=int,nroLikes=int):\n",
        "    self.__nombre=validadTipo(nombre,str,\"nombre\")\n",
        "    self.__artista=validadTipo(artista,str,\"artista\")\n",
        "    self.__duracion=validadTipo(duracion,int,\"duracion\")\n",
        "    self.__generoMusical=validadTipo(generoMusical,str,\"generoMusical\")\n",
        "    self.__anio=validadTipo(anio,int,\"anio\")\n",
        "    self.__nroLikes=validadTipo(nroLikes,int,\"nroLikes\")\n"
      ],
      "execution_count": null,
      "outputs": []
    }
  ]
}